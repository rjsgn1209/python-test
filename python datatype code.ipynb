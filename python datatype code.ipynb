{
 "cells": [
  {
   "cell_type": "code",
   "execution_count": 8,
   "id": "9632975c",
   "metadata": {},
   "outputs": [],
   "source": [
    "# Set - 중복데이터가 없다. 순서가 없으므로 인덱스가 없다... 집합연산..."
   ]
  },
  {
   "cell_type": "code",
   "execution_count": 20,
   "id": "171d3034",
   "metadata": {},
   "outputs": [],
   "source": [
    "# Set\n",
    "\n",
    "# 원소가 없는 set인 s를 만드세요\n",
    "# s에 원소 'sky'와 'earth'를 추가하세요\n",
    "# s에 1,2 두 원소를 추가하세요\n",
    "# s에서 'sky'를 삭제하세요\n",
    "\n",
    "A = {1,2,3,4,5,6}\n",
    "B = {1,2,3,7,8,9}\n",
    "C = {1,2,3}\n",
    "# 두 집합의 합집합을 출력\n",
    "# 두 집합의 교집합을 출력\n",
    "# A의 B에 대한 차집합\n",
    "# 대칭차집합\n",
    "# C가 A의 부분집합인지 확인\n",
    "# A가 C를 포함하는지 확인\n",
    "\n",
    "# 집합 B의 길이를 출력\n",
    "# 집합 B의 최대값 출력\n",
    "# 집합 B의 최소값 출력\n",
    "# 집합 B의 합을 출력\n",
    "# 집합 B의 평균출력\n",
    "# 집합 B의 내림차순 출력\n",
    "# 집합 B에 5가 포함되어 있는지 확인\n"
   ]
  },
  {
   "cell_type": "code",
   "execution_count": 21,
   "id": "ea242b38",
   "metadata": {},
   "outputs": [
    {
     "data": {
      "text/plain": [
       "True"
      ]
     },
     "execution_count": 21,
     "metadata": {},
     "output_type": "execute_result"
    }
   ],
   "source": [
    "A.issuperset(C)"
   ]
  },
  {
   "cell_type": "code",
   "execution_count": 22,
   "id": "8e766a90",
   "metadata": {},
   "outputs": [
    {
     "data": {
      "text/plain": [
       "6"
      ]
     },
     "execution_count": 22,
     "metadata": {},
     "output_type": "execute_result"
    }
   ],
   "source": [
    "len(A)"
   ]
  },
  {
   "cell_type": "code",
   "execution_count": 23,
   "id": "ad2bc5d7",
   "metadata": {},
   "outputs": [
    {
     "data": {
      "text/plain": [
       "6"
      ]
     },
     "execution_count": 23,
     "metadata": {},
     "output_type": "execute_result"
    }
   ],
   "source": [
    "max(A)"
   ]
  },
  {
   "cell_type": "code",
   "execution_count": 24,
   "id": "1282144b",
   "metadata": {},
   "outputs": [
    {
     "data": {
      "text/plain": [
       "1"
      ]
     },
     "execution_count": 24,
     "metadata": {},
     "output_type": "execute_result"
    }
   ],
   "source": [
    "min(A)"
   ]
  },
  {
   "cell_type": "code",
   "execution_count": 25,
   "id": "8c10679c",
   "metadata": {},
   "outputs": [
    {
     "data": {
      "text/plain": [
       "3.5"
      ]
     },
     "execution_count": 25,
     "metadata": {},
     "output_type": "execute_result"
    }
   ],
   "source": [
    "sum(A)/len(A)"
   ]
  },
  {
   "cell_type": "code",
   "execution_count": 27,
   "id": "6ddb5b68",
   "metadata": {},
   "outputs": [
    {
     "ename": "NameError",
     "evalue": "name 'np' is not defined",
     "output_type": "error",
     "traceback": [
      "\u001b[1;31m---------------------------------------------------------------------------\u001b[0m",
      "\u001b[1;31mNameError\u001b[0m                                 Traceback (most recent call last)",
      "\u001b[1;32m~\\AppData\\Local\\Temp/ipykernel_14120/2488863598.py\u001b[0m in \u001b[0;36m<module>\u001b[1;34m\u001b[0m\n\u001b[1;32m----> 1\u001b[1;33m \u001b[0mnp\u001b[0m\u001b[1;33m.\u001b[0m\u001b[0mmean\u001b[0m\u001b[1;33m(\u001b[0m\u001b[0mlist\u001b[0m\u001b[1;33m(\u001b[0m\u001b[0mA\u001b[0m\u001b[1;33m)\u001b[0m\u001b[1;33m)\u001b[0m\u001b[1;33m\u001b[0m\u001b[1;33m\u001b[0m\u001b[0m\n\u001b[0m",
      "\u001b[1;31mNameError\u001b[0m: name 'np' is not defined"
     ]
    }
   ],
   "source": [
    "np.mean(list(A))"
   ]
  },
  {
   "cell_type": "code",
   "execution_count": 28,
   "id": "a37eed08",
   "metadata": {},
   "outputs": [
    {
     "data": {
      "text/plain": [
       "[6, 5, 4, 3, 2, 1]"
      ]
     },
     "execution_count": 28,
     "metadata": {},
     "output_type": "execute_result"
    }
   ],
   "source": [
    "sorted(A, reverse=True)"
   ]
  },
  {
   "cell_type": "code",
   "execution_count": 29,
   "id": "ff6fcecd",
   "metadata": {},
   "outputs": [
    {
     "data": {
      "text/plain": [
       "True"
      ]
     },
     "execution_count": 29,
     "metadata": {},
     "output_type": "execute_result"
    }
   ],
   "source": [
    "5 in A"
   ]
  },
  {
   "cell_type": "code",
   "execution_count": 30,
   "id": "64381fa5",
   "metadata": {},
   "outputs": [],
   "source": [
    "# Dictionary\n",
    "\n",
    "# 'mydict'라는 딕셔너리를 만드세요.\n",
    "# 'red':4, 'blue':3, 'green':1 세 요소를 추가하세요.\n",
    "# key에 'blue'가 있는지 확인하세요.\n",
    "# mydict의 길이를 출력하세요.\n",
    "# 'red'의 값을 출력하세요.\n",
    "# 'red'의 값을 10으로 수정하세요.\n",
    "# key값만 출력하세요\n",
    "# value값만 출력하세요\n",
    "# key와 value를 튜플로 출력하세요.\n",
    "# (key기준으로 정렬하세요.)\n",
    "# (value기준으로 정렬하세요)\n",
    "# key 'blue'요소를 삭제하세요\n",
    "# key 'pink'요소 값을 출력하되 오류가 없도록 하세요\n",
    "# key 'pink' 값을 출력하되 없으면, value 20으로 새로이 추가하세요\n",
    "# value에 20이 있는지 확인하세요.\n",
    "# key는 'yellow'에 value는 30을 추가하세요.\n",
    "# yourdict = {'파랑':50, '빨강':70}을 합하세요.."
   ]
  },
  {
   "cell_type": "code",
   "execution_count": 33,
   "id": "3836cce0",
   "metadata": {},
   "outputs": [],
   "source": [
    "d = {}"
   ]
  },
  {
   "cell_type": "code",
   "execution_count": 35,
   "id": "77034913",
   "metadata": {},
   "outputs": [
    {
     "data": {
      "text/plain": [
       "{'red': 4}"
      ]
     },
     "execution_count": 35,
     "metadata": {},
     "output_type": "execute_result"
    }
   ],
   "source": [
    "d['red'] = 4\n",
    "d"
   ]
  },
  {
   "cell_type": "code",
   "execution_count": 36,
   "id": "65fde601",
   "metadata": {},
   "outputs": [
    {
     "data": {
      "text/plain": [
       "{'red': 4, 'blue': 3, 'green': 1}"
      ]
     },
     "execution_count": 36,
     "metadata": {},
     "output_type": "execute_result"
    }
   ],
   "source": [
    "d['blue'] = 3  #  없는 key에 값을 대입하면, 원속가 추가가됨\n",
    "d['green'] = 1\n",
    "d"
   ]
  },
  {
   "cell_type": "code",
   "execution_count": 41,
   "id": "0a078863",
   "metadata": {},
   "outputs": [
    {
     "data": {
      "text/plain": [
       "{'red': 7, 'blue': 3, 'green': 1}"
      ]
     },
     "execution_count": 41,
     "metadata": {},
     "output_type": "execute_result"
    }
   ],
   "source": [
    "d['blue'] = 3  #  없는 key에 값을 대입하면, 원속가 추가가됨\n",
    "d['green'] = 1\n",
    "d"
   ]
  },
  {
   "cell_type": "code",
   "execution_count": 42,
   "id": "2dd2630b",
   "metadata": {},
   "outputs": [
    {
     "data": {
      "text/plain": [
       "{'red': 7, 'blue': 3, 'green': 1}"
      ]
     },
     "execution_count": 42,
     "metadata": {},
     "output_type": "execute_result"
    }
   ],
   "source": [
    "d['red'] = 7\n",
    "d"
   ]
  },
  {
   "cell_type": "code",
   "execution_count": 43,
   "id": "e99e02e3",
   "metadata": {},
   "outputs": [
    {
     "data": {
      "text/plain": [
       "True"
      ]
     },
     "execution_count": 43,
     "metadata": {},
     "output_type": "execute_result"
    }
   ],
   "source": [
    "'blue' in d"
   ]
  },
  {
   "cell_type": "code",
   "execution_count": 44,
   "id": "8b42cce7",
   "metadata": {},
   "outputs": [
    {
     "data": {
      "text/plain": [
       "3"
      ]
     },
     "execution_count": 44,
     "metadata": {},
     "output_type": "execute_result"
    }
   ],
   "source": [
    "len(d)"
   ]
  },
  {
   "cell_type": "code",
   "execution_count": 45,
   "id": "6063a311",
   "metadata": {},
   "outputs": [
    {
     "data": {
      "text/plain": [
       "7"
      ]
     },
     "execution_count": 45,
     "metadata": {},
     "output_type": "execute_result"
    }
   ],
   "source": [
    "d['red']"
   ]
  },
  {
   "cell_type": "code",
   "execution_count": 46,
   "id": "e6291010",
   "metadata": {},
   "outputs": [
    {
     "data": {
      "text/plain": [
       "{'red': 10, 'blue': 3, 'green': 1}"
      ]
     },
     "execution_count": 46,
     "metadata": {},
     "output_type": "execute_result"
    }
   ],
   "source": [
    "d['red'] = 10\n",
    "d"
   ]
  },
  {
   "cell_type": "code",
   "execution_count": 47,
   "id": "ab07b7ba",
   "metadata": {},
   "outputs": [
    {
     "data": {
      "text/plain": [
       "dict_keys(['red', 'blue', 'green'])"
      ]
     },
     "execution_count": 47,
     "metadata": {},
     "output_type": "execute_result"
    }
   ],
   "source": [
    "d.keys()"
   ]
  },
  {
   "cell_type": "code",
   "execution_count": 48,
   "id": "bce41396",
   "metadata": {},
   "outputs": [
    {
     "data": {
      "text/plain": [
       "dict_values([10, 3, 1])"
      ]
     },
     "execution_count": 48,
     "metadata": {},
     "output_type": "execute_result"
    }
   ],
   "source": [
    "d.values()"
   ]
  },
  {
   "cell_type": "code",
   "execution_count": 49,
   "id": "81327d0b",
   "metadata": {},
   "outputs": [
    {
     "data": {
      "text/plain": [
       "dict_items([('red', 10), ('blue', 3), ('green', 1)])"
      ]
     },
     "execution_count": 49,
     "metadata": {},
     "output_type": "execute_result"
    }
   ],
   "source": [
    "d.items()"
   ]
  },
  {
   "cell_type": "code",
   "execution_count": 53,
   "id": "24465637",
   "metadata": {},
   "outputs": [
    {
     "data": {
      "text/plain": [
       "[('blue', 3), ('green', 1), ('red', 10)]"
      ]
     },
     "execution_count": 53,
     "metadata": {},
     "output_type": "execute_result"
    }
   ],
   "source": [
    "sorted(d.items(), key = lambda x: x[0])"
   ]
  },
  {
   "cell_type": "code",
   "execution_count": 54,
   "id": "df252077",
   "metadata": {},
   "outputs": [
    {
     "data": {
      "text/plain": [
       "[('green', 1), ('blue', 3), ('red', 10)]"
      ]
     },
     "execution_count": 54,
     "metadata": {},
     "output_type": "execute_result"
    }
   ],
   "source": [
    "sorted(d.items(), key = lambda x:x[1])"
   ]
  },
  {
   "cell_type": "code",
   "execution_count": 55,
   "id": "f875a647",
   "metadata": {},
   "outputs": [
    {
     "data": {
      "text/plain": [
       "3"
      ]
     },
     "execution_count": 55,
     "metadata": {},
     "output_type": "execute_result"
    }
   ],
   "source": [
    "d.pop('blue')"
   ]
  },
  {
   "cell_type": "code",
   "execution_count": 56,
   "id": "b13e11ae",
   "metadata": {},
   "outputs": [
    {
     "data": {
      "text/plain": [
       "{'red': 10, 'green': 1}"
      ]
     },
     "execution_count": 56,
     "metadata": {},
     "output_type": "execute_result"
    }
   ],
   "source": [
    "d"
   ]
  },
  {
   "cell_type": "code",
   "execution_count": 59,
   "id": "30080dd7",
   "metadata": {},
   "outputs": [],
   "source": [
    "# dict.get('key') = 없는 key를 요청 시 에러를 발생시키지 않는다..\n",
    "# dict['key'] - 없는 key를 요청 시 에러 발생..\n",
    "# dict.setdefault('key', value) - key가 존재하면, value를 리턴, 없는 key라면 (key, value) 원소를 추가\n",
    "\n",
    "d.get(\"pink\")"
   ]
  },
  {
   "cell_type": "code",
   "execution_count": 60,
   "id": "c9a7440d",
   "metadata": {},
   "outputs": [
    {
     "data": {
      "text/plain": [
       "10"
      ]
     },
     "execution_count": 60,
     "metadata": {},
     "output_type": "execute_result"
    }
   ],
   "source": [
    "d.setdefault('red', 100)\n"
   ]
  },
  {
   "cell_type": "code",
   "execution_count": 61,
   "id": "884e6a22",
   "metadata": {},
   "outputs": [
    {
     "data": {
      "text/plain": [
       "100"
      ]
     },
     "execution_count": 61,
     "metadata": {},
     "output_type": "execute_result"
    }
   ],
   "source": [
    "d.setdefault('pink', 100)"
   ]
  },
  {
   "cell_type": "code",
   "execution_count": 63,
   "id": "5cc1c0d1",
   "metadata": {},
   "outputs": [
    {
     "data": {
      "text/plain": [
       "{'red': 10, 'green': 1, 'pink': 100}"
      ]
     },
     "execution_count": 63,
     "metadata": {},
     "output_type": "execute_result"
    }
   ],
   "source": [
    "d"
   ]
  },
  {
   "cell_type": "code",
   "execution_count": 64,
   "id": "232f4042",
   "metadata": {},
   "outputs": [
    {
     "data": {
      "text/plain": [
       "True"
      ]
     },
     "execution_count": 64,
     "metadata": {},
     "output_type": "execute_result"
    }
   ],
   "source": [
    "10 in d.values()"
   ]
  },
  {
   "cell_type": "code",
   "execution_count": 66,
   "id": "6388f1d2",
   "metadata": {},
   "outputs": [
    {
     "data": {
      "text/plain": [
       "{'red': 10, 'green': 1, 'pink': 100, 'yellow': 30}"
      ]
     },
     "execution_count": 66,
     "metadata": {},
     "output_type": "execute_result"
    }
   ],
   "source": [
    "d['yellow'] = 30\n",
    "d"
   ]
  },
  {
   "cell_type": "code",
   "execution_count": 67,
   "id": "f8d84277",
   "metadata": {},
   "outputs": [
    {
     "data": {
      "text/plain": [
       "{'red': 10, 'green': 1, 'pink': 100, 'yellow': 30, '파랑': 50, '빨강': 70}"
      ]
     },
     "execution_count": 67,
     "metadata": {},
     "output_type": "execute_result"
    }
   ],
   "source": [
    "yourdict = {'파랑':50, '빨강':70}\n",
    "d.update(yourdict)\n",
    "d"
   ]
  },
  {
   "cell_type": "code",
   "execution_count": null,
   "id": "1e768e8c",
   "metadata": {},
   "outputs": [],
   "source": []
  }
 ],
 "metadata": {
  "kernelspec": {
   "display_name": "Python 3 (ipykernel)",
   "language": "python",
   "name": "python3"
  },
  "language_info": {
   "codemirror_mode": {
    "name": "ipython",
    "version": 3
   },
   "file_extension": ".py",
   "mimetype": "text/x-python",
   "name": "python",
   "nbconvert_exporter": "python",
   "pygments_lexer": "ipython3",
   "version": "3.9.7"
  }
 },
 "nbformat": 4,
 "nbformat_minor": 5
}
