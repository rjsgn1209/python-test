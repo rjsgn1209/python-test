{
 "cells": [
  {
   "cell_type": "code",
   "execution_count": 1,
   "id": "3f34880f",
   "metadata": {},
   "outputs": [],
   "source": [
    "# class\n",
    "\n",
    "# 자주 함께 사용하는 함수들과 변수들을 하나의 덩어리로 묶어서 사용하자...\n",
    "# class - 함수와 변수들의 덩어리.. 원본.. 보존..\n",
    "# class를 복사 => instance를 생성한다. 객체를 생성..\n",
    "\n",
    "# class 내에 있는 함수 - 메소드(method)\n",
    "# class 내에 있는 변수 - 속성(attribute)\n",
    "\n",
    "# class - 붕어빵 기계 instance - 붕어빵 "
   ]
  },
  {
   "cell_type": "code",
   "execution_count": 4,
   "id": "972d7e1c",
   "metadata": {},
   "outputs": [
    {
     "name": "stdout",
     "output_type": "stream",
     "text": [
      "====================\n",
      "Name :yuna\n",
      "Email :yuna@hanmail.net\n",
      "Address:Seoul\n",
      "====================\n"
     ]
    }
   ],
   "source": [
    "# 명함을 찍는 코드\n",
    "\n",
    "print('='*20)\n",
    "print(\"Name :{}\".format('yuna'))\n",
    "print('Email :{}'.format('yuna@hanmail.net'))\n",
    "print('Address:{}'.format('Seoul'))\n",
    "print('='*20)"
   ]
  },
  {
   "cell_type": "code",
   "execution_count": 8,
   "id": "b77d94bd",
   "metadata": {},
   "outputs": [],
   "source": [
    "# 함수\n",
    "\n",
    "def BusinessCard():\n",
    "    print('='*20)\n",
    "    print(\"Name :{}\".format('yuna'))\n",
    "    print('Email :{}'.format('yuna@hanmail.net'))\n",
    "    print('Address:{}'.format('Seoul'))\n",
    "    print('='*20)"
   ]
  },
  {
   "cell_type": "code",
   "execution_count": 9,
   "id": "4b4118f0",
   "metadata": {},
   "outputs": [
    {
     "name": "stdout",
     "output_type": "stream",
     "text": [
      "====================\n",
      "Name :yuna\n",
      "Email :yuna@hanmail.net\n",
      "Address:Seoul\n",
      "====================\n"
     ]
    }
   ],
   "source": [
    "BusinessCard()"
   ]
  },
  {
   "cell_type": "code",
   "execution_count": 10,
   "id": "ee9f1198",
   "metadata": {},
   "outputs": [],
   "source": [
    "# 매개변수..\n",
    "\n",
    "def BusinessCard(name, email, address):\n",
    "    print('='*20)\n",
    "    print(\"Name :{}\".format(name))\n",
    "    print('Email :{}'.format(email))\n",
    "    print('Address:{}'.format(address))\n",
    "    print('='*20)"
   ]
  },
  {
   "cell_type": "code",
   "execution_count": 11,
   "id": "7f9772ac",
   "metadata": {},
   "outputs": [
    {
     "name": "stdout",
     "output_type": "stream",
     "text": [
      "====================\n",
      "Name :yuna\n",
      "Email :yuna@hanmail.net\n",
      "Address:Seoul\n",
      "====================\n"
     ]
    }
   ],
   "source": [
    "name = 'yuna'\n",
    "email = 'yuna@hanmail.net'\n",
    "address = 'Seoul'\n",
    "\n",
    "BusinessCard(name, email, address)"
   ]
  },
  {
   "cell_type": "code",
   "execution_count": 12,
   "id": "b2cd7020",
   "metadata": {},
   "outputs": [
    {
     "name": "stdout",
     "output_type": "stream",
     "text": [
      "====================\n",
      "Name :park\n",
      "Email :park@hanmail.net\n",
      "Address:lncheon\n",
      "====================\n"
     ]
    }
   ],
   "source": [
    "name = 'park'\n",
    "email = 'park@hanmail.net'\n",
    "address = 'lncheon'\n",
    "\n",
    "BusinessCard(name, email, address)"
   ]
  },
  {
   "cell_type": "code",
   "execution_count": null,
   "id": "7c8fc542",
   "metadata": {},
   "outputs": [],
   "source": []
  },
  {
   "cell_type": "code",
   "execution_count": 13,
   "id": "0b8635e0",
   "metadata": {},
   "outputs": [],
   "source": [
    "# class - 자주 함께 사용하는  변수와 함수들을 묶자..\n",
    "# 메소드가 self라는 매개변수를 받는다 - 인스턴스 메소드\n",
    "# 변수도 앞에 self를 붙인다.. - 인스턴스 변수\n",
    "\n",
    "# self - 인스턴스의 유니크한 주소값"
   ]
  },
  {
   "cell_type": "code",
   "execution_count": 15,
   "id": "868862ea",
   "metadata": {},
   "outputs": [
    {
     "ename": "SyntaxError",
     "evalue": "invalid syntax (Temp/ipykernel_12316/3407365709.py, line 6)",
     "output_type": "error",
     "traceback": [
      "\u001b[1;36m  File \u001b[1;32m\"C:\\Users\\bitcamp\\AppData\\Local\\Temp/ipykernel_12316/3407365709.py\"\u001b[1;36m, line \u001b[1;32m6\u001b[0m\n\u001b[1;33m    def BusinessCard(self.name, email, address):\u001b[0m\n\u001b[1;37m                         ^\u001b[0m\n\u001b[1;31mSyntaxError\u001b[0m\u001b[1;31m:\u001b[0m invalid syntax\n"
     ]
    }
   ],
   "source": [
    "class Businesscard:\n",
    "    name = 'park'\n",
    "    email = 'park@hanmail.net'\n",
    "    address = 'lncheon'\n",
    "    \n",
    "    def BusinessCard(self.name, email, address):\n",
    "        print('='*20)\n",
    "        print(\"Name :{}\".format(name))\n",
    "        print('Email :{}'.format(email))\n",
    "        print('Address:{}'.format(address))\n",
    "        print('='*20)"
   ]
  },
  {
   "cell_type": "code",
   "execution_count": 17,
   "id": "0160fad8",
   "metadata": {},
   "outputs": [
    {
     "ename": "TypeError",
     "evalue": "BusinessCard() missing 3 required positional arguments: 'name', 'email', and 'address'",
     "output_type": "error",
     "traceback": [
      "\u001b[1;31m---------------------------------------------------------------------------\u001b[0m",
      "\u001b[1;31mTypeError\u001b[0m                                 Traceback (most recent call last)",
      "\u001b[1;32m~\\AppData\\Local\\Temp/ipykernel_12316/714691876.py\u001b[0m in \u001b[0;36m<module>\u001b[1;34m\u001b[0m\n\u001b[1;32m----> 1\u001b[1;33m \u001b[0mbc\u001b[0m \u001b[1;33m=\u001b[0m \u001b[0mBusinessCard\u001b[0m\u001b[1;33m(\u001b[0m\u001b[1;33m)\u001b[0m\u001b[1;33m\u001b[0m\u001b[1;33m\u001b[0m\u001b[0m\n\u001b[0m\u001b[0;32m      2\u001b[0m \u001b[0mbc\u001b[0m\u001b[1;33m,\u001b[0m\u001b[0mBysunessCard\u001b[0m\u001b[1;33m(\u001b[0m\u001b[1;34m'park'\u001b[0m\u001b[1;33m,\u001b[0m \u001b[1;34m'park@hanmail.net'\u001b[0m\u001b[1;33m,\u001b[0m \u001b[1;34m'seoul'\u001b[0m\u001b[1;33m)\u001b[0m\u001b[1;33m\u001b[0m\u001b[1;33m\u001b[0m\u001b[0m\n",
      "\u001b[1;31mTypeError\u001b[0m: BusinessCard() missing 3 required positional arguments: 'name', 'email', and 'address'"
     ]
    }
   ],
   "source": [
    "bc = BusinessCard()\n",
    "bc,BysunessCard('park', 'park@hanmail.net', 'seoul')"
   ]
  },
  {
   "cell_type": "code",
   "execution_count": 24,
   "id": "073c7ad9",
   "metadata": {},
   "outputs": [],
   "source": [
    "class BusinessCard:\n",
    "    \n",
    "    def set_info(self, name, email, address):\n",
    "        self.name = name # self.변수 = 안수톤수 변수 (특정 인스턴스 내에서만 공유되는 변수)\n",
    "        self.email = email\n",
    "        self.address = address\n",
    "    \n",
    "    def BusinessCard(self):\n",
    "        print('='*20)\n",
    "        print(\"Name :{}\".format(self.name))\n",
    "        print('Email :{}'.format(self.email))\n",
    "        print('Address:{}'.format(self.address))\n",
    "        print('='*20)"
   ]
  },
  {
   "cell_type": "code",
   "execution_count": 25,
   "id": "df1d9a08",
   "metadata": {},
   "outputs": [],
   "source": [
    "bc = BusinessCard()"
   ]
  },
  {
   "cell_type": "code",
   "execution_count": 26,
   "id": "5a1e9fac",
   "metadata": {},
   "outputs": [],
   "source": [
    "# 인스턴스는 class를 복사한 것 - class 내의 모든 메소드, 속성들을 복사해 옴..\n",
    "# 인스턴스에서 복사해 온 class의 메소드나 변수를 사용할때 '.' => 접근자\n",
    "\n",
    "bc.set_info('yuna', 'yuna@hanmail.net', 'seoul')"
   ]
  },
  {
   "cell_type": "code",
   "execution_count": 30,
   "id": "a34e5805",
   "metadata": {},
   "outputs": [
    {
     "name": "stdout",
     "output_type": "stream",
     "text": [
      "====================\n",
      "Name :yuna\n",
      "Email :yuna@hanmail.net\n",
      "Address:seoul\n",
      "====================\n"
     ]
    }
   ],
   "source": [
    "bc.BusinessCard()"
   ]
  },
  {
   "cell_type": "code",
   "execution_count": 31,
   "id": "c80764fc",
   "metadata": {},
   "outputs": [
    {
     "name": "stdout",
     "output_type": "stream",
     "text": [
      "====================\n",
      "Name :park\n",
      "Email :park@hanmail.net\n",
      "Address:inchen\n",
      "====================\n"
     ]
    }
   ],
   "source": [
    "bc1 = BusinessCard()\n",
    "bc1.set_info('park', 'park@hanmail.net', 'inchen')\n",
    "bc1.BusinessCard()"
   ]
  },
  {
   "cell_type": "code",
   "execution_count": 33,
   "id": "a5d78921",
   "metadata": {},
   "outputs": [
    {
     "name": "stdout",
     "output_type": "stream",
     "text": [
      "====================\n",
      "Name :kim\n",
      "Email :kim@hanmail.net\n",
      "Address:pusan\n",
      "====================\n"
     ]
    }
   ],
   "source": [
    "bc2 = BusinessCard()\n",
    "bc2.set_info(\"kim\", 'kim@hanmail.net', 'pusan')\n",
    "bc2.BusinessCard()"
   ]
  },
  {
   "cell_type": "code",
   "execution_count": null,
   "id": "52286af3",
   "metadata": {},
   "outputs": [],
   "source": [
    "bc3 = BusinessCard()\n",
    "bc3,BusinessCard()"
   ]
  },
  {
   "cell_type": "code",
   "execution_count": 37,
   "id": "d3549338",
   "metadata": {},
   "outputs": [],
   "source": [
    "# class를 사용하기 위해서 필요한 값들은 클래스를\n",
    "# 복사하는 순간(인스턴스 생성)에 강제로 입력하도록 만들자...\n",
    "\n",
    "# => 클래스가 복사되는 순간 set_info()함수가 강제로 실행되도록...\n",
    "# => 생성자 함수 : 클래스가 복사되는 순간 강제로 실행되는 함수..\n",
    "\n",
    "class BusinessCard:\n",
    "    \n",
    "    def __init__(self, name, email, address):\n",
    "        self.name = name # self.변수 = 안수톤수 변수 (특정 인스턴스 내에서만 공유되는 변수)\n",
    "        self.email = email\n",
    "        self.address = address\n",
    "    \n",
    "    def BusinessCard(self):\n",
    "        print('='*20)\n",
    "        print(\"Name :{}\".format(self.name))\n",
    "        print('Email :{}'.format(self.email))\n",
    "        print('Address:{}'.format(self.address))\n",
    "        print('='*20)"
   ]
  },
  {
   "cell_type": "code",
   "execution_count": 39,
   "id": "3fca74c8",
   "metadata": {},
   "outputs": [
    {
     "ename": "TypeError",
     "evalue": "__init__() missing 3 required positional arguments: 'name', 'email', and 'address'",
     "output_type": "error",
     "traceback": [
      "\u001b[1;31m---------------------------------------------------------------------------\u001b[0m",
      "\u001b[1;31mTypeError\u001b[0m                                 Traceback (most recent call last)",
      "\u001b[1;32m~\\AppData\\Local\\Temp/ipykernel_12316/1066409231.py\u001b[0m in \u001b[0;36m<module>\u001b[1;34m\u001b[0m\n\u001b[0;32m      2\u001b[0m \u001b[1;31m# => __init__함수가 필요로 하는 매개변수를 넘겨줘야 에러가 안남..\u001b[0m\u001b[1;33m\u001b[0m\u001b[1;33m\u001b[0m\u001b[0m\n\u001b[0;32m      3\u001b[0m \u001b[1;33m\u001b[0m\u001b[0m\n\u001b[1;32m----> 4\u001b[1;33m \u001b[0mbc\u001b[0m \u001b[1;33m=\u001b[0m \u001b[0mBusinessCard\u001b[0m\u001b[1;33m(\u001b[0m\u001b[1;33m)\u001b[0m\u001b[1;33m\u001b[0m\u001b[1;33m\u001b[0m\u001b[0m\n\u001b[0m",
      "\u001b[1;31mTypeError\u001b[0m: __init__() missing 3 required positional arguments: 'name', 'email', and 'address'"
     ]
    }
   ],
   "source": [
    "# instance 생성 순간.. __init__함수 실행 \n",
    "# => __init__함수가 필요로 하는 매개변수를 넘겨줘야 에러가 안남..\n",
    "\n",
    "bc = BusinessCard()"
   ]
  },
  {
   "cell_type": "code",
   "execution_count": 41,
   "id": "99e2400f",
   "metadata": {},
   "outputs": [
    {
     "data": {
      "text/plain": [
       "'yuna'"
      ]
     },
     "execution_count": 41,
     "metadata": {},
     "output_type": "execute_result"
    }
   ],
   "source": [
    "bc = BusinessCard(\"yuna\", 'yuna@hanmail.net', 'seoul')\n",
    "bc.name"
   ]
  },
  {
   "cell_type": "code",
   "execution_count": 42,
   "id": "d4f30a86",
   "metadata": {},
   "outputs": [
    {
     "name": "stdout",
     "output_type": "stream",
     "text": [
      "====================\n",
      "Name :yuna\n",
      "Email :yuna@hanmail.net\n",
      "Address:seoul\n",
      "====================\n"
     ]
    }
   ],
   "source": [
    "bc.BusinessCard()"
   ]
  },
  {
   "cell_type": "code",
   "execution_count": null,
   "id": "7de950a7",
   "metadata": {},
   "outputs": [],
   "source": []
  },
  {
   "cell_type": "code",
   "execution_count": 43,
   "id": "42e0bf83",
   "metadata": {},
   "outputs": [],
   "source": [
    "# class 변수"
   ]
  },
  {
   "cell_type": "code",
   "execution_count": 59,
   "id": "6fd61673",
   "metadata": {},
   "outputs": [],
   "source": [
    "class Circle:\n",
    "    pi = 3.14\n",
    "    \n",
    "    def __init__(self, radius):\n",
    "        self.radius = radius\n",
    "        \n",
    "    def area(self):\n",
    "        circle_area = Circle.pi * pow(self.radius, 2)\n",
    "        return circle_area\n",
    "    \n",
    "    def perimeter(self):\n",
    "        circle_perimeter = Circle.pi*2*self.radius\n",
    "        return circle_perimeter"
   ]
  },
  {
   "cell_type": "code",
   "execution_count": 60,
   "id": "70a7096d",
   "metadata": {},
   "outputs": [],
   "source": [
    "cir = Circle(2)"
   ]
  },
  {
   "cell_type": "code",
   "execution_count": 61,
   "id": "bb8f6f09",
   "metadata": {},
   "outputs": [
    {
     "data": {
      "text/plain": [
       "12.56"
      ]
     },
     "execution_count": 61,
     "metadata": {},
     "output_type": "execute_result"
    }
   ],
   "source": [
    "cir.area()"
   ]
  },
  {
   "cell_type": "code",
   "execution_count": 56,
   "id": "d93e9ae2",
   "metadata": {},
   "outputs": [
    {
     "data": {
      "text/plain": [
       "12.56"
      ]
     },
     "execution_count": 56,
     "metadata": {},
     "output_type": "execute_result"
    }
   ],
   "source": [
    "cir.perimeter()"
   ]
  },
  {
   "cell_type": "code",
   "execution_count": 66,
   "id": "f117da49",
   "metadata": {},
   "outputs": [],
   "source": [
    "cir1 = Circle(5)"
   ]
  },
  {
   "cell_type": "code",
   "execution_count": 67,
   "id": "2aec0dbd",
   "metadata": {},
   "outputs": [
    {
     "data": {
      "text/plain": [
       "78.5"
      ]
     },
     "execution_count": 67,
     "metadata": {},
     "output_type": "execute_result"
    }
   ],
   "source": [
    "cir1.area()"
   ]
  },
  {
   "cell_type": "code",
   "execution_count": 68,
   "id": "eab696a5",
   "metadata": {},
   "outputs": [
    {
     "data": {
      "text/plain": [
       "31.400000000000002"
      ]
     },
     "execution_count": 68,
     "metadata": {},
     "output_type": "execute_result"
    }
   ],
   "source": [
    "cir1.perimeter()"
   ]
  },
  {
   "cell_type": "code",
   "execution_count": 69,
   "id": "ae830ed1",
   "metadata": {},
   "outputs": [
    {
     "data": {
      "text/plain": [
       "3.14"
      ]
     },
     "execution_count": 69,
     "metadata": {},
     "output_type": "execute_result"
    }
   ],
   "source": [
    "cir.pi"
   ]
  },
  {
   "cell_type": "code",
   "execution_count": 70,
   "id": "5a0023b0",
   "metadata": {},
   "outputs": [
    {
     "data": {
      "text/plain": [
       "3.14"
      ]
     },
     "execution_count": 70,
     "metadata": {},
     "output_type": "execute_result"
    }
   ],
   "source": [
    "cir1.pi"
   ]
  },
  {
   "cell_type": "code",
   "execution_count": null,
   "id": "cdaf73b3",
   "metadata": {},
   "outputs": [],
   "source": []
  },
  {
   "cell_type": "code",
   "execution_count": 1,
   "id": "20f2dd2e",
   "metadata": {},
   "outputs": [],
   "source": [
    "# 상속.."
   ]
  },
  {
   "cell_type": "code",
   "execution_count": 2,
   "id": "3a196e5a",
   "metadata": {},
   "outputs": [],
   "source": [
    "class Parent:\n",
    "    def can_sing(self):\n",
    "        print('sing a song')"
   ]
  },
  {
   "cell_type": "code",
   "execution_count": 3,
   "id": "fd7cf559",
   "metadata": {},
   "outputs": [],
   "source": [
    "p = Parent()"
   ]
  },
  {
   "cell_type": "code",
   "execution_count": 4,
   "id": "2f961b76",
   "metadata": {},
   "outputs": [
    {
     "name": "stdout",
     "output_type": "stream",
     "text": [
      "sing a song\n"
     ]
    }
   ],
   "source": [
    "p.can_sing()"
   ]
  },
  {
   "cell_type": "code",
   "execution_count": null,
   "id": "461b53aa",
   "metadata": {},
   "outputs": [],
   "source": []
  },
  {
   "cell_type": "code",
   "execution_count": 5,
   "id": "5f434514",
   "metadata": {},
   "outputs": [],
   "source": [
    "# Parent class를 상속.. => Parent class의 모든 요소를 가져옴\n",
    "\n",
    "class child(Parent):     \n",
    "    pass"
   ]
  },
  {
   "cell_type": "code",
   "execution_count": 9,
   "id": "bf873a52",
   "metadata": {},
   "outputs": [],
   "source": [
    "c = child()"
   ]
  },
  {
   "cell_type": "code",
   "execution_count": 10,
   "id": "fde198d3",
   "metadata": {},
   "outputs": [
    {
     "name": "stdout",
     "output_type": "stream",
     "text": [
      "sing a song\n"
     ]
    }
   ],
   "source": [
    "c.can_sing()"
   ]
  },
  {
   "cell_type": "code",
   "execution_count": null,
   "id": "13a5b692",
   "metadata": {},
   "outputs": [],
   "source": []
  },
  {
   "cell_type": "code",
   "execution_count": 13,
   "id": "e34c05c6",
   "metadata": {},
   "outputs": [],
   "source": [
    "class Child(Parent):\n",
    "    def can_dance(self):\n",
    "        print('play dancing')"
   ]
  },
  {
   "cell_type": "code",
   "execution_count": 14,
   "id": "23ef7d4f",
   "metadata": {},
   "outputs": [],
   "source": [
    "c = Child()"
   ]
  },
  {
   "cell_type": "code",
   "execution_count": 15,
   "id": "605c9132",
   "metadata": {},
   "outputs": [
    {
     "name": "stdout",
     "output_type": "stream",
     "text": [
      "sing a song\n"
     ]
    }
   ],
   "source": [
    "c.can_sing() # 부모 클래스로부터 상속 받은 메소드"
   ]
  },
  {
   "cell_type": "code",
   "execution_count": 17,
   "id": "7fd7e10f",
   "metadata": {},
   "outputs": [
    {
     "name": "stdout",
     "output_type": "stream",
     "text": [
      "play dancing\n"
     ]
    }
   ],
   "source": [
    "c.can_dance() # 자신의 메소드"
   ]
  },
  {
   "cell_type": "code",
   "execution_count": null,
   "id": "160c9b93",
   "metadata": {},
   "outputs": [],
   "source": []
  },
  {
   "cell_type": "code",
   "execution_count": 41,
   "id": "93bb6578",
   "metadata": {},
   "outputs": [],
   "source": [
    "# quiz\n",
    "# 임의의 정수 2개를 인스턴스 변수로 받은 후 \n",
    "# 사칙연사의 메소드르 가진 클래스를 정의하고  (addf, mulf, divf, subf)\n",
    "# 객체를 만들어서 메소드를 실행..\n",
    "\n",
    "class FourCal:\n",
    "    def __init__(self, num1, num2):\n",
    "        self.num1 = num1\n",
    "        self.num2 = num2\n",
    "    \n",
    "    def addf(self):\n",
    "        return self.num1 + self.num2\n",
    "    \n",
    "    def mulf(self):\n",
    "        return self.num1 * self.num2\n",
    "    \n",
    "    def divf(self):\n",
    "        return self.num1 / self.num2\n",
    "    \n",
    "    def subf(self):\n",
    "        return self.num1 - self.num2\n",
    "    \n",
    "    \n",
    "\n",
    "c = Fourcal(1, 2)"
   ]
  },
  {
   "cell_type": "code",
   "execution_count": 42,
   "id": "c6c220bf",
   "metadata": {},
   "outputs": [
    {
     "data": {
      "text/plain": [
       "3"
      ]
     },
     "execution_count": 42,
     "metadata": {},
     "output_type": "execute_result"
    }
   ],
   "source": [
    "c.addf()"
   ]
  },
  {
   "cell_type": "code",
   "execution_count": 43,
   "id": "7c704f24",
   "metadata": {},
   "outputs": [
    {
     "data": {
      "text/plain": [
       "2"
      ]
     },
     "execution_count": 43,
     "metadata": {},
     "output_type": "execute_result"
    }
   ],
   "source": [
    "c.mulf()"
   ]
  },
  {
   "cell_type": "code",
   "execution_count": 44,
   "id": "4580cc75",
   "metadata": {},
   "outputs": [
    {
     "data": {
      "text/plain": [
       "0.5"
      ]
     },
     "execution_count": 44,
     "metadata": {},
     "output_type": "execute_result"
    }
   ],
   "source": [
    "c.divf()"
   ]
  },
  {
   "cell_type": "code",
   "execution_count": 45,
   "id": "3fb2a2c7",
   "metadata": {},
   "outputs": [
    {
     "data": {
      "text/plain": [
       "-1"
      ]
     },
     "execution_count": 45,
     "metadata": {},
     "output_type": "execute_result"
    }
   ],
   "source": [
    "c.subf()"
   ]
  },
  {
   "cell_type": "code",
   "execution_count": null,
   "id": "05c4ec81",
   "metadata": {},
   "outputs": [],
   "source": []
  },
  {
   "cell_type": "code",
   "execution_count": 55,
   "id": "6895b677",
   "metadata": {},
   "outputs": [],
   "source": [
    "class FourCal1(FourCal):\n",
    "    def powf(self):\n",
    "        result = self.num1 ** self.num2\n",
    "        return result"
   ]
  },
  {
   "cell_type": "code",
   "execution_count": 59,
   "id": "accae721",
   "metadata": {},
   "outputs": [],
   "source": [
    "fc = FourCal1(2, 0)"
   ]
  },
  {
   "cell_type": "code",
   "execution_count": 60,
   "id": "273e33f4",
   "metadata": {},
   "outputs": [
    {
     "ename": "ZeroDivisionError",
     "evalue": "division by zero",
     "output_type": "error",
     "traceback": [
      "\u001b[1;31m---------------------------------------------------------------------------\u001b[0m",
      "\u001b[1;31mZeroDivisionError\u001b[0m                         Traceback (most recent call last)",
      "\u001b[1;32m~\\AppData\\Local\\Temp/ipykernel_9472/1119730951.py\u001b[0m in \u001b[0;36m<module>\u001b[1;34m\u001b[0m\n\u001b[1;32m----> 1\u001b[1;33m \u001b[0mfc\u001b[0m\u001b[1;33m.\u001b[0m\u001b[0mdivf\u001b[0m\u001b[1;33m(\u001b[0m\u001b[1;33m)\u001b[0m\u001b[1;33m\u001b[0m\u001b[1;33m\u001b[0m\u001b[0m\n\u001b[0m",
      "\u001b[1;32m~\\AppData\\Local\\Temp/ipykernel_9472/4211705286.py\u001b[0m in \u001b[0;36mdivf\u001b[1;34m(self)\u001b[0m\n\u001b[0;32m     16\u001b[0m \u001b[1;33m\u001b[0m\u001b[0m\n\u001b[0;32m     17\u001b[0m     \u001b[1;32mdef\u001b[0m \u001b[0mdivf\u001b[0m\u001b[1;33m(\u001b[0m\u001b[0mself\u001b[0m\u001b[1;33m)\u001b[0m\u001b[1;33m:\u001b[0m\u001b[1;33m\u001b[0m\u001b[1;33m\u001b[0m\u001b[0m\n\u001b[1;32m---> 18\u001b[1;33m         \u001b[1;32mreturn\u001b[0m \u001b[0mself\u001b[0m\u001b[1;33m.\u001b[0m\u001b[0mnum1\u001b[0m \u001b[1;33m/\u001b[0m \u001b[0mself\u001b[0m\u001b[1;33m.\u001b[0m\u001b[0mnum2\u001b[0m\u001b[1;33m\u001b[0m\u001b[1;33m\u001b[0m\u001b[0m\n\u001b[0m\u001b[0;32m     19\u001b[0m \u001b[1;33m\u001b[0m\u001b[0m\n\u001b[0;32m     20\u001b[0m     \u001b[1;32mdef\u001b[0m \u001b[0msubf\u001b[0m\u001b[1;33m(\u001b[0m\u001b[0mself\u001b[0m\u001b[1;33m)\u001b[0m\u001b[1;33m:\u001b[0m\u001b[1;33m\u001b[0m\u001b[1;33m\u001b[0m\u001b[0m\n",
      "\u001b[1;31mZeroDivisionError\u001b[0m: division by zero"
     ]
    }
   ],
   "source": [
    "fc.divf()"
   ]
  },
  {
   "cell_type": "code",
   "execution_count": 58,
   "id": "c17212f3",
   "metadata": {},
   "outputs": [
    {
     "data": {
      "text/plain": [
       "16"
      ]
     },
     "execution_count": 58,
     "metadata": {},
     "output_type": "execute_result"
    }
   ],
   "source": [
    "fc.powf()"
   ]
  },
  {
   "cell_type": "code",
   "execution_count": null,
   "id": "bc07fdda",
   "metadata": {},
   "outputs": [],
   "source": []
  },
  {
   "cell_type": "code",
   "execution_count": 63,
   "id": "ab346051",
   "metadata": {},
   "outputs": [],
   "source": [
    "class SafeCal(FourCal):\n",
    "    def divf(self):         # 부모 클래스의 메소드를 수정 => override\n",
    "        if self.num2 == 0:\n",
    "            return 0\n",
    "        else:\n",
    "            return self.num1/ self.num2"
   ]
  },
  {
   "cell_type": "code",
   "execution_count": 66,
   "id": "244b9b62",
   "metadata": {},
   "outputs": [],
   "source": [
    "sc = SafeCal(2, 0)"
   ]
  },
  {
   "cell_type": "code",
   "execution_count": 67,
   "id": "2fe328d4",
   "metadata": {},
   "outputs": [
    {
     "data": {
      "text/plain": [
       "0"
      ]
     },
     "execution_count": 67,
     "metadata": {},
     "output_type": "execute_result"
    }
   ],
   "source": [
    "sc.divf()"
   ]
  },
  {
   "cell_type": "code",
   "execution_count": null,
   "id": "67e6c0e1",
   "metadata": {},
   "outputs": [],
   "source": []
  },
  {
   "cell_type": "code",
   "execution_count": null,
   "id": "474ffc22",
   "metadata": {},
   "outputs": [],
   "source": [
    "# 클래스 메소드\n",
    "# 스테틱 메소스"
   ]
  },
  {
   "cell_type": "code",
   "execution_count": 94,
   "id": "daf825a5",
   "metadata": {},
   "outputs": [],
   "source": [
    "class Sam:\n",
    "    \n",
    "    data = 'python' # 클래스 변수\n",
    "    \n",
    "    def __init__(self):\n",
    "        self.data1 = 'korea' # 인스턴스 변수\n",
    "        \n",
    "    def instance_method(self):\n",
    "        print('instance method : ', self.data1)\n",
    "        \n",
    "    # 클래스 메소드, cls 키워드로 클래스 변수에 접근, 매개변수 cls를 받음\n",
    "    @classmethod\n",
    "    def class_method(cls):    \n",
    "        print('class method : ', cls.data)\n",
    "       # print('class method : ', cls.data1) - 클래스 변수는 인스턴스 변수 접근 불가\n",
    "        \n",
    "    # 스태틱 메소드, self, cls 매게변수를 받지 않음..\n",
    "    def static_method():\n",
    "        print('static method : ', Sam.data)\n",
    "        # print('class method : ', cls.data1) - 스태틱 메소드는 인스턴스 변수에 접근 불가"
   ]
  },
  {
   "cell_type": "code",
   "execution_count": 95,
   "id": "ea94efda",
   "metadata": {},
   "outputs": [],
   "source": [
    "s = Sam()"
   ]
  },
  {
   "cell_type": "code",
   "execution_count": 99,
   "id": "3be2a251",
   "metadata": {},
   "outputs": [
    {
     "name": "stdout",
     "output_type": "stream",
     "text": [
      "instance method :  korea\n",
      "class method :  python\n",
      "static method :  python\n"
     ]
    }
   ],
   "source": [
    "s.instance_method()\n",
    "s.class_method()\n",
    "Sam.static_method()"
   ]
  },
  {
   "cell_type": "code",
   "execution_count": 97,
   "id": "cdbf1f2a",
   "metadata": {},
   "outputs": [
    {
     "name": "stdout",
     "output_type": "stream",
     "text": [
      "class method :  python\n"
     ]
    }
   ],
   "source": [
    "Sam.class_method()"
   ]
  },
  {
   "cell_type": "code",
   "execution_count": 98,
   "id": "e53f39ea",
   "metadata": {},
   "outputs": [],
   "source": [
    "# 클래스 메소드가 스태틱 메소스는 객체를 생성하지 않고 클래스 명으로 바로 호출 가능..\n",
    "# 클래스 메소드와 스태틱 매소드는 클래스 변수에만 접근이 가능하다\n",
    "# 클래스 메소드 clas키워드를 사용\n",
    "# 스테틱 메소드 cls를 사용하지않고 클래스 명으로 호출한다."
   ]
  },
  {
   "cell_type": "code",
   "execution_count": null,
   "id": "c5b92222",
   "metadata": {},
   "outputs": [],
   "source": []
  },
  {
   "cell_type": "code",
   "execution_count": 100,
   "id": "3e6124d7",
   "metadata": {},
   "outputs": [],
   "source": [
    "# 학생리스트"
   ]
  },
  {
   "cell_type": "code",
   "execution_count": 105,
   "id": "d2d1ea4b",
   "metadata": {},
   "outputs": [],
   "source": [
    "students = [\n",
    "    {'name': '윤인성', 'korean': 87, 'math': 98, 'english': 95, 'science': 95},\n",
    "    {'name': '박민수', 'korean': 88, 'math': 98, 'english': 64, 'science': 95},\n",
    "    {'name': '박철호', 'korean': 95, 'math': 98, 'english': 24, 'science': 95},\n",
    "    {'name': '이호성', 'korean': 75, 'math': 98, 'english': 85, 'science': 95},\n",
    "    {'name': '최민수', 'korean': 62, 'math': 98, 'english': 65, 'science': 95},\n",
    "    {'name': '유인태', 'korean': 76, 'math': 98, 'english': 81, 'science': 95},\n",
    "]"
   ]
  },
  {
   "cell_type": "code",
   "execution_count": 106,
   "id": "2717d663",
   "metadata": {},
   "outputs": [],
   "source": [
    "# 이름  총점  평점\n",
    "# 윤인성 89   85\n",
    "# 박민수 87   98"
   ]
  },
  {
   "cell_type": "code",
   "execution_count": 121,
   "id": "4b14f567",
   "metadata": {},
   "outputs": [
    {
     "name": "stdout",
     "output_type": "stream",
     "text": [
      "이름\t총점\t평점\n",
      "윤인성\t375\t93.75\n",
      "박민수\t345\t86.25\n",
      "박철호\t312\t78.0\n",
      "이호성\t353\t88.25\n",
      "최민수\t320\t80.0\n",
      "유인태\t350\t87.5\n"
     ]
    }
   ],
   "source": [
    "print(\"이름\", \"총점\", \"평점\", sep='\\t')\n",
    "for i in students:\n",
    "    sumf = i['korean'] + i['math'] + i['english'] + i['science']\n",
    "    print(i['name'], sumf, sumf/4, sep='\\t')"
   ]
  },
  {
   "cell_type": "code",
   "execution_count": 163,
   "id": "c137366c",
   "metadata": {},
   "outputs": [
    {
     "data": {
      "text/plain": [
       "{'name': '윤인성', 'korean': 87, 'math': 88, 'english': 96, 'science': 78}"
      ]
     },
     "execution_count": 163,
     "metadata": {},
     "output_type": "execute_result"
    }
   ],
   "source": [
    "def create_student(name, kor, math, eng, sci):\n",
    "    return {'name': name, 'korean': kor, \"math\": math, \"english\": eng, 'science': sci}\n",
    "\n",
    "create_student(\"윤인성\", 87,  88, 96, 78)"
   ]
  },
  {
   "cell_type": "code",
   "execution_count": 164,
   "id": "aa3b7c44",
   "metadata": {},
   "outputs": [],
   "source": [
    "def student_get_sum(s):\n",
    "    return s['korean'] + s['math'] + s['english'] + s['science']"
   ]
  },
  {
   "cell_type": "code",
   "execution_count": 165,
   "id": "047c4503",
   "metadata": {},
   "outputs": [],
   "source": [
    "def student_get_average(s):\n",
    "    return student_get_sum(s)/4"
   ]
  },
  {
   "cell_type": "code",
   "execution_count": 166,
   "id": "ac8ef063",
   "metadata": {},
   "outputs": [],
   "source": [
    "def student_to_string(s):\n",
    "    return \"{}\\t{}\\t{}\".format(s['name'], student_get_sum(s), student_get_average(s))"
   ]
  },
  {
   "cell_type": "code",
   "execution_count": 167,
   "id": "dbafdd57",
   "metadata": {},
   "outputs": [
    {
     "name": "stdout",
     "output_type": "stream",
     "text": [
      "윤인성\t299\t74.75\n",
      "박척순\t297\t74.25\n",
      "김민수\t267\t66.75\n",
      "김도현\t297\t74.25\n",
      "박철순\t290\t72.5\n",
      "이민성\t257\t64.25\n"
     ]
    }
   ],
   "source": [
    "s = [\n",
    "    create_student('윤인성', 89,87,89,34),\n",
    "    create_student('박척순', 87,87,89,34),\n",
    "    create_student('김민수', 56,87,89,35),\n",
    "    create_student('김도현', 65,87,89,56),\n",
    "    create_student('박철순', 47,87,89,67),\n",
    "    create_student('이민성', 35,87,89,46),\n",
    "]\n",
    "\n",
    "for i in s:\n",
    "    print(student_to_string(i))"
   ]
  },
  {
   "cell_type": "code",
   "execution_count": 159,
   "id": "2fb753cc",
   "metadata": {},
   "outputs": [],
   "source": [
    "class Student:\n",
    "    def __init__(self, name, kor, math, eng, sci):\n",
    "        self.name = name\n",
    "        self.kor = kor\n",
    "        self.math = math\n",
    "        self.eng = eng\n",
    "        self.sci = sci\n",
    "        \n",
    "    def get_sum(self):\n",
    "        return self.kor + self.math + self.eng + self.sci\n",
    "    def get_average(self):\n",
    "        return self.get_sum()/4\n",
    "    def to_string(self):\n",
    "        return \"{}\\t{}\\t{}\".format(self.name, self.get_sum(), self.get_average())"
   ]
  },
  {
   "cell_type": "code",
   "execution_count": 160,
   "id": "12a1b6cd",
   "metadata": {},
   "outputs": [
    {
     "name": "stdout",
     "output_type": "stream",
     "text": [
      "윤인성\t299\t74.75\n",
      "박척순\t297\t74.25\n",
      "김민수\t267\t66.75\n",
      "김도현\t297\t74.25\n",
      "박철순\t290\t72.5\n",
      "이민성\t257\t64.25\n"
     ]
    }
   ],
   "source": [
    "students = [\n",
    "    Student('윤인성', 89,87,89,34),\n",
    "    Student('박척순', 87,87,89,34),\n",
    "    Student('김민수', 56,87,89,35),\n",
    "    Student('김도현', 65,87,89,56),\n",
    "    Student('박철순', 47,87,89,67),\n",
    "    Student('이민성', 35,87,89,46),\n",
    "]\n",
    "\n",
    "for s in students:\n",
    "    print(s.to_string())"
   ]
  },
  {
   "cell_type": "code",
   "execution_count": null,
   "id": "7b32de91",
   "metadata": {},
   "outputs": [],
   "source": []
  },
  {
   "cell_type": "code",
   "execution_count": 168,
   "id": "a6192c06",
   "metadata": {},
   "outputs": [],
   "source": [
    "# 은닉화\n",
    "# 쿨캐스 내에서 변수의 값을 노출 시키고 싶지 않을 때, 변수를 은닉화,"
   ]
  },
  {
   "cell_type": "code",
   "execution_count": 177,
   "id": "e720e8a8",
   "metadata": {},
   "outputs": [],
   "source": [
    "import math\n",
    "\n",
    "class Circle:\n",
    "    def __init__(self, radius):\n",
    "        # __변수명 : 외부에서 접근 금지. 클래스 내의 메소드 에서만 접근이 가능\n",
    "        self.__radius = radius  \n",
    "    def get_circumference(self):\n",
    "        return 2 * math.pi * self.__radius\n",
    "    def get_area(self):\n",
    "        return math.pi * (self.__radius ** 2)\n",
    "    \n",
    "    # 게터와 세터\n",
    "    # 게터 : 은닉된 변수의 값을 얻어올 수 있는 메서드\n",
    "    # 세터 : 은닉된 변수의 값을 수정할수 있도록 하는 메서드\n",
    "    @property\n",
    "    def get_radius(self):\n",
    "        return self.__radius\n",
    "    \n",
    "    @get_radius.setter\n",
    "    def set_radius(self, value):\n",
    "        if value <= 0:\n",
    "            raise TypeError('길이는 양의 숫자이어야 합니다..')\n",
    "        self.__radius = value"
   ]
  },
  {
   "cell_type": "code",
   "execution_count": 173,
   "id": "13314950",
   "metadata": {},
   "outputs": [],
   "source": [
    "cir = Circle(2)"
   ]
  },
  {
   "cell_type": "code",
   "execution_count": 174,
   "id": "61ca9d21",
   "metadata": {},
   "outputs": [
    {
     "data": {
      "text/plain": [
       "12.566370614359172"
      ]
     },
     "execution_count": 174,
     "metadata": {},
     "output_type": "execute_result"
    }
   ],
   "source": [
    "cir.get_circumference()"
   ]
  },
  {
   "cell_type": "code",
   "execution_count": 176,
   "id": "a79f10e0",
   "metadata": {},
   "outputs": [
    {
     "ename": "AttributeError",
     "evalue": "'Circle' object has no attribute '__radius'",
     "output_type": "error",
     "traceback": [
      "\u001b[1;31m---------------------------------------------------------------------------\u001b[0m",
      "\u001b[1;31mAttributeError\u001b[0m                            Traceback (most recent call last)",
      "\u001b[1;32m~\\AppData\\Local\\Temp/ipykernel_9472/2588757516.py\u001b[0m in \u001b[0;36m<module>\u001b[1;34m\u001b[0m\n\u001b[1;32m----> 1\u001b[1;33m \u001b[0mcir\u001b[0m\u001b[1;33m.\u001b[0m\u001b[0m__radius\u001b[0m \u001b[1;31m# 외부에서 접근 불가\u001b[0m\u001b[1;33m\u001b[0m\u001b[1;33m\u001b[0m\u001b[0m\n\u001b[0m",
      "\u001b[1;31mAttributeError\u001b[0m: 'Circle' object has no attribute '__radius'"
     ]
    }
   ],
   "source": [
    "cir.__radius # 외부에서 접근 불가"
   ]
  },
  {
   "cell_type": "code",
   "execution_count": null,
   "id": "f2ea7d51",
   "metadata": {},
   "outputs": [],
   "source": []
  },
  {
   "cell_type": "code",
   "execution_count": 178,
   "id": "87741b15",
   "metadata": {},
   "outputs": [
    {
     "ename": "AttributeError",
     "evalue": "'Circle' object has no attribute 'get_radius'",
     "output_type": "error",
     "traceback": [
      "\u001b[1;31m---------------------------------------------------------------------------\u001b[0m",
      "\u001b[1;31mAttributeError\u001b[0m                            Traceback (most recent call last)",
      "\u001b[1;32m~\\AppData\\Local\\Temp/ipykernel_9472/2706222413.py\u001b[0m in \u001b[0;36m<module>\u001b[1;34m\u001b[0m\n\u001b[1;32m----> 1\u001b[1;33m \u001b[0mcir\u001b[0m\u001b[1;33m.\u001b[0m\u001b[0mget_radius\u001b[0m\u001b[1;33m\u001b[0m\u001b[1;33m\u001b[0m\u001b[0m\n\u001b[0m",
      "\u001b[1;31mAttributeError\u001b[0m: 'Circle' object has no attribute 'get_radius'"
     ]
    }
   ],
   "source": [
    "cir.get_radius"
   ]
  },
  {
   "cell_type": "code",
   "execution_count": 184,
   "id": "9ebb5a28",
   "metadata": {},
   "outputs": [
    {
     "data": {
      "text/plain": [
       "12.566370614359172"
      ]
     },
     "execution_count": 184,
     "metadata": {},
     "output_type": "execute_result"
    }
   ],
   "source": [
    "cir.get_area()"
   ]
  },
  {
   "cell_type": "code",
   "execution_count": 179,
   "id": "adc94e4c",
   "metadata": {},
   "outputs": [],
   "source": [
    "cir.set_radius = 10"
   ]
  },
  {
   "cell_type": "code",
   "execution_count": 180,
   "id": "7e4ea6a4",
   "metadata": {},
   "outputs": [
    {
     "data": {
      "text/plain": [
       "12.566370614359172"
      ]
     },
     "execution_count": 180,
     "metadata": {},
     "output_type": "execute_result"
    }
   ],
   "source": [
    "cir.get_area()"
   ]
  },
  {
   "cell_type": "code",
   "execution_count": null,
   "id": "9a785cf4",
   "metadata": {},
   "outputs": [],
   "source": []
  }
 ],
 "metadata": {
  "kernelspec": {
   "display_name": "Python 3 (ipykernel)",
   "language": "python",
   "name": "python3"
  },
  "language_info": {
   "codemirror_mode": {
    "name": "ipython",
    "version": 3
   },
   "file_extension": ".py",
   "mimetype": "text/x-python",
   "name": "python",
   "nbconvert_exporter": "python",
   "pygments_lexer": "ipython3",
   "version": "3.9.7"
  }
 },
 "nbformat": 4,
 "nbformat_minor": 5
}
