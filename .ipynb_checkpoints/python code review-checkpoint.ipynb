{
 "cells": [
  {
   "cell_type": "markdown",
   "id": "b6832535",
   "metadata": {},
   "source": [
    "### String\n"
   ]
  },
  {
   "cell_type": "code",
   "execution_count": 2,
   "id": "9dbd8163",
   "metadata": {},
   "outputs": [
    {
     "data": {
      "text/plain": [
       "'tale'"
      ]
     },
     "execution_count": 2,
     "metadata": {},
     "output_type": "execute_result"
    }
   ],
   "source": [
    "txt1 = '  A tale that was not right'\n",
    "txt2 = '이 또한 지나가리라  '\n",
    "\n",
    "# -----------------------\n",
    "\n",
    "# tale을 출력하시오..\n",
    "txt1[4:8]"
   ]
  },
  {
   "cell_type": "code",
   "execution_count": 27,
   "id": "dbd31482",
   "metadata": {},
   "outputs": [
    {
     "data": {
      "text/plain": [
       "'지'"
      ]
     },
     "execution_count": 27,
     "metadata": {},
     "output_type": "execute_result"
    }
   ],
   "source": [
    "# '지'를 출력하시오..\n",
    "txt2[5:6]"
   ]
  },
  {
   "cell_type": "code",
   "execution_count": 28,
   "id": "f4427d79",
   "metadata": {},
   "outputs": [
    {
     "data": {
      "text/plain": [
       "1"
      ]
     },
     "execution_count": 28,
     "metadata": {},
     "output_type": "execute_result"
    }
   ],
   "source": [
    "# 'a'는  몇 개가 존재하는가?\n",
    "txt2.count('지')"
   ]
  },
  {
   "cell_type": "code",
   "execution_count": 29,
   "id": "33706ae3",
   "metadata": {},
   "outputs": [
    {
     "data": {
      "text/plain": [
       "6"
      ]
     },
     "execution_count": 29,
     "metadata": {},
     "output_type": "execute_result"
    }
   ],
   "source": [
    "# txt1에서 모음의 갯수가 몇 개인가?\n",
    "num = 0\n",
    "for i in \"aeiou\":\n",
    "    num += txt1.count(i)\n",
    "num\n"
   ]
  },
  {
   "cell_type": "code",
   "execution_count": 32,
   "id": "d942127a",
   "metadata": {},
   "outputs": [
    {
     "data": {
      "text/plain": [
       "'이 것도 지나가리라  '"
      ]
     },
     "execution_count": 32,
     "metadata": {},
     "output_type": "execute_result"
    }
   ],
   "source": [
    "# '또한'을 '것도'로 수정하시오\n",
    "txt2.replace(\"또한\", \"것도\")\n",
    "\n"
   ]
  },
  {
   "cell_type": "code",
   "execution_count": 35,
   "id": "a9f19e57",
   "metadata": {},
   "outputs": [
    {
     "data": {
      "text/plain": [
       "'  A TALE THAT WAS NOT RIGHT'"
      ]
     },
     "execution_count": 35,
     "metadata": {},
     "output_type": "execute_result"
    }
   ],
   "source": [
    "# txt1을 대문자로 출력하시오..\n",
    "txt1.upper()\n"
   ]
  },
  {
   "cell_type": "code",
   "execution_count": 3,
   "id": "b3191de6",
   "metadata": {},
   "outputs": [
    {
     "data": {
      "text/plain": [
       "22"
      ]
     },
     "execution_count": 3,
     "metadata": {},
     "output_type": "execute_result"
    }
   ],
   "source": [
    "# txt1에서 right은 몇 번째 인덱스에 등장하는가?\n",
    "txt1.find(\"right\")\n",
    "txt1.index(\"right\")\n"
   ]
  },
  {
   "cell_type": "code",
   "execution_count": 37,
   "id": "6958ae94",
   "metadata": {},
   "outputs": [
    {
     "data": {
      "text/plain": [
       "['', '', 'A', 'tale', 'that', 'was', 'not', 'right']"
      ]
     },
     "execution_count": 37,
     "metadata": {},
     "output_type": "execute_result"
    }
   ],
   "source": [
    "# txt1을 space를 기준으로 나누어서 리스트에 담으시오..\n",
    "txt1.split(\" \")\n",
    "\n"
   ]
  },
  {
   "cell_type": "code",
   "execution_count": 38,
   "id": "c8c5a5c2",
   "metadata": {},
   "outputs": [
    {
     "data": {
      "text/plain": [
       "12"
      ]
     },
     "execution_count": 38,
     "metadata": {},
     "output_type": "execute_result"
    }
   ],
   "source": [
    "# txt2의 길이는 얼마인가?\n",
    "len(txt2)\n"
   ]
  },
  {
   "cell_type": "code",
   "execution_count": null,
   "id": "5963fee6",
   "metadata": {},
   "outputs": [],
   "source": [
    "# txt2을 character 단위로 나우어서 리스트에 담으시오..\n",
    "li = [x for x in txt2]\n",
    "li"
   ]
  },
  {
   "cell_type": "code",
   "execution_count": null,
   "id": "345f81eb",
   "metadata": {},
   "outputs": [],
   "source": [
    "# txt1의 좌우 공백을 제거하시오..\n",
    "txt1.strip()"
   ]
  },
  {
   "cell_type": "code",
   "execution_count": null,
   "id": "29504c5b",
   "metadata": {},
   "outputs": [],
   "source": [
    "# txt2를 역순으로 출력하시오..\n",
    "txt2[::-1]"
   ]
  },
  {
   "cell_type": "code",
   "execution_count": null,
   "id": "bbd03aae",
   "metadata": {},
   "outputs": [],
   "source": [
    "# txt1에서 짝수 인덱스만 출력하시오..\n",
    "li = [txt1[i] for i in range(len(txt1)) if i%2 == 0]\n",
    "li"
   ]
  },
  {
   "cell_type": "code",
   "execution_count": null,
   "id": "d0d906ef",
   "metadata": {},
   "outputs": [],
   "source": [
    "# txt2를 두 번 박복하시오..\n",
    "txt2 * 2"
   ]
  },
  {
   "cell_type": "code",
   "execution_count": null,
   "id": "2c4cbc22",
   "metadata": {},
   "outputs": [],
   "source": [
    "# txt1과 txt2를 연결하여 하나의 문자열로 만드시오..\n",
    "txt1 + txt2"
   ]
  },
  {
   "cell_type": "code",
   "execution_count": null,
   "id": "d6dfc325",
   "metadata": {},
   "outputs": [],
   "source": [
    "# txt1에서 'right'이 존내하는지 확인하시오..\n",
    "'right' in txt1"
   ]
  },
  {
   "cell_type": "code",
   "execution_count": null,
   "id": "1f4c31a3",
   "metadata": {},
   "outputs": [],
   "source": [
    "# txt1에서 뒤에서 5번째 문자를 출력하시오..\n",
    "txt1[-5]"
   ]
  },
  {
   "cell_type": "code",
   "execution_count": 4,
   "id": "94770a7e",
   "metadata": {},
   "outputs": [
    {
     "data": {
      "text/plain": [
       "[(0, ' '),\n",
       " (1, ' '),\n",
       " (2, 'A'),\n",
       " (3, ' '),\n",
       " (4, 't'),\n",
       " (5, 'a'),\n",
       " (6, 'l'),\n",
       " (7, 'e'),\n",
       " (8, ' '),\n",
       " (9, 't'),\n",
       " (10, 'h'),\n",
       " (11, 'a'),\n",
       " (12, 't'),\n",
       " (13, ' '),\n",
       " (14, 'w'),\n",
       " (15, 'a'),\n",
       " (16, 's'),\n",
       " (17, ' '),\n",
       " (18, 'n'),\n",
       " (19, 'o'),\n",
       " (20, 't'),\n",
       " (21, ' '),\n",
       " (22, 'r'),\n",
       " (23, 'i'),\n",
       " (24, 'g'),\n",
       " (25, 'h'),\n",
       " (26, 't')]"
      ]
     },
     "execution_count": 4,
     "metadata": {},
     "output_type": "execute_result"
    }
   ],
   "source": [
    "# txt1의 문자를 index와 튜플로 묶어서 리스트에 담으시오..\n",
    "li = [(i,e) for i, e in enumerate(txt1)]\n",
    "li"
   ]
  },
  {
   "cell_type": "code",
   "execution_count": 60,
   "id": "05f4cc8c",
   "metadata": {},
   "outputs": [
    {
     "data": {
      "text/plain": [
       "['http://www.naver.com']"
      ]
     },
     "execution_count": 60,
     "metadata": {},
     "output_type": "execute_result"
    }
   ],
   "source": [
    "url = 'http://www.naver.com/news/today=20221230'\n",
    "# url중 도메인만 출력하시오\n",
    "import re\n",
    "\n",
    "regex = re.findall(\"http[s]?://www\\.[a-z]+\\.[a-z]+\", url)\n",
    "regex\n"
   ]
  },
  {
   "cell_type": "code",
   "execution_count": null,
   "id": "2fa295f8",
   "metadata": {},
   "outputs": [],
   "source": [
    "\n",
    "# 아래와 같이 출력하시오.\n",
    "# name => '홍길동'\n",
    "# age => 17\n",
    "\n",
    "# sex => 남성\n",
    "# ...."
   ]
  },
  {
   "cell_type": "code",
   "execution_count": 64,
   "id": "d20efd6e",
   "metadata": {},
   "outputs": [
    {
     "data": {
      "text/plain": [
       "\"기회재정부가 오늘 '소상공인' 지원 예산을 위한 추가 경정예산안\""
      ]
     },
     "execution_count": 64,
     "metadata": {},
     "output_type": "execute_result"
    }
   ],
   "source": [
    "text = \"기회재정부가 오늘 '소상공인' 지원 예산을 위한 추가 경정예산안\"\n",
    "text"
   ]
  },
  {
   "cell_type": "markdown",
   "id": "651b1387",
   "metadata": {},
   "source": [
    "### datatype\n",
    "1. 기본형\n",
    "- int : 95\n",
    "- float : 95.8\n",
    "- bool : True, False\n",
    "2. 군집형(여로 요소가 모여서 하나의 데이터)\n",
    "- string: '', 요소의 수정, 삭제, 추가가 안됨..\n",
    "- list : [], 요소의 수정, 삭제, 추가가 자유로움..\n",
    "- tuple : (), 요소의 수정, 삭제, 추가 안됨... 수정하지 않을 값, 보조용\n",
    "- set : {}, 요소의 삭제, 추가 안됨. 중복요소가 없다. 집합연산\n",
    "- dictionary : {key:value}, 요소의 수정, 삭제, 추가가 자유로움. 데이터의 저장(json과 유사) 순서없고, 인덱스는 key역할\n",
    "               "
   ]
  },
  {
   "cell_type": "markdown",
   "id": "87ca338a",
   "metadata": {},
   "source": [
    "### List"
   ]
  },
  {
   "cell_type": "code",
   "execution_count": 6,
   "id": "ccb89073",
   "metadata": {},
   "outputs": [
    {
     "data": {
      "text/plain": [
       "[81, 90, 78, 'python', 'hello', True, [78, 56, 32], (24, 25, 3)]"
      ]
     },
     "execution_count": 6,
     "metadata": {},
     "output_type": "execute_result"
    }
   ],
   "source": [
    "score = [81, 90, 78, 'python', 'hello', True, [78, 56, 32], (24, 25, 3)]\n",
    "score"
   ]
  },
  {
   "cell_type": "code",
   "execution_count": 95,
   "id": "e6b50cbc",
   "metadata": {},
   "outputs": [
    {
     "data": {
      "text/plain": [
       "'t'"
      ]
     },
     "execution_count": 95,
     "metadata": {},
     "output_type": "execute_result"
    }
   ],
   "source": [
    "# 't'를 출력하시오...\n",
    "score[3][2]"
   ]
  },
  {
   "cell_type": "code",
   "execution_count": 96,
   "id": "7d58c22c",
   "metadata": {},
   "outputs": [
    {
     "data": {
      "text/plain": [
       "56"
      ]
     },
     "execution_count": 96,
     "metadata": {},
     "output_type": "execute_result"
    }
   ],
   "source": [
    "# 56을 출력하시오..\n",
    "score[6][1]"
   ]
  },
  {
   "cell_type": "code",
   "execution_count": 97,
   "id": "284bd3fa",
   "metadata": {},
   "outputs": [
    {
     "data": {
      "text/plain": [
       "25"
      ]
     },
     "execution_count": 97,
     "metadata": {},
     "output_type": "execute_result"
    }
   ],
   "source": [
    "# 마지막 요소의 최대값을 출력하시오\n",
    "max(score[-1])"
   ]
  },
  {
   "cell_type": "code",
   "execution_count": 98,
   "id": "28286fdc",
   "metadata": {},
   "outputs": [
    {
     "data": {
      "text/plain": [
       "[81, 90, 78, 'world', 'hello', True, [78, 56, 32], (24, 25, 3)]"
      ]
     },
     "execution_count": 98,
     "metadata": {},
     "output_type": "execute_result"
    }
   ],
   "source": [
    "# 'python'을 'world'로 수정하시오.\n",
    "score[3] = 'world'\n",
    "score"
   ]
  },
  {
   "cell_type": "code",
   "execution_count": 99,
   "id": "c97c168f",
   "metadata": {},
   "outputs": [
    {
     "data": {
      "text/plain": [
       "[81, 90, 78, 'world', 'hello', True, [78, 56, 32], (24, 25, 3), 'sun']"
      ]
     },
     "execution_count": 99,
     "metadata": {},
     "output_type": "execute_result"
    }
   ],
   "source": [
    "# 마지막에 'sun'을 추가하시오.\n",
    "score.append(\"sun\")\n",
    "score"
   ]
  },
  {
   "cell_type": "code",
   "execution_count": 100,
   "id": "fece2079",
   "metadata": {},
   "outputs": [
    {
     "data": {
      "text/plain": [
       "True"
      ]
     },
     "execution_count": 100,
     "metadata": {},
     "output_type": "execute_result"
    }
   ],
   "source": [
    "# 'world'가 있는지 확인하시오.\n",
    "'world' in score"
   ]
  },
  {
   "cell_type": "code",
   "execution_count": 7,
   "id": "845ac056",
   "metadata": {},
   "outputs": [
    {
     "ename": "TypeError",
     "evalue": "'reversed' is an invalid keyword argument for sort()",
     "output_type": "error",
     "traceback": [
      "\u001b[1;31m---------------------------------------------------------------------------\u001b[0m",
      "\u001b[1;31mTypeError\u001b[0m                                 Traceback (most recent call last)",
      "\u001b[1;32m~\\AppData\\Local\\Temp/ipykernel_9196/451567403.py\u001b[0m in \u001b[0;36m<module>\u001b[1;34m\u001b[0m\n\u001b[0;32m      1\u001b[0m \u001b[1;31m# 마지막에서 2 번째 요소를 내림차순으로 정렬하시오.\u001b[0m\u001b[1;33m\u001b[0m\u001b[1;33m\u001b[0m\u001b[0m\n\u001b[1;32m----> 2\u001b[1;33m \u001b[0msorted\u001b[0m\u001b[1;33m(\u001b[0m\u001b[0mscore\u001b[0m\u001b[1;33m[\u001b[0m\u001b[1;33m-\u001b[0m\u001b[1;36m2\u001b[0m\u001b[1;33m]\u001b[0m\u001b[1;33m,\u001b[0m \u001b[0mkey\u001b[0m\u001b[1;33m=\u001b[0m\u001b[1;32mlambda\u001b[0m \u001b[0mx\u001b[0m\u001b[1;33m:\u001b[0m \u001b[0mx\u001b[0m\u001b[1;33m,\u001b[0m\u001b[0mreversed\u001b[0m\u001b[1;33m=\u001b[0m\u001b[1;32mTrue\u001b[0m\u001b[1;33m)\u001b[0m\u001b[1;33m\u001b[0m\u001b[1;33m\u001b[0m\u001b[0m\n\u001b[0m",
      "\u001b[1;31mTypeError\u001b[0m: 'reversed' is an invalid keyword argument for sort()"
     ]
    }
   ],
   "source": [
    "# 마지막에서 2 번째 요소를 내림차순으로 정렬하시오.\n",
    "sorted(score[-2], key=lambda x: x,reversed=True)"
   ]
  },
  {
   "cell_type": "code",
   "execution_count": null,
   "id": "eb997f3b",
   "metadata": {},
   "outputs": [],
   "source": [
    "# 90은 몇 번째 인덱스에 있는지 확인하시오..\n",
    "score.index(90)"
   ]
  },
  {
   "cell_type": "code",
   "execution_count": null,
   "id": "fc74b35b",
   "metadata": {},
   "outputs": [],
   "source": [
    "# 리스트를 역순으로 정렬하시오.\n",
    "score.reverse()\n",
    "score"
   ]
  },
  {
   "cell_type": "code",
   "execution_count": null,
   "id": "c9e3d6c2",
   "metadata": {},
   "outputs": [],
   "source": [
    "# 3번째 인덱스에 'sea'를 추가하시오\n",
    "score.insert(3, \"sea\")\n",
    "score"
   ]
  },
  {
   "cell_type": "code",
   "execution_count": null,
   "id": "24b42031",
   "metadata": {},
   "outputs": [],
   "source": [
    "# True를 False로 수정하시오..\n",
    "score[score.index(True)] = False\n",
    "score"
   ]
  },
  {
   "cell_type": "code",
   "execution_count": null,
   "id": "d5e6a3cc",
   "metadata": {},
   "outputs": [],
   "source": [
    "# 'world'를 제거하시오\n",
    "score.remove('world')\n",
    "score"
   ]
  },
  {
   "cell_type": "code",
   "execution_count": null,
   "id": "83a6b93d",
   "metadata": {},
   "outputs": [],
   "source": [
    "# 7번재 요소를 제거하시오..\n",
    "score.pop(7)\n",
    "score"
   ]
  },
  {
   "cell_type": "code",
   "execution_count": null,
   "id": "98fc2f49",
   "metadata": {},
   "outputs": [],
   "source": [
    "# 마지막 요소를 제거하시오..\n",
    "score.pop()"
   ]
  },
  {
   "cell_type": "code",
   "execution_count": null,
   "id": "ea05ec32",
   "metadata": {},
   "outputs": [],
   "source": [
    "# 리스트의 길이를 출력하시오\n",
    "len(score)"
   ]
  },
  {
   "cell_type": "code",
   "execution_count": null,
   "id": "b04eda71",
   "metadata": {},
   "outputs": [],
   "source": [
    "# 두 번째 요소의 데이터 타입을 출력하시오..\n",
    "type(score[1])"
   ]
  },
  {
   "cell_type": "code",
   "execution_count": 143,
   "id": "0c5f16bc",
   "metadata": {},
   "outputs": [
    {
     "data": {
      "text/plain": [
       "'78:56:32'"
      ]
     },
     "execution_count": 143,
     "metadata": {},
     "output_type": "execute_result"
    }
   ],
   "source": [
    "# [78, 56, 32]를 \"78:56:32\"로 수정하시오..\n",
    "\":\".join([ str(s) for s in [78, 56, 32]])"
   ]
  },
  {
   "cell_type": "code",
   "execution_count": null,
   "id": "3abf8310",
   "metadata": {},
   "outputs": [],
   "source": [
    "# 모든 원소를 제거하시오\n",
    "score.clear()\n",
    "score"
   ]
  },
  {
   "cell_type": "code",
   "execution_count": 149,
   "id": "7770ff3e",
   "metadata": {},
   "outputs": [
    {
     "ename": "NameError",
     "evalue": "name 'score' is not defined",
     "output_type": "error",
     "traceback": [
      "\u001b[1;31m---------------------------------------------------------------------------\u001b[0m",
      "\u001b[1;31mNameError\u001b[0m                                 Traceback (most recent call last)",
      "\u001b[1;32m~\\AppData\\Local\\Temp/ipykernel_2956/1045968762.py\u001b[0m in \u001b[0;36m<module>\u001b[1;34m\u001b[0m\n\u001b[0;32m      1\u001b[0m \u001b[1;31m# 리스트를 삭제하시오..\u001b[0m\u001b[1;33m\u001b[0m\u001b[1;33m\u001b[0m\u001b[0m\n\u001b[0;32m      2\u001b[0m \u001b[1;32mdel\u001b[0m \u001b[0mscore\u001b[0m\u001b[1;33m\u001b[0m\u001b[1;33m\u001b[0m\u001b[0m\n\u001b[1;32m----> 3\u001b[1;33m \u001b[0mscore\u001b[0m\u001b[1;33m\u001b[0m\u001b[1;33m\u001b[0m\u001b[0m\n\u001b[0m",
      "\u001b[1;31mNameError\u001b[0m: name 'score' is not defined"
     ]
    }
   ],
   "source": [
    "# 리스트를 삭제하시오..\n",
    "del score\n",
    "score"
   ]
  },
  {
   "cell_type": "code",
   "execution_count": null,
   "id": "e5c65439",
   "metadata": {},
   "outputs": [],
   "source": []
  },
  {
   "cell_type": "markdown",
   "id": "5cd64ce7",
   "metadata": {},
   "source": [
    "### Set"
   ]
  },
  {
   "cell_type": "code",
   "execution_count": 23,
   "id": "62d8d1d6",
   "metadata": {},
   "outputs": [],
   "source": [
    "#원소가 없는 set인 s를 만드세요\n",
    "s = set()"
   ]
  },
  {
   "cell_type": "code",
   "execution_count": 259,
   "id": "5fa4a839",
   "metadata": {},
   "outputs": [],
   "source": [
    "A = {1,2,3,4,5,6}\n",
    "B = {1,2,3,7,8,9}\n",
    "C = {1,2,3}"
   ]
  },
  {
   "cell_type": "code",
   "execution_count": 261,
   "id": "a5fd5627",
   "metadata": {},
   "outputs": [
    {
     "data": {
      "text/plain": [
       "{1, 2, 3, 4, 5, 6, 7, 8, 9}"
      ]
     },
     "execution_count": 261,
     "metadata": {},
     "output_type": "execute_result"
    }
   ],
   "source": [
    "# 두 집합의 합집합을 출력\n",
    "A.union(B)\n"
   ]
  },
  {
   "cell_type": "code",
   "execution_count": 191,
   "id": "d2fbae7b",
   "metadata": {},
   "outputs": [
    {
     "data": {
      "text/plain": [
       "{1, 2, 3}"
      ]
     },
     "execution_count": 191,
     "metadata": {},
     "output_type": "execute_result"
    }
   ],
   "source": [
    "# 두 집합의 교집합을 출력\n",
    "A.intersection(B)"
   ]
  },
  {
   "cell_type": "code",
   "execution_count": 192,
   "id": "6c7a26e7",
   "metadata": {},
   "outputs": [
    {
     "data": {
      "text/plain": [
       "{4, 5, 6}"
      ]
     },
     "execution_count": 192,
     "metadata": {},
     "output_type": "execute_result"
    }
   ],
   "source": [
    "# A의 에대한 차집합\n",
    "A.difference(B)"
   ]
  },
  {
   "cell_type": "code",
   "execution_count": 193,
   "id": "c0d7f0ed",
   "metadata": {},
   "outputs": [
    {
     "data": {
      "text/plain": [
       "{4, 5, 6, 7, 8, 9}"
      ]
     },
     "execution_count": 193,
     "metadata": {},
     "output_type": "execute_result"
    }
   ],
   "source": [
    "# 대칭차집합\n",
    "A.symmetric_difference(B)"
   ]
  },
  {
   "cell_type": "code",
   "execution_count": 262,
   "id": "ac8ba40a",
   "metadata": {},
   "outputs": [
    {
     "data": {
      "text/plain": [
       "False"
      ]
     },
     "execution_count": 262,
     "metadata": {},
     "output_type": "execute_result"
    }
   ],
   "source": [
    "# C가 A의 부분집합인지 확인\n",
    "A.issubset(B)"
   ]
  },
  {
   "cell_type": "code",
   "execution_count": 263,
   "id": "6cb1673b",
   "metadata": {},
   "outputs": [
    {
     "data": {
      "text/plain": [
       "False"
      ]
     },
     "execution_count": 263,
     "metadata": {},
     "output_type": "execute_result"
    }
   ],
   "source": [
    "# A가 C를 포함하는지 확인\n",
    "A.issuperset(B)"
   ]
  },
  {
   "cell_type": "code",
   "execution_count": 264,
   "id": "5aef7708",
   "metadata": {},
   "outputs": [
    {
     "data": {
      "text/plain": [
       "6"
      ]
     },
     "execution_count": 264,
     "metadata": {},
     "output_type": "execute_result"
    }
   ],
   "source": [
    "# 집합 B의 길이를 출력\n",
    "len(B)"
   ]
  },
  {
   "cell_type": "code",
   "execution_count": 105,
   "id": "08b78a40",
   "metadata": {},
   "outputs": [
    {
     "data": {
      "text/plain": [
       "9"
      ]
     },
     "execution_count": 105,
     "metadata": {},
     "output_type": "execute_result"
    }
   ],
   "source": [
    "# 집합 B의 최대값 출력\n",
    "max(B)"
   ]
  },
  {
   "cell_type": "code",
   "execution_count": 106,
   "id": "3e19cf07",
   "metadata": {},
   "outputs": [
    {
     "data": {
      "text/plain": [
       "1"
      ]
     },
     "execution_count": 106,
     "metadata": {},
     "output_type": "execute_result"
    }
   ],
   "source": [
    "# 집합 B의 최소값 출력\n",
    "min(B)"
   ]
  },
  {
   "cell_type": "code",
   "execution_count": 107,
   "id": "2350d396",
   "metadata": {},
   "outputs": [
    {
     "data": {
      "text/plain": [
       "30"
      ]
     },
     "execution_count": 107,
     "metadata": {},
     "output_type": "execute_result"
    }
   ],
   "source": [
    "# 집합 B의 합을 출력\n",
    "sum(B)"
   ]
  },
  {
   "cell_type": "code",
   "execution_count": 267,
   "id": "e5bc590a",
   "metadata": {},
   "outputs": [
    {
     "data": {
      "text/plain": [
       "5.0"
      ]
     },
     "execution_count": 267,
     "metadata": {},
     "output_type": "execute_result"
    }
   ],
   "source": [
    "# 집합 B의 평균 출력\n",
    "import numpy as np\n",
    "np.mean(list(B))"
   ]
  },
  {
   "cell_type": "code",
   "execution_count": 198,
   "id": "c2b5bcbf",
   "metadata": {},
   "outputs": [
    {
     "data": {
      "text/plain": [
       "[9, 8, 7, 3, 2, 1]"
      ]
     },
     "execution_count": 198,
     "metadata": {},
     "output_type": "execute_result"
    }
   ],
   "source": [
    "# 집합 B의 내립차순 출력\n",
    "sorted(B, reverse=True)"
   ]
  },
  {
   "cell_type": "code",
   "execution_count": 36,
   "id": "66f2d3e3",
   "metadata": {},
   "outputs": [
    {
     "data": {
      "text/plain": [
       "False"
      ]
     },
     "execution_count": 36,
     "metadata": {},
     "output_type": "execute_result"
    }
   ],
   "source": [
    "# 집합 B에 5가 포함되아 있는지 확인\n",
    "5 in B"
   ]
  },
  {
   "cell_type": "code",
   "execution_count": null,
   "id": "383dd3fd",
   "metadata": {},
   "outputs": [],
   "source": []
  },
  {
   "cell_type": "markdown",
   "id": "e94163dd",
   "metadata": {},
   "source": [
    "## dic"
   ]
  },
  {
   "cell_type": "code",
   "execution_count": null,
   "id": "5fa1ee3a",
   "metadata": {},
   "outputs": [],
   "source": [
    "# mydict 라는 딕셔너리를 만드세요.\n",
    "d = {}\n",
    "d = dict()"
   ]
  },
  {
   "cell_type": "code",
   "execution_count": 251,
   "id": "a82d4bb3",
   "metadata": {},
   "outputs": [],
   "source": [
    "# 'red':4, 'blue':3, 'green': 1 세 요소를 추가 하세요.\n",
    "d['red'] = 4\n",
    "d['blue'] = 3\n",
    "d['green'] = 1"
   ]
  },
  {
   "cell_type": "code",
   "execution_count": 257,
   "id": "58c48880",
   "metadata": {},
   "outputs": [
    {
     "data": {
      "text/plain": [
       "False"
      ]
     },
     "execution_count": 257,
     "metadata": {},
     "output_type": "execute_result"
    }
   ],
   "source": [
    "# key에 'blue'가 있는지 확인하세요.\n",
    "'blue' in d"
   ]
  },
  {
   "cell_type": "code",
   "execution_count": null,
   "id": "a299eb36",
   "metadata": {},
   "outputs": [],
   "source": [
    "# mydict 의 길이를 출력하세요.\n",
    "len(d)"
   ]
  },
  {
   "cell_type": "code",
   "execution_count": null,
   "id": "2d1808f3",
   "metadata": {},
   "outputs": [],
   "source": [
    "# 'red'의 값을 10으로 수정하세요.\n",
    "d['red'] = 10"
   ]
  },
  {
   "cell_type": "code",
   "execution_count": null,
   "id": "fc310057",
   "metadata": {},
   "outputs": [],
   "source": [
    "# key값만 출력하세요\n",
    "d.keys()"
   ]
  },
  {
   "cell_type": "code",
   "execution_count": null,
   "id": "e848933a",
   "metadata": {},
   "outputs": [],
   "source": [
    "# value값만 출력하세요\n",
    "d.values()"
   ]
  },
  {
   "cell_type": "code",
   "execution_count": null,
   "id": "dffa23ec",
   "metadata": {},
   "outputs": [],
   "source": [
    "# key와 value를 튜플로 출력하세요.\n",
    "d.items()"
   ]
  },
  {
   "cell_type": "code",
   "execution_count": null,
   "id": "5d2d9d41",
   "metadata": {},
   "outputs": [],
   "source": [
    "# key기준으로 정렬하세요\n",
    "sorted(d.items(), key = lambda x: x[0])\n",
    "sorted(d)"
   ]
  },
  {
   "cell_type": "code",
   "execution_count": null,
   "id": "82756734",
   "metadata": {},
   "outputs": [],
   "source": [
    "# value기준으로 정렬하세요\n",
    "sorted(d.items(), key = lambda x: x[1])"
   ]
  },
  {
   "cell_type": "code",
   "execution_count": null,
   "id": "f17a895f",
   "metadata": {},
   "outputs": [],
   "source": [
    "# key 'blue'요소를 삭제하세요\n",
    "# del d['blue']\n",
    "d.pop('blue')\n",
    "d"
   ]
  },
  {
   "cell_type": "code",
   "execution_count": null,
   "id": "0f04be74",
   "metadata": {},
   "outputs": [],
   "source": [
    "# key 'pink'요소 값을 출력하되 오류가 없도록 하세요\n",
    "d.get('pink')"
   ]
  },
  {
   "cell_type": "code",
   "execution_count": null,
   "id": "bca4f71f",
   "metadata": {},
   "outputs": [],
   "source": [
    "# key 'pink'값을 출력하되 없으면, value 20으로 새로이 추가하세요\n",
    "d.setdefault('pink', 20)"
   ]
  },
  {
   "cell_type": "code",
   "execution_count": null,
   "id": "e37cc09d",
   "metadata": {},
   "outputs": [],
   "source": [
    "# value에 20이 있는지 확인하세요.\n",
    "20 in d.values()"
   ]
  },
  {
   "cell_type": "code",
   "execution_count": 44,
   "id": "111c1939",
   "metadata": {},
   "outputs": [],
   "source": [
    "# key는 'yellow'에 value는 30을 추가하세요.\n",
    "d['yellow']=30"
   ]
  },
  {
   "cell_type": "code",
   "execution_count": 45,
   "id": "1573f476",
   "metadata": {},
   "outputs": [
    {
     "data": {
      "text/plain": [
       "{'red': 10, 'green': 1, 'pink': 20, 'yellow': 30, '파랑': 50, '빨강': 70}"
      ]
     },
     "execution_count": 45,
     "metadata": {},
     "output_type": "execute_result"
    }
   ],
   "source": [
    "# yourdict = {'파랑': 50, \"빨강\": 70}을 합하세요...\n",
    "d.update({'파랑': 50, '빨강': 70})\n",
    "d"
   ]
  },
  {
   "cell_type": "code",
   "execution_count": null,
   "id": "8fa7ee75",
   "metadata": {},
   "outputs": [],
   "source": []
  },
  {
   "cell_type": "markdown",
   "id": "b21cca53",
   "metadata": {},
   "source": [
    "## if"
   ]
  },
  {
   "cell_type": "code",
   "execution_count": 47,
   "id": "4a7bc8c0",
   "metadata": {
    "collapsed": true
   },
   "outputs": [
    {
     "ename": "IndentationError",
     "evalue": "expected an indented block (Temp/ipykernel_9196/1434210639.py, line 5)",
     "output_type": "error",
     "traceback": [
      "\u001b[1;36m  File \u001b[1;32m\"C:\\Users\\bitcamp\\AppData\\Local\\Temp/ipykernel_9196/1434210639.py\"\u001b[1;36m, line \u001b[1;32m5\u001b[0m\n\u001b[1;33m    elif 조건식:\u001b[0m\n\u001b[1;37m             ^\u001b[0m\n\u001b[1;31mIndentationError\u001b[0m\u001b[1;31m:\u001b[0m expected an indented block\n"
     ]
    }
   ],
   "source": [
    "# 조건식 => True/False\n",
    "\n",
    "# if 조건식:\n",
    "#     실행코드\n",
    "# elif 조건식:\n",
    "#     실행코드\n",
    "# elif 조건식:\n",
    "#     실행코드\n",
    "# else:\n",
    "#     실행코드"
   ]
  },
  {
   "cell_type": "code",
   "execution_count": 49,
   "id": "0fa56934",
   "metadata": {},
   "outputs": [
    {
     "name": "stdout",
     "output_type": "stream",
     "text": [
      "점수를 입력하세요95\n",
      "A학점 입니다\n"
     ]
    }
   ],
   "source": [
    "# 점수를 입력받은 후 학점을 출력하시오..\n",
    "\n",
    "score = int(input('점수를 입력하세요'))\n",
    "if score >= 90:\n",
    "    print('A학점 입니다')\n",
    "elif 90 > score >= 80:\n",
    "    print('B학점 입니다')\n",
    "elif 80 > score >= 70:\n",
    "    print('C학점 입니다')\n",
    "else:\n",
    "    print('D학점 입니다..')"
   ]
  },
  {
   "cell_type": "code",
   "execution_count": 52,
   "id": "4f124e39",
   "metadata": {},
   "outputs": [
    {
     "name": "stdout",
     "output_type": "stream",
     "text": [
      "비밀번호를 입력하시오.1234\n",
      "환영합니다\n"
     ]
    }
   ],
   "source": [
    "# 비밀번호 = 1234 인 경우 비밀번호를 입력받은 후 맞으면 '환영합니다'. 틀리면\n",
    "# '비밀번호가 틀립니다' 를 출력하세오\n",
    "\n",
    "num = int(input(\"비밀번호를 입력하시오.\"))\n",
    "\n",
    "if num == 1234:\n",
    "    print(\"환영합니다\")\n",
    "else:\n",
    "    print(\"비밀번호가 틀립니다\")"
   ]
  },
  {
   "cell_type": "code",
   "execution_count": 54,
   "id": "a5786fa5",
   "metadata": {},
   "outputs": [
    {
     "name": "stdout",
     "output_type": "stream",
     "text": [
      "4\n",
      "짝수입니다\n"
     ]
    }
   ],
   "source": [
    "# 임의의 정수를 입력받은 후 짝수면 '짝수입니다'\n",
    "# 홀수면 '홀수입니다'\n",
    "\n",
    "num = int(input())\n",
    "\n",
    "if num%2 == 0:\n",
    "    print(\"짝수입니다\")\n",
    "else:\n",
    "    print(\"홀수입니다\")"
   ]
  },
  {
   "cell_type": "code",
   "execution_count": 55,
   "id": "2b836263",
   "metadata": {},
   "outputs": [],
   "source": [
    "# 주민번호 '851205-2000000'\n",
    "# 주민번호를 입력받은 후 \"당신의 나이는 _이고. 성별은 _입니다\"를 출력하시오.."
   ]
  },
  {
   "cell_type": "code",
   "execution_count": 78,
   "id": "687614c4",
   "metadata": {},
   "outputs": [
    {
     "name": "stdout",
     "output_type": "stream",
     "text": [
      "851205-205465465\n",
      "당신의 나이는 37세이고, 당신의 성별은 여자입니다.\n"
     ]
    }
   ],
   "source": [
    "import datetime\n",
    "num = input()\n",
    "age = int(datetime.datetime.now().year- (1900 + int(num[:2])))\n",
    "gender = \"\"\n",
    "if num[7] == \"1\":\n",
    "    gender = \"여자\"\n",
    "elif num[7] == \"2\":\n",
    "    gender = \"남자\"\n",
    "\n",
    "print(\"당신의 나이는 {}세이고, 당신의 성별은 {}입니다.\".format(age, gender) )"
   ]
  },
  {
   "cell_type": "code",
   "execution_count": 83,
   "id": "6fb8c964",
   "metadata": {},
   "outputs": [
    {
     "name": "stdout",
     "output_type": "stream",
     "text": [
      "이름을 입력하시오jessy\n",
      "{'Mary': 85, 'Sam': 95, 'Bob': 87, 'Han': 77, 'jessy': 0}\n"
     ]
    }
   ],
   "source": [
    "scores = {'Mary': 85, 'Sam': 95, 'Bob': 87, \"Han\": 77}\n",
    "\n",
    "# 이름을 입력받은후 이름이 있으면서 80점 이상이면 '합격입니다'.\n",
    "# 이하이면 '불합격입니다'를 출력하시오. 이름이 없으면 값을 0으로 하여 추가하시오\n",
    "\n",
    "nam = input('이름을 입력하시오')\n",
    "\n",
    "if nam in scores:\n",
    "    if scores[nam] >= 80:\n",
    "        print(\"합격입니다.\")\n",
    "    else:\n",
    "        print(\"불합격입니다.\")\n",
    "else:\n",
    "    scores[nam] = 0\n",
    "    print(scores)"
   ]
  },
  {
   "cell_type": "code",
   "execution_count": 86,
   "id": "12019d40",
   "metadata": {},
   "outputs": [
    {
     "name": "stdout",
     "output_type": "stream",
     "text": [
      "mine <= 가위, 바위, 보 중에서 하나를 선택하세요바위\n",
      "yours <= 가위, 바위, 보 중에서 하나를 선택하세요보\n",
      "당신이 이겼습니다.\n"
     ]
    }
   ],
   "source": [
    "# 가위, 바위, 보 게임\n",
    "\n",
    "mine = input('mine <= 가위, 바위, 보 중에서 하나를 선택하세요')\n",
    "yours = input('yours <= 가위, 바위, 보 중에서 하나를 선택하세요')\n",
    "\n",
    "# 비겼습니다\n",
    "if mine == yours:\n",
    "    print(\"비겼습니다.\")\n",
    "else:\n",
    "    if yours == \"가위\":\n",
    "        if mine == \"바위\":\n",
    "            print(\"내가 이겼습니다.\")\n",
    "        elif mine == \"보\":\n",
    "            print(\"당신이 이겼습니다.\")\n",
    "    if yours == \"바위\":\n",
    "        if mine == \"보\":\n",
    "            print(\"내가 이겼습니다.\")\n",
    "        elif mine == \"가위\":\n",
    "            print(\"당신이 이겼습니다.\")\n",
    "    if yours == \"보\":\n",
    "        if mine == \"가위\":\n",
    "            print(\"내가 이겼습니다.\")\n",
    "        elif mine == \"바위\":\n",
    "            print(\"당신이 이겼습니다.\")\n"
   ]
  },
  {
   "cell_type": "code",
   "execution_count": null,
   "id": "5796ce6a",
   "metadata": {},
   "outputs": [],
   "source": []
  },
  {
   "cell_type": "code",
   "execution_count": null,
   "id": "bfa4e691",
   "metadata": {},
   "outputs": [],
   "source": [
    "# 나이를 입력받은 후, 50대 이상이면 중년이시군요, 20~40대 이면 젊으시군요.\n",
    "# 20세 미만이면 '어리시군요'를 출력.."
   ]
  },
  {
   "cell_type": "code",
   "execution_count": 95,
   "id": "4c69d725",
   "metadata": {},
   "outputs": [
    {
     "name": "stdout",
     "output_type": "stream",
     "text": [
      "나이를 입력해주세요19\n",
      "어리시군요\n"
     ]
    }
   ],
   "source": [
    "age = int(input(\"나이를 입력해주세요\"))\n",
    "if age >= 50:\n",
    "    print(\"중년이시군요.\")\n",
    "elif 49 >= age >= 20:\n",
    "    print(\"젊으시군요.\")\n",
    "else:\n",
    "    print(\"어리시군요\")"
   ]
  },
  {
   "cell_type": "code",
   "execution_count": null,
   "id": "1d05dacb",
   "metadata": {},
   "outputs": [],
   "source": []
  },
  {
   "cell_type": "markdown",
   "id": "33bc5aa1",
   "metadata": {},
   "source": [
    "### 반복문"
   ]
  },
  {
   "cell_type": "code",
   "execution_count": null,
   "id": "55f96f21",
   "metadata": {},
   "outputs": [],
   "source": [
    "# for 임시변수 in 군집형데이터:\n",
    "#     실행코드\n",
    "#     실행코드\n",
    "#     ..."
   ]
  },
  {
   "cell_type": "code",
   "execution_count": null,
   "id": "4d73a624",
   "metadata": {},
   "outputs": [],
   "source": [
    "# while 조건문:\n",
    "#     실행코드\n",
    "#     실행코드\n",
    "#     ..."
   ]
  },
  {
   "cell_type": "code",
   "execution_count": 109,
   "id": "41cc1d88",
   "metadata": {},
   "outputs": [
    {
     "data": {
      "text/plain": [
       "8"
      ]
     },
     "execution_count": 109,
     "metadata": {},
     "output_type": "execute_result"
    }
   ],
   "source": [
    "# 모음이 숫자를 계산하시오... 단, 모음은 'aeiouAEIOU'\n",
    "\n",
    "text = 'computational thinking'\n",
    "\n",
    "suma = 0\n",
    "\n",
    "for c in text:\n",
    "    if c in \"aeiouAEIOU\":\n",
    "        suma += 1\n",
    "suma"
   ]
  },
  {
   "cell_type": "code",
   "execution_count": 113,
   "id": "2f3f8779",
   "metadata": {},
   "outputs": [
    {
     "data": {
      "text/plain": [
       "22"
      ]
     },
     "execution_count": 113,
     "metadata": {},
     "output_type": "execute_result"
    }
   ],
   "source": [
    "# word의 길이가 4 이상인 단어의 단어길이 총합을 구하시오\n",
    "\n",
    "words = ['mountain', 'sea', 'sky', 'river', 'cloud', 'tree']\n",
    "\n",
    "suma = 0\n",
    "for word in words:\n",
    "    if len(word) >= 4:\n",
    "        suma += len(word)\n",
    "suma"
   ]
  },
  {
   "cell_type": "code",
   "execution_count": 117,
   "id": "b1ff4b80",
   "metadata": {},
   "outputs": [
    {
     "name": "stdout",
     "output_type": "stream",
     "text": [
      "[('a', '가'), ('a', '나'), ('a', '다'), ('a', '라'), ('b', '가'), ('b', '나'), ('b', '다'), ('b', '라'), ('c', '가'), ('c', '나'), ('c', '다'), ('c', '라'), ('d', '가'), ('d', '나'), ('d', '다'), ('d', '라')]\n"
     ]
    }
   ],
   "source": [
    "L1 = ['a', 'b', 'c', 'd']\n",
    "L2 = ['가', '나', '다', '라']\n",
    "\n",
    "li = []\n",
    "for x in L1:\n",
    "    for y in L2:\n",
    "      li.append((x, y))\n",
    "    \n",
    "print(li)"
   ]
  },
  {
   "cell_type": "code",
   "execution_count": 140,
   "id": "969df421",
   "metadata": {},
   "outputs": [
    {
     "data": {
      "text/plain": [
       "(100, 110)"
      ]
     },
     "execution_count": 140,
     "metadata": {},
     "output_type": "execute_result"
    }
   ],
   "source": [
    "# for문과 while문을 이용해서 1부터 20까지의 정수에서 짝수의 합과 홀수의 합을 구하시오..\n",
    "odd = 0\n",
    "even = 0\n",
    "for i in range(1, 21):\n",
    "    if i%2 == 0:\n",
    "        even += i\n",
    "    elif i%2 == 1:\n",
    "        odd += i\n",
    "odd,even\n",
    "\n"
   ]
  },
  {
   "cell_type": "code",
   "execution_count": 139,
   "id": "5edc7242",
   "metadata": {},
   "outputs": [
    {
     "data": {
      "text/plain": [
       "(100, 110)"
      ]
     },
     "execution_count": 139,
     "metadata": {},
     "output_type": "execute_result"
    }
   ],
   "source": [
    "odd = 0\n",
    "even = 0\n",
    "i = 0\n",
    "while i < 20:\n",
    "    i += 1\n",
    "    if i%2 == 0:\n",
    "        even += i\n",
    "    elif i%2 == 1:\n",
    "        odd += i\n",
    "odd,even"
   ]
  },
  {
   "cell_type": "code",
   "execution_count": 148,
   "id": "93ebb888",
   "metadata": {},
   "outputs": [
    {
     "name": "stdout",
     "output_type": "stream",
     "text": [
      "5\n"
     ]
    }
   ],
   "source": [
    "# 임의의 수를 입력받은 후 팩토리얼을 계산하는 코드를 작성하시오.\n",
    "\n",
    "# 5! = 5*4*3*2*1\n",
    "num = int(input())\n",
    "\n",
    "result = 1\n",
    "while num > 1:\n",
    "    result *= num\n",
    "    num -= 1\n"
   ]
  },
  {
   "cell_type": "code",
   "execution_count": 150,
   "id": "a673b217",
   "metadata": {},
   "outputs": [
    {
     "name": "stdout",
     "output_type": "stream",
     "text": [
      "20\n",
      "19\n",
      "18\n",
      "17\n",
      "16\n",
      "15\n",
      "14\n",
      "13\n",
      "12\n",
      "11\n",
      "10\n",
      "9\n",
      "8\n",
      "7\n",
      "6\n",
      "5\n",
      "4\n",
      "3\n",
      "2\n",
      "1\n"
     ]
    }
   ],
   "source": [
    "for i in range(20, 0, -1):\n",
    "    print(i)"
   ]
  },
  {
   "cell_type": "code",
   "execution_count": 154,
   "id": "88c7a485",
   "metadata": {},
   "outputs": [
    {
     "data": {
      "text/plain": [
       "(70, 130)"
      ]
     },
     "execution_count": 154,
     "metadata": {},
     "output_type": "execute_result"
    }
   ],
   "source": [
    "L = [70, 100, 80, 120, 130]\n",
    "\n",
    "# 반복문을 이용해서 최대값과 최소값을 구하시오.\n",
    "maxa = 0\n",
    "mina = 999\n",
    "for i in range(len(L)):\n",
    "    if maxa < L[i]:\n",
    "        maxa = L[i]\n",
    "        \n",
    "    if mina > L[i]:\n",
    "        mina = L[i]\n",
    "        \n",
    "mina, maxa"
   ]
  },
  {
   "cell_type": "code",
   "execution_count": 156,
   "id": "57fbba83",
   "metadata": {
    "scrolled": true
   },
   "outputs": [
    {
     "name": "stdout",
     "output_type": "stream",
     "text": [
      "\n",
      "*\n",
      "**\n",
      "***\n",
      "****\n",
      "*****\n"
     ]
    }
   ],
   "source": [
    "# *\n",
    "# ** \n",
    "# *** \n",
    "# **** \n",
    "# *****\n",
    "\n",
    "for i in range(6):\n",
    "    print(\"*\" * i)"
   ]
  },
  {
   "cell_type": "code",
   "execution_count": 158,
   "id": "5116676f",
   "metadata": {},
   "outputs": [
    {
     "name": "stdout",
     "output_type": "stream",
     "text": [
      " *****\n",
      "  ****\n",
      "   ***\n",
      "    **\n",
      "     *\n",
      "      \n"
     ]
    }
   ],
   "source": [
    "for i in range(6):\n",
    "    print(\" \" * i, \"*\"*(5-i))"
   ]
  },
  {
   "cell_type": "code",
   "execution_count": 159,
   "id": "51ce7a95",
   "metadata": {},
   "outputs": [
    {
     "name": "stdout",
     "output_type": "stream",
     "text": [
      "      \n",
      "     *\n",
      "    **\n",
      "   ***\n",
      "  ****\n",
      " *****\n"
     ]
    }
   ],
   "source": [
    "for i in range(6):\n",
    "    print(\" \" * (5-i), \"*\"*i)"
   ]
  },
  {
   "cell_type": "code",
   "execution_count": 161,
   "id": "000ff72f",
   "metadata": {},
   "outputs": [
    {
     "name": "stdout",
     "output_type": "stream",
     "text": [
      "*****\n",
      "****\n",
      "***\n",
      "**\n",
      "*\n",
      "\n"
     ]
    }
   ],
   "source": [
    "for i in range(6):\n",
    "    print(\"*\" * (5-i))"
   ]
  },
  {
   "cell_type": "code",
   "execution_count": 162,
   "id": "3a83bfc0",
   "metadata": {},
   "outputs": [
    {
     "name": "stdout",
     "output_type": "stream",
     "text": [
      "o\n",
      "p\n",
      "t\n",
      "t\n",
      "o\n",
      "a\n",
      " \n",
      "h\n",
      "n\n",
      "i\n",
      "g\n"
     ]
    }
   ],
   "source": [
    "text = 'computational thinking'\n",
    "\n",
    "# 홀수번 인덱스만 출력하시오..\n",
    "\n",
    "for i in range(len(text)):\n",
    "    if i%2 == 1:\n",
    "        print(text[i])"
   ]
  },
  {
   "cell_type": "code",
   "execution_count": null,
   "id": "a6f10c46",
   "metadata": {},
   "outputs": [],
   "source": []
  },
  {
   "cell_type": "code",
   "execution_count": 248,
   "id": "54934418",
   "metadata": {},
   "outputs": [
    {
     "name": "stdout",
     "output_type": "stream",
     "text": [
      "2*1=02 2*2=04 2*3=06 2*4=08 2*5=10 2*6=12 2*7=14 2*8=16 2*9=18 3*1=03 3*2=06 3*3=09 3*4=12 3*5=15 3*6=18 3*7=21 3*8=24 3*9=27 4*1=04 4*2=08 4*3=12 4*4=16 4*5=20 4*6=24 4*7=28 4*8=32 4*9=36 5*1=05 5*2=10 5*3=15 5*4=20 5*5=25 5*6=30 5*7=35 5*8=40 5*9=45 6*1=06 6*2=12 6*3=18 6*4=24 6*5=30 6*6=36 6*7=42 6*8=48 6*9=54 7*1=07 7*2=14 7*3=21 7*4=28 7*5=35 7*6=42 7*7=49 7*8=56 7*9=63 8*1=08 8*2=16 8*3=24 8*4=32 8*5=40 8*6=48 8*7=56 8*8=64 8*9=72 9*1=09 9*2=18 9*3=27 9*4=36 9*5=45 9*6=54 9*7=63 9*8=72 9*9=81 "
     ]
    }
   ],
   "source": [
    "# 구구단을 출력하시오... \n",
    "\n",
    "for i in range(2, 10):\n",
    "    for j in range(1, 10):\n",
    "        print(\"{}*{}={:02d}\".format(i,j,i*j), end=\" \")"
   ]
  },
  {
   "cell_type": "code",
   "execution_count": null,
   "id": "1cb50f19",
   "metadata": {},
   "outputs": [],
   "source": []
  },
  {
   "cell_type": "markdown",
   "id": "343dd5ff",
   "metadata": {},
   "source": [
    "## File"
   ]
  },
  {
   "cell_type": "code",
   "execution_count": 199,
   "id": "d6c167fc",
   "metadata": {},
   "outputs": [],
   "source": [
    "# 1. 파일을 연다 - open(), 모드를 설정 : 'r',  'w'\n",
    "# 2. 파일을 읽거나 쓴다 -  read(), write()\n",
    "# 3. 파일을 닫는다 - close()\n",
    "\n",
    "# f = open('filename', 'r')\n",
    "# text = f.read()\n",
    "# f.close()\n",
    "\n",
    "# with open('filename', 'r') as f:  # with 구문 : close()를 자동으로 수행..\n",
    "#     text = f.read()\n",
    "    \n",
    "# f = open(\"filename\", 'w')\n",
    "# f.write(text)\n",
    "# f.close()\n",
    "\n",
    "# with open('filename', 'w') as f:  \n",
    "#     f.write(text)"
   ]
  },
  {
   "cell_type": "code",
   "execution_count": null,
   "id": "7b01064a",
   "metadata": {},
   "outputs": [],
   "source": [
    "# 뉴스 텍스트를 'news.txt' 파일로 저장하시오.."
   ]
  },
  {
   "cell_type": "code",
   "execution_count": 246,
   "id": "325870b4",
   "metadata": {
    "collapsed": true
   },
   "outputs": [
    {
     "name": "stdout",
     "output_type": "stream",
     "text": [
      "윤석열 국민의힘 대선 후보 부인 김건희씨의 '7시간 통화 녹취록'이 공개돼 정치권에 파장이 일고 있는 가운데, 김영환 전 국회의원이 '김건희가 최순실이 될 수 없는 5가지 이유'를 밝혀 관심이 집중되고 있다.\n",
      "\n",
      "17일 정치권에 따르면, 김영환 전 의원은 자신의 페이스북에 '김건희가 최순실이 될 수 없는 5가지 이유'라는 제하의 글을 통해 \"정치가 두렵다\", \"윤석열은 문재인이 만들었다\", \"조국은 민주당이 망가트렸다\", \"안희정이 불쌍하다\", \"나는 나이트클럽을 싫어한다. 그러니 쥴리가 아니다\"라고 운을 뗐다.\n",
      "\n",
      "김 전 의원은 \"그는 순진하게도 정치판의 사기꾼에게도 자기 남편을 도와달라고 매달리는 순진한 여성이었다\"면서 \"그의 정치적 술수의 몽매함이 그를 구했다\"고 주장했다.\n",
      "\n",
      "이어 \"상식이 정치를 이기고, 순수가 노회를 이기고, 진실이 공작을 이겼다\"며 \"MBC는 이재명 형수욕설을 방영하지 않는 한 공영방송이라 할 수 없다. 큰일 났다\"고 지적했다.\n",
      "\n",
      "그러면서 \"무엇보다 윤석열은 주변에 친구가 많다. 그리고 천부적으로 그는 계란말이를 좋아하고 혼밥혼술을 싫어한다\"면서 \"토리 아빠가 최순실을? 이재명 민주당의 이 실망을 어찌 할꼬. 쯧쯧 에고고!\"라고 비꼬았다.\n",
      "\n",
      "또 다른 게시물에서 김 전 의원은 김건희씨 녹취록 공개와 관련, \"참 놀라운 반전이다. 이래서 정치가 어렵고 흥미롭다\"며 \"김건희씨의 오늘 녹취는 가식이 없어 좋았다. 그동안 불편한 진실의 일단이 드러났다\"고 말했다. 그는 \"안희정 보수 탄핵론 등 한 번 깊이 생각해 볼 문제를 던져 주었다\"면서 \"예상한대로 그녀는 새로운 영부인으로도 손색이 없다\"고 평가하기도 했다.\n",
      "\n",
      "김 전 의원은 이재명 더불어민주당 대선 후보와 부인 김혜경씨에 대해서는 날선 반응을 보였다. 그는 \"아하 혜경궁 김씨였구나! 공익제보자 이병철의 사인이 나왔다. 대동맥 파열과 박리란다. 국과수의 구두소견을 믿는다 할지라도 그의 대동맥 파열과 박리는 왜 생겼을까\"라며 \"아니 대장동 유한기, 김문기의 죽음에 이어 이재명 지사와 관련된 사람들의 심장이 줄지어 ？어 섰다. 살인멸구다\"라고 의구심을 표했다.\n",
      "\n",
      "이어 \"대한민국 검찰은 죽음에 이를 시간을 충분히 주었다. 잔인한 검찰이다. 국민은 섬뜩하고 대장동과 변호사 대납사건의 진실은 가물거린다\"며 \"대장동 사건은 온갖 늑장수사를 거쳐 정진상 실장의 소환 날짜도 잡지 못하고 있다\"고 꼬집었다.\n",
      "\n",
      "그러면서 \"그 사이에 유한기 김문기 두 사람의 심장이 ？었다. 이병철 제보자의 심장박리에는 경찰의 기소 결정과 달리 혜경궁김씨를 불기소한 검찰과 변호사 대납 의혹이 자리잡고 있다\"면서 \"이태형 변호사의 혁혁한 공로는 검찰의 혜경궁김씨 사건의 기소를 막은 수원지검 출신 변호사에 대한 전관예우와 그에 관한 미공개 녹취록에 원인이 있다\"고 주장하기도 했다.\n",
      "\n",
      "끝으로 김 전 의원은 \"결국 혜경궁이다. 그가 친문이면서 이재명 지사와 싸운 것도 그가 미공개 녹취록을 안고 세상을 떠난 것도 25억 변호사 수임의혹도 다 이런 업적에 대한 성공보수가 아닐까\"라며 \"이 모든 진실은 그가 남긴 휴대폰과 컴퓨터에 남아 있다. 그는 유서 대신 이 녹취록을 남겼다. 혜경궁김씨를 영원히 땅에 묻으려고 한 검찰과 변호사의 진실은 이병철 제보자의 심장에서 박리되어 우리 곁에 남아 있다. 그는 누가 뭐래도 공익제보자이다. 그의 명복을 빈다\"고도 했다.\n"
     ]
    }
   ],
   "source": [
    "# 'news.txt' 파일을 4가지 다른 방식으로 열어서 출력하시오\n",
    "f = open('news.txt', 'r', encoding = \"utf-8\")\n",
    "text = f.read()\n",
    "f.close()\n",
    "print(text)"
   ]
  },
  {
   "cell_type": "code",
   "execution_count": 244,
   "id": "4876bae8",
   "metadata": {
    "collapsed": true
   },
   "outputs": [
    {
     "name": "stdout",
     "output_type": "stream",
     "text": [
      "윤석열 국민의힘 대선 후보 부인 김건희씨의 '7시간 통화 녹취록'이 공개돼 정치권에 파장이 일고 있는 가운데, 김영환 전 국회의원이 '김건희가 최순실이 될 수 없는 5가지 이유'를 밝혀 관심이 집중되고 있다.\n",
      "\n",
      "17일 정치권에 따르면, 김영환 전 의원은 자신의 페이스북에 '김건희가 최순실이 될 수 없는 5가지 이유'라는 제하의 글을 통해 \"정치가 두렵다\", \"윤석열은 문재인이 만들었다\", \"조국은 민주당이 망가트렸다\", \"안희정이 불쌍하다\", \"나는 나이트클럽을 싫어한다. 그러니 쥴리가 아니다\"라고 운을 뗐다.\n",
      "\n",
      "김 전 의원은 \"그는 순진하게도 정치판의 사기꾼에게도 자기 남편을 도와달라고 매달리는 순진한 여성이었다\"면서 \"그의 정치적 술수의 몽매함이 그를 구했다\"고 주장했다.\n",
      "\n",
      "이어 \"상식이 정치를 이기고, 순수가 노회를 이기고, 진실이 공작을 이겼다\"며 \"MBC는 이재명 형수욕설을 방영하지 않는 한 공영방송이라 할 수 없다. 큰일 났다\"고 지적했다.\n",
      "\n",
      "그러면서 \"무엇보다 윤석열은 주변에 친구가 많다. 그리고 천부적으로 그는 계란말이를 좋아하고 혼밥혼술을 싫어한다\"면서 \"토리 아빠가 최순실을? 이재명 민주당의 이 실망을 어찌 할꼬. 쯧쯧 에고고!\"라고 비꼬았다.\n",
      "\n",
      "또 다른 게시물에서 김 전 의원은 김건희씨 녹취록 공개와 관련, \"참 놀라운 반전이다. 이래서 정치가 어렵고 흥미롭다\"며 \"김건희씨의 오늘 녹취는 가식이 없어 좋았다. 그동안 불편한 진실의 일단이 드러났다\"고 말했다. 그는 \"안희정 보수 탄핵론 등 한 번 깊이 생각해 볼 문제를 던져 주었다\"면서 \"예상한대로 그녀는 새로운 영부인으로도 손색이 없다\"고 평가하기도 했다.\n",
      "\n",
      "김 전 의원은 이재명 더불어민주당 대선 후보와 부인 김혜경씨에 대해서는 날선 반응을 보였다. 그는 \"아하 혜경궁 김씨였구나! 공익제보자 이병철의 사인이 나왔다. 대동맥 파열과 박리란다. 국과수의 구두소견을 믿는다 할지라도 그의 대동맥 파열과 박리는 왜 생겼을까\"라며 \"아니 대장동 유한기, 김문기의 죽음에 이어 이재명 지사와 관련된 사람들의 심장이 줄지어 ？어 섰다. 살인멸구다\"라고 의구심을 표했다.\n",
      "\n",
      "이어 \"대한민국 검찰은 죽음에 이를 시간을 충분히 주었다. 잔인한 검찰이다. 국민은 섬뜩하고 대장동과 변호사 대납사건의 진실은 가물거린다\"며 \"대장동 사건은 온갖 늑장수사를 거쳐 정진상 실장의 소환 날짜도 잡지 못하고 있다\"고 꼬집었다.\n",
      "\n",
      "그러면서 \"그 사이에 유한기 김문기 두 사람의 심장이 ？었다. 이병철 제보자의 심장박리에는 경찰의 기소 결정과 달리 혜경궁김씨를 불기소한 검찰과 변호사 대납 의혹이 자리잡고 있다\"면서 \"이태형 변호사의 혁혁한 공로는 검찰의 혜경궁김씨 사건의 기소를 막은 수원지검 출신 변호사에 대한 전관예우와 그에 관한 미공개 녹취록에 원인이 있다\"고 주장하기도 했다.\n",
      "\n",
      "끝으로 김 전 의원은 \"결국 혜경궁이다. 그가 친문이면서 이재명 지사와 싸운 것도 그가 미공개 녹취록을 안고 세상을 떠난 것도 25억 변호사 수임의혹도 다 이런 업적에 대한 성공보수가 아닐까\"라며 \"이 모든 진실은 그가 남긴 휴대폰과 컴퓨터에 남아 있다. 그는 유서 대신 이 녹취록을 남겼다. 혜경궁김씨를 영원히 땅에 묻으려고 한 검찰과 변호사의 진실은 이병철 제보자의 심장에서 박리되어 우리 곁에 남아 있다. 그는 누가 뭐래도 공익제보자이다. 그의 명복을 빈다\"고도 했다.\n"
     ]
    }
   ],
   "source": [
    "with open('news.txt', 'r', encoding = \"utf-8\") as f:\n",
    "    text = f.read()\n",
    "print(text)"
   ]
  },
  {
   "cell_type": "code",
   "execution_count": 243,
   "id": "ad8308a3",
   "metadata": {
    "collapsed": true
   },
   "outputs": [
    {
     "name": "stdout",
     "output_type": "stream",
     "text": [
      "윤석열 국민의힘 대선 후보 부인 김건희씨의 '7시간 통화 녹취록'이 공개돼 정치권에 파장이 일고 있는 가운데, 김영환 전 국회의원이 '김건희가 최순실이 될 수 없는 5가지 이유'를 밝혀 관심이 집중되고 있다.\n",
      "\n",
      "\n",
      "\n",
      "17일 정치권에 따르면, 김영환 전 의원은 자신의 페이스북에 '김건희가 최순실이 될 수 없는 5가지 이유'라는 제하의 글을 통해 \"정치가 두렵다\", \"윤석열은 문재인이 만들었다\", \"조국은 민주당이 망가트렸다\", \"안희정이 불쌍하다\", \"나는 나이트클럽을 싫어한다. 그러니 쥴리가 아니다\"라고 운을 뗐다.\n",
      "\n",
      "\n",
      "\n",
      "김 전 의원은 \"그는 순진하게도 정치판의 사기꾼에게도 자기 남편을 도와달라고 매달리는 순진한 여성이었다\"면서 \"그의 정치적 술수의 몽매함이 그를 구했다\"고 주장했다.\n",
      "\n",
      "\n",
      "\n",
      "이어 \"상식이 정치를 이기고, 순수가 노회를 이기고, 진실이 공작을 이겼다\"며 \"MBC는 이재명 형수욕설을 방영하지 않는 한 공영방송이라 할 수 없다. 큰일 났다\"고 지적했다.\n",
      "\n",
      "\n",
      "\n",
      "그러면서 \"무엇보다 윤석열은 주변에 친구가 많다. 그리고 천부적으로 그는 계란말이를 좋아하고 혼밥혼술을 싫어한다\"면서 \"토리 아빠가 최순실을? 이재명 민주당의 이 실망을 어찌 할꼬. 쯧쯧 에고고!\"라고 비꼬았다.\n",
      "\n",
      "\n",
      "\n",
      "또 다른 게시물에서 김 전 의원은 김건희씨 녹취록 공개와 관련, \"참 놀라운 반전이다. 이래서 정치가 어렵고 흥미롭다\"며 \"김건희씨의 오늘 녹취는 가식이 없어 좋았다. 그동안 불편한 진실의 일단이 드러났다\"고 말했다. 그는 \"안희정 보수 탄핵론 등 한 번 깊이 생각해 볼 문제를 던져 주었다\"면서 \"예상한대로 그녀는 새로운 영부인으로도 손색이 없다\"고 평가하기도 했다.\n",
      "\n",
      "\n",
      "\n",
      "김 전 의원은 이재명 더불어민주당 대선 후보와 부인 김혜경씨에 대해서는 날선 반응을 보였다. 그는 \"아하 혜경궁 김씨였구나! 공익제보자 이병철의 사인이 나왔다. 대동맥 파열과 박리란다. 국과수의 구두소견을 믿는다 할지라도 그의 대동맥 파열과 박리는 왜 생겼을까\"라며 \"아니 대장동 유한기, 김문기의 죽음에 이어 이재명 지사와 관련된 사람들의 심장이 줄지어 ？어 섰다. 살인멸구다\"라고 의구심을 표했다.\n",
      "\n",
      "\n",
      "\n",
      "이어 \"대한민국 검찰은 죽음에 이를 시간을 충분히 주었다. 잔인한 검찰이다. 국민은 섬뜩하고 대장동과 변호사 대납사건의 진실은 가물거린다\"며 \"대장동 사건은 온갖 늑장수사를 거쳐 정진상 실장의 소환 날짜도 잡지 못하고 있다\"고 꼬집었다.\n",
      "\n",
      "\n",
      "\n",
      "그러면서 \"그 사이에 유한기 김문기 두 사람의 심장이 ？었다. 이병철 제보자의 심장박리에는 경찰의 기소 결정과 달리 혜경궁김씨를 불기소한 검찰과 변호사 대납 의혹이 자리잡고 있다\"면서 \"이태형 변호사의 혁혁한 공로는 검찰의 혜경궁김씨 사건의 기소를 막은 수원지검 출신 변호사에 대한 전관예우와 그에 관한 미공개 녹취록에 원인이 있다\"고 주장하기도 했다.\n",
      "\n",
      "\n",
      "\n",
      "끝으로 김 전 의원은 \"결국 혜경궁이다. 그가 친문이면서 이재명 지사와 싸운 것도 그가 미공개 녹취록을 안고 세상을 떠난 것도 25억 변호사 수임의혹도 다 이런 업적에 대한 성공보수가 아닐까\"라며 \"이 모든 진실은 그가 남긴 휴대폰과 컴퓨터에 남아 있다. 그는 유서 대신 이 녹취록을 남겼다. 혜경궁김씨를 영원히 땅에 묻으려고 한 검찰과 변호사의 진실은 이병철 제보자의 심장에서 박리되어 우리 곁에 남아 있다. 그는 누가 뭐래도 공익제보자이다. 그의 명복을 빈다\"고도 했다.\n"
     ]
    }
   ],
   "source": [
    "f = open('news.txt', 'r', encoding = \"utf-8\")\n",
    "text = f.readline()\n",
    "\n",
    "while text:\n",
    "    print(text)\n",
    "    text = f.readline()\n",
    "    \n",
    "f.close()"
   ]
  },
  {
   "cell_type": "code",
   "execution_count": 245,
   "id": "bac6a2ff",
   "metadata": {
    "collapsed": true
   },
   "outputs": [
    {
     "name": "stdout",
     "output_type": "stream",
     "text": [
      "윤석열 국민의힘 대선 후보 부인 김건희씨의 '7시간 통화 녹취록'이 공개돼 정치권에 파장이 일고 있는 가운데, 김영환 전 국회의원이 '김건희가 최순실이 될 수 없는 5가지 이유'를 밝혀 관심이 집중되고 있다.\n",
      "\n",
      "\n",
      "\n",
      "17일 정치권에 따르면, 김영환 전 의원은 자신의 페이스북에 '김건희가 최순실이 될 수 없는 5가지 이유'라는 제하의 글을 통해 \"정치가 두렵다\", \"윤석열은 문재인이 만들었다\", \"조국은 민주당이 망가트렸다\", \"안희정이 불쌍하다\", \"나는 나이트클럽을 싫어한다. 그러니 쥴리가 아니다\"라고 운을 뗐다.\n",
      "\n",
      "\n",
      "\n",
      "김 전 의원은 \"그는 순진하게도 정치판의 사기꾼에게도 자기 남편을 도와달라고 매달리는 순진한 여성이었다\"면서 \"그의 정치적 술수의 몽매함이 그를 구했다\"고 주장했다.\n",
      "\n",
      "\n",
      "\n",
      "이어 \"상식이 정치를 이기고, 순수가 노회를 이기고, 진실이 공작을 이겼다\"며 \"MBC는 이재명 형수욕설을 방영하지 않는 한 공영방송이라 할 수 없다. 큰일 났다\"고 지적했다.\n",
      "\n",
      "\n",
      "\n",
      "그러면서 \"무엇보다 윤석열은 주변에 친구가 많다. 그리고 천부적으로 그는 계란말이를 좋아하고 혼밥혼술을 싫어한다\"면서 \"토리 아빠가 최순실을? 이재명 민주당의 이 실망을 어찌 할꼬. 쯧쯧 에고고!\"라고 비꼬았다.\n",
      "\n",
      "\n",
      "\n",
      "또 다른 게시물에서 김 전 의원은 김건희씨 녹취록 공개와 관련, \"참 놀라운 반전이다. 이래서 정치가 어렵고 흥미롭다\"며 \"김건희씨의 오늘 녹취는 가식이 없어 좋았다. 그동안 불편한 진실의 일단이 드러났다\"고 말했다. 그는 \"안희정 보수 탄핵론 등 한 번 깊이 생각해 볼 문제를 던져 주었다\"면서 \"예상한대로 그녀는 새로운 영부인으로도 손색이 없다\"고 평가하기도 했다.\n",
      "\n",
      "\n",
      "\n",
      "김 전 의원은 이재명 더불어민주당 대선 후보와 부인 김혜경씨에 대해서는 날선 반응을 보였다. 그는 \"아하 혜경궁 김씨였구나! 공익제보자 이병철의 사인이 나왔다. 대동맥 파열과 박리란다. 국과수의 구두소견을 믿는다 할지라도 그의 대동맥 파열과 박리는 왜 생겼을까\"라며 \"아니 대장동 유한기, 김문기의 죽음에 이어 이재명 지사와 관련된 사람들의 심장이 줄지어 ？어 섰다. 살인멸구다\"라고 의구심을 표했다.\n",
      "\n",
      "\n",
      "\n",
      "이어 \"대한민국 검찰은 죽음에 이를 시간을 충분히 주었다. 잔인한 검찰이다. 국민은 섬뜩하고 대장동과 변호사 대납사건의 진실은 가물거린다\"며 \"대장동 사건은 온갖 늑장수사를 거쳐 정진상 실장의 소환 날짜도 잡지 못하고 있다\"고 꼬집었다.\n",
      "\n",
      "\n",
      "\n",
      "그러면서 \"그 사이에 유한기 김문기 두 사람의 심장이 ？었다. 이병철 제보자의 심장박리에는 경찰의 기소 결정과 달리 혜경궁김씨를 불기소한 검찰과 변호사 대납 의혹이 자리잡고 있다\"면서 \"이태형 변호사의 혁혁한 공로는 검찰의 혜경궁김씨 사건의 기소를 막은 수원지검 출신 변호사에 대한 전관예우와 그에 관한 미공개 녹취록에 원인이 있다\"고 주장하기도 했다.\n",
      "\n",
      "\n",
      "\n",
      "끝으로 김 전 의원은 \"결국 혜경궁이다. 그가 친문이면서 이재명 지사와 싸운 것도 그가 미공개 녹취록을 안고 세상을 떠난 것도 25억 변호사 수임의혹도 다 이런 업적에 대한 성공보수가 아닐까\"라며 \"이 모든 진실은 그가 남긴 휴대폰과 컴퓨터에 남아 있다. 그는 유서 대신 이 녹취록을 남겼다. 혜경궁김씨를 영원히 땅에 묻으려고 한 검찰과 변호사의 진실은 이병철 제보자의 심장에서 박리되어 우리 곁에 남아 있다. 그는 누가 뭐래도 공익제보자이다. 그의 명복을 빈다\"고도 했다.\n"
     ]
    }
   ],
   "source": [
    "f = open('news.txt', 'r', encoding = \"utf-8\")\n",
    "\n",
    "for line in f:\n",
    "    print(line)"
   ]
  },
  {
   "cell_type": "code",
   "execution_count": null,
   "id": "baf7c7d0",
   "metadata": {},
   "outputs": [],
   "source": [
    "# with open('filename', 'r') as f:\n",
    "# 1 text = f.read()       - 전체 text를 한 번에 읽는다\n",
    "# 2 text = f.readline()   - 한 문장씩 리스트에 담아서 출력..\n",
    "# 3 text = f.readline()   - 한 문장을 읽는다\n",
    "# 4 for line as f:        - 파일 객체를 for 을 이용해서 한 문장씩 출력\n",
    "#        pass"
   ]
  },
  {
   "cell_type": "code",
   "execution_count": 247,
   "id": "746844d8",
   "metadata": {},
   "outputs": [],
   "source": [
    "# f = open('news.txt', 'w', encoding = 'utf-8')\n",
    "# f.write(\"Hello\")\n",
    "# f.close()\n",
    "\n",
    "# with open('news.txt', 'w', encoding = \"utf-8\") as f:\n",
    "#     f.write(\"Dont cry snowman\")"
   ]
  },
  {
   "cell_type": "code",
   "execution_count": null,
   "id": "5ff57b2b",
   "metadata": {},
   "outputs": [],
   "source": []
  },
  {
   "cell_type": "code",
   "execution_count": null,
   "id": "94c03577",
   "metadata": {},
   "outputs": [],
   "source": []
  },
  {
   "cell_type": "code",
   "execution_count": null,
   "id": "045a6c06",
   "metadata": {},
   "outputs": [],
   "source": []
  },
  {
   "cell_type": "code",
   "execution_count": null,
   "id": "e80bfa7c",
   "metadata": {},
   "outputs": [],
   "source": []
  }
 ],
 "metadata": {
  "kernelspec": {
   "display_name": "Python 3 (ipykernel)",
   "language": "python",
   "name": "python3"
  },
  "language_info": {
   "codemirror_mode": {
    "name": "ipython",
    "version": 3
   },
   "file_extension": ".py",
   "mimetype": "text/x-python",
   "name": "python",
   "nbconvert_exporter": "python",
   "pygments_lexer": "ipython3",
   "version": "3.9.7"
  }
 },
 "nbformat": 4,
 "nbformat_minor": 5
}
