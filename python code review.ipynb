{
 "cells": [
  {
   "cell_type": "markdown",
   "id": "b6832535",
   "metadata": {},
   "source": [
    "### String\n"
   ]
  },
  {
   "cell_type": "code",
   "execution_count": 26,
   "id": "9dbd8163",
   "metadata": {},
   "outputs": [
    {
     "data": {
      "text/plain": [
       "'tale'"
      ]
     },
     "execution_count": 26,
     "metadata": {},
     "output_type": "execute_result"
    }
   ],
   "source": [
    "txt1 = '  A tale that was not right'\n",
    "txt2 = '이 또한 지나가리라  '\n",
    "\n",
    "# -----------------------\n",
    "\n",
    "# tale을 출력하시오..\n",
    "txt1[4:8]"
   ]
  },
  {
   "cell_type": "code",
   "execution_count": 27,
   "id": "dbd31482",
   "metadata": {},
   "outputs": [
    {
     "data": {
      "text/plain": [
       "'지'"
      ]
     },
     "execution_count": 27,
     "metadata": {},
     "output_type": "execute_result"
    }
   ],
   "source": [
    "# '지'를 출력하시오..\n",
    "txt2[5:6]"
   ]
  },
  {
   "cell_type": "code",
   "execution_count": 28,
   "id": "f4427d79",
   "metadata": {},
   "outputs": [
    {
     "data": {
      "text/plain": [
       "1"
      ]
     },
     "execution_count": 28,
     "metadata": {},
     "output_type": "execute_result"
    }
   ],
   "source": [
    "# 'a'는  몇 개가 존재하는가?\n",
    "txt2.count('지')"
   ]
  },
  {
   "cell_type": "code",
   "execution_count": 29,
   "id": "33706ae3",
   "metadata": {},
   "outputs": [
    {
     "data": {
      "text/plain": [
       "6"
      ]
     },
     "execution_count": 29,
     "metadata": {},
     "output_type": "execute_result"
    }
   ],
   "source": [
    "# txt1에서 모음의 갯수가 몇 개인가?\n",
    "num = 0\n",
    "for i in \"aeiou\":\n",
    "    num += txt1.count(i)\n",
    "num\n"
   ]
  },
  {
   "cell_type": "code",
   "execution_count": 32,
   "id": "d942127a",
   "metadata": {},
   "outputs": [
    {
     "data": {
      "text/plain": [
       "'이 것도 지나가리라  '"
      ]
     },
     "execution_count": 32,
     "metadata": {},
     "output_type": "execute_result"
    }
   ],
   "source": [
    "# '또한'을 '것도'로 수정하시오\n",
    "txt2.replace(\"또한\", \"것도\")\n",
    "\n"
   ]
  },
  {
   "cell_type": "code",
   "execution_count": 35,
   "id": "a9f19e57",
   "metadata": {},
   "outputs": [
    {
     "data": {
      "text/plain": [
       "'  A TALE THAT WAS NOT RIGHT'"
      ]
     },
     "execution_count": 35,
     "metadata": {},
     "output_type": "execute_result"
    }
   ],
   "source": [
    "# txt1을 대문자로 출력하시오..\n",
    "txt1.upper()\n"
   ]
  },
  {
   "cell_type": "code",
   "execution_count": 36,
   "id": "b3191de6",
   "metadata": {},
   "outputs": [
    {
     "data": {
      "text/plain": [
       "22"
      ]
     },
     "execution_count": 36,
     "metadata": {},
     "output_type": "execute_result"
    }
   ],
   "source": [
    "# txt1에서 right은 몇 번째 인덱스에 등장하는가?\n",
    "txt1.find(\"right\")\n"
   ]
  },
  {
   "cell_type": "code",
   "execution_count": 37,
   "id": "6958ae94",
   "metadata": {},
   "outputs": [
    {
     "data": {
      "text/plain": [
       "['', '', 'A', 'tale', 'that', 'was', 'not', 'right']"
      ]
     },
     "execution_count": 37,
     "metadata": {},
     "output_type": "execute_result"
    }
   ],
   "source": [
    "# txt1을 space를 기준으로 나누어서 리스트에 담으시오..\n",
    "txt1.split(\" \")\n",
    "\n"
   ]
  },
  {
   "cell_type": "code",
   "execution_count": 38,
   "id": "c8c5a5c2",
   "metadata": {},
   "outputs": [
    {
     "data": {
      "text/plain": [
       "12"
      ]
     },
     "execution_count": 38,
     "metadata": {},
     "output_type": "execute_result"
    }
   ],
   "source": [
    "# txt2의 길이는 얼마인가?\n",
    "len(txt2)\n"
   ]
  },
  {
   "cell_type": "code",
   "execution_count": null,
   "id": "5963fee6",
   "metadata": {},
   "outputs": [],
   "source": [
    "# txt2을 character 단위로 나우어서 리스트에 담으시오..\n",
    "li = [x for x in txt2]\n",
    "li"
   ]
  },
  {
   "cell_type": "code",
   "execution_count": null,
   "id": "345f81eb",
   "metadata": {},
   "outputs": [],
   "source": [
    "# txt1의 좌우 공백을 제거하시오..\n",
    "txt1.strip()"
   ]
  },
  {
   "cell_type": "code",
   "execution_count": null,
   "id": "29504c5b",
   "metadata": {},
   "outputs": [],
   "source": [
    "# txt2를 역순으로 출력하시오..\n",
    "txt2[::-1]"
   ]
  },
  {
   "cell_type": "code",
   "execution_count": null,
   "id": "bbd03aae",
   "metadata": {},
   "outputs": [],
   "source": [
    "# txt1에서 짝수 인덱스만 출력하시오..\n",
    "li = [txt1[i] for i in range(len(txt1)) if i%2 == 0]\n",
    "li"
   ]
  },
  {
   "cell_type": "code",
   "execution_count": null,
   "id": "d0d906ef",
   "metadata": {},
   "outputs": [],
   "source": [
    "# txt2를 두 번 박복하시오..\n",
    "txt2 * 2"
   ]
  },
  {
   "cell_type": "code",
   "execution_count": null,
   "id": "2c4cbc22",
   "metadata": {},
   "outputs": [],
   "source": [
    "# txt1과 txt2를 연결하여 하나의 문자열로 만드시오..\n",
    "txt1 + txt2"
   ]
  },
  {
   "cell_type": "code",
   "execution_count": null,
   "id": "d6dfc325",
   "metadata": {},
   "outputs": [],
   "source": [
    "# txt1에서 'right'이 존내하는지 확인하시오..\n",
    "'right' in txt1"
   ]
  },
  {
   "cell_type": "code",
   "execution_count": null,
   "id": "1f4c31a3",
   "metadata": {},
   "outputs": [],
   "source": [
    "# txt1에서 뒤에서 5번째 문자를 출력하시오..\n",
    "txt1[-5]"
   ]
  },
  {
   "cell_type": "code",
   "execution_count": null,
   "id": "03711e32",
   "metadata": {},
   "outputs": [],
   "source": [
    "# txt1의 문자를 index와 튜플로 묶어서 리스트에 담으시오..\n",
    "li = [(i,e) for i, e in enumerate(txt1)]\n",
    "l"
   ]
  },
  {
   "cell_type": "code",
   "execution_count": null,
   "id": "94770a7e",
   "metadata": {},
   "outputs": [],
   "source": [
    "# txt1의 문자를 index와 튜플로 묶어서 리스트에 담으시오..\n",
    "li = [(i,e) for i, e in enumerate(txt1)]\n",
    "li"
   ]
  },
  {
   "cell_type": "code",
   "execution_count": 63,
   "id": "56c03ced",
   "metadata": {},
   "outputs": [
    {
     "data": {
      "text/plain": [
       "[(0, ' '),\n",
       " (1, ' '),\n",
       " (2, 'A'),\n",
       " (3, ' '),\n",
       " (4, 't'),\n",
       " (5, 'a'),\n",
       " (6, 'l'),\n",
       " (7, 'e'),\n",
       " (8, ' '),\n",
       " (9, 't'),\n",
       " (10, 'h'),\n",
       " (11, 'a'),\n",
       " (12, 't'),\n",
       " (13, ' '),\n",
       " (14, 'w'),\n",
       " (15, 'a'),\n",
       " (16, 's'),\n",
       " (17, ' '),\n",
       " (18, 'n'),\n",
       " (19, 'o'),\n",
       " (20, 't'),\n",
       " (21, ' '),\n",
       " (22, 'r'),\n",
       " (23, 'i'),\n",
       " (24, 'g'),\n",
       " (25, 'h'),\n",
       " (26, 't')]"
      ]
     },
     "execution_count": 63,
     "metadata": {},
     "output_type": "execute_result"
    }
   ],
   "source": []
  },
  {
   "cell_type": "code",
   "execution_count": 60,
   "id": "05f4cc8c",
   "metadata": {},
   "outputs": [
    {
     "data": {
      "text/plain": [
       "['http://www.naver.com']"
      ]
     },
     "execution_count": 60,
     "metadata": {},
     "output_type": "execute_result"
    }
   ],
   "source": [
    "url = 'http://www.naver.com/news/today=20221230'\n",
    "# url중 도메인만 출력하시오\n",
    "import re\n",
    "\n",
    "regex = re.findall(\"http[s]?://www\\.[a-z]+\\.[a-z]+\", url)\n",
    "regex\n"
   ]
  },
  {
   "cell_type": "code",
   "execution_count": null,
   "id": "3c1f3cb4",
   "metadata": {},
   "outputs": [],
   "source": []
  },
  {
   "cell_type": "code",
   "execution_count": null,
   "id": "86b87d49",
   "metadata": {},
   "outputs": [],
   "source": []
  },
  {
   "cell_type": "code",
   "execution_count": null,
   "id": "f58029e1",
   "metadata": {},
   "outputs": [],
   "source": []
  },
  {
   "cell_type": "code",
   "execution_count": null,
   "id": "2fa295f8",
   "metadata": {},
   "outputs": [],
   "source": [
    "\n",
    "# 아래와 같이 출력하시오.\n",
    "# name => '홍길동'\n",
    "# age => 17\n",
    "\n",
    "# sex => 남성\n",
    "# ...."
   ]
  },
  {
   "cell_type": "code",
   "execution_count": 64,
   "id": "d20efd6e",
   "metadata": {},
   "outputs": [
    {
     "data": {
      "text/plain": [
       "\"기회재정부가 오늘 '소상공인' 지원 예산을 위한 추가 경정예산안\""
      ]
     },
     "execution_count": 64,
     "metadata": {},
     "output_type": "execute_result"
    }
   ],
   "source": [
    "text = \"기회재정부가 오늘 '소상공인' 지원 예산을 위한 추가 경정예산안\"\n",
    "text"
   ]
  },
  {
   "cell_type": "code",
   "execution_count": null,
   "id": "2e52d56d",
   "metadata": {},
   "outputs": [],
   "source": []
  },
  {
   "cell_type": "code",
   "execution_count": 65,
   "id": "2da6027c",
   "metadata": {},
   "outputs": [
    {
     "data": {
      "text/plain": [
       "\"기회재정부가 오늘 '소상공인' 지원 예산을 위한 추가 경정예산안\""
      ]
     },
     "execution_count": 65,
     "metadata": {},
     "output_type": "execute_result"
    }
   ],
   "source": [
    "text = \"기회재정부가 오늘 '소상공인' 지원 예산을 위한 추가 경정예산안\"\n",
    "text"
   ]
  },
  {
   "cell_type": "code",
   "execution_count": null,
   "id": "57f2d063",
   "metadata": {},
   "outputs": [],
   "source": []
  },
  {
   "cell_type": "markdown",
   "id": "651b1387",
   "metadata": {},
   "source": [
    "### datatype\n",
    "1. 기본형\n",
    "- int : 95\n",
    "- float : 95.8\n",
    "- bool : True, False\n",
    "2. 군집형(여로 요소가 모여서 하나의 데이터)\n",
    "- string: '', 요소의 수정, 삭제, 추가가 안됨..\n",
    "- list : [], 요소의 수정, 삭제, 추가가 자유로움..\n",
    "- tuple : (), 요소의 수정, 삭제, 추가 안됨... 수정하지 않을 값, 보조용\n",
    "- set : {}, 요소의 삭제, 추가 안됨. 중복요소가 없다. 집합연산\n",
    "- dictionary : {key:value}, 요소의 수정, 삭제, 추가가 자유로움. 데이터의 저장(json과 유사) 순서없고, 인덱스는 key역할\n",
    "               "
   ]
  },
  {
   "cell_type": "code",
   "execution_count": null,
   "id": "61989acc",
   "metadata": {},
   "outputs": [],
   "source": []
  },
  {
   "cell_type": "markdown",
   "id": "87ca338a",
   "metadata": {},
   "source": [
    "### List"
   ]
  },
  {
   "cell_type": "code",
   "execution_count": 94,
   "id": "ccb89073",
   "metadata": {},
   "outputs": [
    {
     "data": {
      "text/plain": [
       "[81, 90, 78, 'python', 'hello', True, [78, 56, 32], (24, 25, 3)]"
      ]
     },
     "execution_count": 94,
     "metadata": {},
     "output_type": "execute_result"
    }
   ],
   "source": [
    "score = [81, 90, 78, 'python', 'hello', True, [78, 56, 32], (24, 25, 3)]\n",
    "score"
   ]
  },
  {
   "cell_type": "code",
   "execution_count": 95,
   "id": "e6b50cbc",
   "metadata": {},
   "outputs": [
    {
     "data": {
      "text/plain": [
       "'t'"
      ]
     },
     "execution_count": 95,
     "metadata": {},
     "output_type": "execute_result"
    }
   ],
   "source": [
    "# 't'를 출력하시오...\n",
    "score[3][2]"
   ]
  },
  {
   "cell_type": "code",
   "execution_count": 96,
   "id": "7d58c22c",
   "metadata": {},
   "outputs": [
    {
     "data": {
      "text/plain": [
       "56"
      ]
     },
     "execution_count": 96,
     "metadata": {},
     "output_type": "execute_result"
    }
   ],
   "source": [
    "# 56을 출력하시오..\n",
    "score[6][1]"
   ]
  },
  {
   "cell_type": "code",
   "execution_count": 97,
   "id": "284bd3fa",
   "metadata": {},
   "outputs": [
    {
     "data": {
      "text/plain": [
       "25"
      ]
     },
     "execution_count": 97,
     "metadata": {},
     "output_type": "execute_result"
    }
   ],
   "source": [
    "# 마지막 요소의 최대값을 출력하시오\n",
    "max(score[-1])"
   ]
  },
  {
   "cell_type": "code",
   "execution_count": 98,
   "id": "28286fdc",
   "metadata": {},
   "outputs": [
    {
     "data": {
      "text/plain": [
       "[81, 90, 78, 'world', 'hello', True, [78, 56, 32], (24, 25, 3)]"
      ]
     },
     "execution_count": 98,
     "metadata": {},
     "output_type": "execute_result"
    }
   ],
   "source": [
    "# 'python'을 'world'로 수정하시오.\n",
    "score[3] = 'world'\n",
    "score"
   ]
  },
  {
   "cell_type": "code",
   "execution_count": 99,
   "id": "c97c168f",
   "metadata": {},
   "outputs": [
    {
     "data": {
      "text/plain": [
       "[81, 90, 78, 'world', 'hello', True, [78, 56, 32], (24, 25, 3), 'sun']"
      ]
     },
     "execution_count": 99,
     "metadata": {},
     "output_type": "execute_result"
    }
   ],
   "source": [
    "# 마지막에 'sun'을 추가하시오.\n",
    "score.append(\"sun\")\n",
    "score"
   ]
  },
  {
   "cell_type": "code",
   "execution_count": 100,
   "id": "fece2079",
   "metadata": {},
   "outputs": [
    {
     "data": {
      "text/plain": [
       "True"
      ]
     },
     "execution_count": 100,
     "metadata": {},
     "output_type": "execute_result"
    }
   ],
   "source": [
    "# 'world'가 있는지 확인하시오.\n",
    "'world' in score"
   ]
  },
  {
   "cell_type": "code",
   "execution_count": 114,
   "id": "845ac056",
   "metadata": {},
   "outputs": [
    {
     "data": {
      "text/plain": [
       "[25, 24, 3]"
      ]
     },
     "execution_count": 114,
     "metadata": {},
     "output_type": "execute_result"
    }
   ],
   "source": [
    "# 마지막에서 2 번째 요소를 내림차순으로 정렬하시오.\n",
    "sorted(score[-2], key=lambda x: -x)"
   ]
  },
  {
   "cell_type": "code",
   "execution_count": null,
   "id": "eb997f3b",
   "metadata": {},
   "outputs": [],
   "source": [
    "# 90은 몇 번째 인덱스에 있는지 확인하시오..\n",
    "score.index(90)"
   ]
  },
  {
   "cell_type": "code",
   "execution_count": null,
   "id": "fc74b35b",
   "metadata": {},
   "outputs": [],
   "source": [
    "# 리스트를 역순으로 정렬하시오.\n",
    "score.reverse()\n",
    "score"
   ]
  },
  {
   "cell_type": "code",
   "execution_count": null,
   "id": "c9e3d6c2",
   "metadata": {},
   "outputs": [],
   "source": [
    "# 3번째 인덱스에 'sea'를 추가하시오\n",
    "score.insert(3, \"sea\")\n",
    "score"
   ]
  },
  {
   "cell_type": "code",
   "execution_count": null,
   "id": "24b42031",
   "metadata": {},
   "outputs": [],
   "source": [
    "# True를 False로 수정하시오..\n",
    "score[score.index(True)] = False\n",
    "score"
   ]
  },
  {
   "cell_type": "code",
   "execution_count": null,
   "id": "d5e6a3cc",
   "metadata": {},
   "outputs": [],
   "source": [
    "# 'world'를 제거하시오\n",
    "score.remove('world')\n",
    "score"
   ]
  },
  {
   "cell_type": "code",
   "execution_count": null,
   "id": "83a6b93d",
   "metadata": {},
   "outputs": [],
   "source": [
    "# 7번재 요소를 제거하시오..\n",
    "score.pop(7)\n",
    "score"
   ]
  },
  {
   "cell_type": "code",
   "execution_count": null,
   "id": "98fc2f49",
   "metadata": {},
   "outputs": [],
   "source": [
    "# 마지막 요소를 제거하시오..\n",
    "score.pop()"
   ]
  },
  {
   "cell_type": "code",
   "execution_count": null,
   "id": "ea05ec32",
   "metadata": {},
   "outputs": [],
   "source": [
    "# 리스트의 길이를 출력하시오\n",
    "len(score)"
   ]
  },
  {
   "cell_type": "code",
   "execution_count": null,
   "id": "b04eda71",
   "metadata": {},
   "outputs": [],
   "source": [
    "# 두 번째 요소의 데이터 타입을 출력하시오..\n",
    "type(score[1])"
   ]
  },
  {
   "cell_type": "code",
   "execution_count": 143,
   "id": "0c5f16bc",
   "metadata": {},
   "outputs": [
    {
     "data": {
      "text/plain": [
       "'78:56:32'"
      ]
     },
     "execution_count": 143,
     "metadata": {},
     "output_type": "execute_result"
    }
   ],
   "source": [
    "# [78, 56, 32]를 \"78:56:32\"로 수정하시오..\n",
    "\":\".join([ str(s) for s in [78, 56, 32]])"
   ]
  },
  {
   "cell_type": "code",
   "execution_count": null,
   "id": "3abf8310",
   "metadata": {},
   "outputs": [],
   "source": [
    "# 모든 원소를 제거하시오\n",
    "score.clear()\n",
    "score"
   ]
  },
  {
   "cell_type": "code",
   "execution_count": 149,
   "id": "7770ff3e",
   "metadata": {},
   "outputs": [
    {
     "ename": "NameError",
     "evalue": "name 'score' is not defined",
     "output_type": "error",
     "traceback": [
      "\u001b[1;31m---------------------------------------------------------------------------\u001b[0m",
      "\u001b[1;31mNameError\u001b[0m                                 Traceback (most recent call last)",
      "\u001b[1;32m~\\AppData\\Local\\Temp/ipykernel_2956/1045968762.py\u001b[0m in \u001b[0;36m<module>\u001b[1;34m\u001b[0m\n\u001b[0;32m      1\u001b[0m \u001b[1;31m# 리스트를 삭제하시오..\u001b[0m\u001b[1;33m\u001b[0m\u001b[1;33m\u001b[0m\u001b[0m\n\u001b[0;32m      2\u001b[0m \u001b[1;32mdel\u001b[0m \u001b[0mscore\u001b[0m\u001b[1;33m\u001b[0m\u001b[1;33m\u001b[0m\u001b[0m\n\u001b[1;32m----> 3\u001b[1;33m \u001b[0mscore\u001b[0m\u001b[1;33m\u001b[0m\u001b[1;33m\u001b[0m\u001b[0m\n\u001b[0m",
      "\u001b[1;31mNameError\u001b[0m: name 'score' is not defined"
     ]
    }
   ],
   "source": [
    "# 리스트를 삭제하시오..\n",
    "del score\n",
    "score"
   ]
  },
  {
   "cell_type": "code",
   "execution_count": null,
   "id": "4ecc7622",
   "metadata": {},
   "outputs": [],
   "source": []
  },
  {
   "cell_type": "code",
   "execution_count": null,
   "id": "e6abcbfa",
   "metadata": {},
   "outputs": [],
   "source": []
  },
  {
   "cell_type": "code",
   "execution_count": null,
   "id": "5ae967a0",
   "metadata": {},
   "outputs": [],
   "source": []
  }
 ],
 "metadata": {
  "kernelspec": {
   "display_name": "Python 3 (ipykernel)",
   "language": "python",
   "name": "python3"
  },
  "language_info": {
   "codemirror_mode": {
    "name": "ipython",
    "version": 3
   },
   "file_extension": ".py",
   "mimetype": "text/x-python",
   "name": "python",
   "nbconvert_exporter": "python",
   "pygments_lexer": "ipython3",
   "version": "3.9.7"
  }
 },
 "nbformat": 4,
 "nbformat_minor": 5
}
