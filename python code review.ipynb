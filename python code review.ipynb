{
 "cells": [
  {
   "cell_type": "markdown",
   "id": "b6832535",
   "metadata": {},
   "source": [
    "### String\n"
   ]
  },
  {
   "cell_type": "code",
   "execution_count": 2,
   "id": "9dbd8163",
   "metadata": {},
   "outputs": [
    {
     "data": {
      "text/plain": [
       "'tale'"
      ]
     },
     "execution_count": 2,
     "metadata": {},
     "output_type": "execute_result"
    }
   ],
   "source": [
    "txt1 = '  A tale that was not right'\n",
    "txt2 = '이 또한 지나가리라  '\n",
    "\n",
    "# -----------------------\n",
    "\n",
    "# tale을 출력하시오..\n",
    "txt1[4:8]"
   ]
  },
  {
   "cell_type": "code",
   "execution_count": 27,
   "id": "dbd31482",
   "metadata": {},
   "outputs": [
    {
     "data": {
      "text/plain": [
       "'지'"
      ]
     },
     "execution_count": 27,
     "metadata": {},
     "output_type": "execute_result"
    }
   ],
   "source": [
    "# '지'를 출력하시오..\n",
    "txt2[5:6]"
   ]
  },
  {
   "cell_type": "code",
   "execution_count": 28,
   "id": "f4427d79",
   "metadata": {},
   "outputs": [
    {
     "data": {
      "text/plain": [
       "1"
      ]
     },
     "execution_count": 28,
     "metadata": {},
     "output_type": "execute_result"
    }
   ],
   "source": [
    "# 'a'는  몇 개가 존재하는가?\n",
    "txt2.count('지')"
   ]
  },
  {
   "cell_type": "code",
   "execution_count": 29,
   "id": "33706ae3",
   "metadata": {},
   "outputs": [
    {
     "data": {
      "text/plain": [
       "6"
      ]
     },
     "execution_count": 29,
     "metadata": {},
     "output_type": "execute_result"
    }
   ],
   "source": [
    "# txt1에서 모음의 갯수가 몇 개인가?\n",
    "num = 0\n",
    "for i in \"aeiou\":\n",
    "    num += txt1.count(i)\n",
    "num\n"
   ]
  },
  {
   "cell_type": "code",
   "execution_count": 32,
   "id": "d942127a",
   "metadata": {},
   "outputs": [
    {
     "data": {
      "text/plain": [
       "'이 것도 지나가리라  '"
      ]
     },
     "execution_count": 32,
     "metadata": {},
     "output_type": "execute_result"
    }
   ],
   "source": [
    "# '또한'을 '것도'로 수정하시오\n",
    "txt2.replace(\"또한\", \"것도\")\n",
    "\n"
   ]
  },
  {
   "cell_type": "code",
   "execution_count": 35,
   "id": "a9f19e57",
   "metadata": {},
   "outputs": [
    {
     "data": {
      "text/plain": [
       "'  A TALE THAT WAS NOT RIGHT'"
      ]
     },
     "execution_count": 35,
     "metadata": {},
     "output_type": "execute_result"
    }
   ],
   "source": [
    "# txt1을 대문자로 출력하시오..\n",
    "txt1.upper()\n"
   ]
  },
  {
   "cell_type": "code",
   "execution_count": 3,
   "id": "b3191de6",
   "metadata": {},
   "outputs": [
    {
     "data": {
      "text/plain": [
       "22"
      ]
     },
     "execution_count": 3,
     "metadata": {},
     "output_type": "execute_result"
    }
   ],
   "source": [
    "# txt1에서 right은 몇 번째 인덱스에 등장하는가?\n",
    "txt1.find(\"right\")\n",
    "txt1.index(\"right\")\n"
   ]
  },
  {
   "cell_type": "code",
   "execution_count": 37,
   "id": "6958ae94",
   "metadata": {},
   "outputs": [
    {
     "data": {
      "text/plain": [
       "['', '', 'A', 'tale', 'that', 'was', 'not', 'right']"
      ]
     },
     "execution_count": 37,
     "metadata": {},
     "output_type": "execute_result"
    }
   ],
   "source": [
    "# txt1을 space를 기준으로 나누어서 리스트에 담으시오..\n",
    "txt1.split(\" \")\n",
    "\n"
   ]
  },
  {
   "cell_type": "code",
   "execution_count": 38,
   "id": "c8c5a5c2",
   "metadata": {},
   "outputs": [
    {
     "data": {
      "text/plain": [
       "12"
      ]
     },
     "execution_count": 38,
     "metadata": {},
     "output_type": "execute_result"
    }
   ],
   "source": [
    "# txt2의 길이는 얼마인가?\n",
    "len(txt2)\n"
   ]
  },
  {
   "cell_type": "code",
   "execution_count": null,
   "id": "5963fee6",
   "metadata": {},
   "outputs": [],
   "source": [
    "# txt2을 character 단위로 나우어서 리스트에 담으시오..\n",
    "li = [x for x in txt2]\n",
    "li"
   ]
  },
  {
   "cell_type": "code",
   "execution_count": null,
   "id": "345f81eb",
   "metadata": {},
   "outputs": [],
   "source": [
    "# txt1의 좌우 공백을 제거하시오..\n",
    "txt1.strip()"
   ]
  },
  {
   "cell_type": "code",
   "execution_count": null,
   "id": "29504c5b",
   "metadata": {},
   "outputs": [],
   "source": [
    "# txt2를 역순으로 출력하시오..\n",
    "txt2[::-1]"
   ]
  },
  {
   "cell_type": "code",
   "execution_count": null,
   "id": "bbd03aae",
   "metadata": {},
   "outputs": [],
   "source": [
    "# txt1에서 짝수 인덱스만 출력하시오..\n",
    "li = [txt1[i] for i in range(len(txt1)) if i%2 == 0]\n",
    "li"
   ]
  },
  {
   "cell_type": "code",
   "execution_count": null,
   "id": "d0d906ef",
   "metadata": {},
   "outputs": [],
   "source": [
    "# txt2를 두 번 박복하시오..\n",
    "txt2 * 2"
   ]
  },
  {
   "cell_type": "code",
   "execution_count": null,
   "id": "2c4cbc22",
   "metadata": {},
   "outputs": [],
   "source": [
    "# txt1과 txt2를 연결하여 하나의 문자열로 만드시오..\n",
    "txt1 + txt2"
   ]
  },
  {
   "cell_type": "code",
   "execution_count": null,
   "id": "d6dfc325",
   "metadata": {},
   "outputs": [],
   "source": [
    "# txt1에서 'right'이 존내하는지 확인하시오..\n",
    "'right' in txt1"
   ]
  },
  {
   "cell_type": "code",
   "execution_count": null,
   "id": "1f4c31a3",
   "metadata": {},
   "outputs": [],
   "source": [
    "# txt1에서 뒤에서 5번째 문자를 출력하시오..\n",
    "txt1[-5]"
   ]
  },
  {
   "cell_type": "code",
   "execution_count": 4,
   "id": "94770a7e",
   "metadata": {},
   "outputs": [
    {
     "data": {
      "text/plain": [
       "[(0, ' '),\n",
       " (1, ' '),\n",
       " (2, 'A'),\n",
       " (3, ' '),\n",
       " (4, 't'),\n",
       " (5, 'a'),\n",
       " (6, 'l'),\n",
       " (7, 'e'),\n",
       " (8, ' '),\n",
       " (9, 't'),\n",
       " (10, 'h'),\n",
       " (11, 'a'),\n",
       " (12, 't'),\n",
       " (13, ' '),\n",
       " (14, 'w'),\n",
       " (15, 'a'),\n",
       " (16, 's'),\n",
       " (17, ' '),\n",
       " (18, 'n'),\n",
       " (19, 'o'),\n",
       " (20, 't'),\n",
       " (21, ' '),\n",
       " (22, 'r'),\n",
       " (23, 'i'),\n",
       " (24, 'g'),\n",
       " (25, 'h'),\n",
       " (26, 't')]"
      ]
     },
     "execution_count": 4,
     "metadata": {},
     "output_type": "execute_result"
    }
   ],
   "source": [
    "# txt1의 문자를 index와 튜플로 묶어서 리스트에 담으시오..\n",
    "li = [(i,e) for i, e in enumerate(txt1)]\n",
    "li"
   ]
  },
  {
   "cell_type": "code",
   "execution_count": 60,
   "id": "05f4cc8c",
   "metadata": {},
   "outputs": [
    {
     "data": {
      "text/plain": [
       "['http://www.naver.com']"
      ]
     },
     "execution_count": 60,
     "metadata": {},
     "output_type": "execute_result"
    }
   ],
   "source": [
    "url = 'http://www.naver.com/news/today=20221230'\n",
    "# url중 도메인만 출력하시오\n",
    "import re\n",
    "\n",
    "regex = re.findall(\"http[s]?://www\\.[a-z]+\\.[a-z]+\", url)\n",
    "regex\n"
   ]
  },
  {
   "cell_type": "code",
   "execution_count": null,
   "id": "2fa295f8",
   "metadata": {},
   "outputs": [],
   "source": [
    "\n",
    "# 아래와 같이 출력하시오.\n",
    "# name => '홍길동'\n",
    "# age => 17\n",
    "\n",
    "# sex => 남성\n",
    "# ...."
   ]
  },
  {
   "cell_type": "code",
   "execution_count": 64,
   "id": "d20efd6e",
   "metadata": {},
   "outputs": [
    {
     "data": {
      "text/plain": [
       "\"기회재정부가 오늘 '소상공인' 지원 예산을 위한 추가 경정예산안\""
      ]
     },
     "execution_count": 64,
     "metadata": {},
     "output_type": "execute_result"
    }
   ],
   "source": [
    "text = \"기회재정부가 오늘 '소상공인' 지원 예산을 위한 추가 경정예산안\"\n",
    "text"
   ]
  },
  {
   "cell_type": "markdown",
   "id": "651b1387",
   "metadata": {},
   "source": [
    "### datatype\n",
    "1. 기본형\n",
    "- int : 95\n",
    "- float : 95.8\n",
    "- bool : True, False\n",
    "2. 군집형(여로 요소가 모여서 하나의 데이터)\n",
    "- string: '', 요소의 수정, 삭제, 추가가 안됨..\n",
    "- list : [], 요소의 수정, 삭제, 추가가 자유로움..\n",
    "- tuple : (), 요소의 수정, 삭제, 추가 안됨... 수정하지 않을 값, 보조용\n",
    "- set : {}, 요소의 삭제, 추가 안됨. 중복요소가 없다. 집합연산\n",
    "- dictionary : {key:value}, 요소의 수정, 삭제, 추가가 자유로움. 데이터의 저장(json과 유사) 순서없고, 인덱스는 key역할\n",
    "               "
   ]
  },
  {
   "cell_type": "markdown",
   "id": "87ca338a",
   "metadata": {},
   "source": [
    "### List"
   ]
  },
  {
   "cell_type": "code",
   "execution_count": 6,
   "id": "ccb89073",
   "metadata": {},
   "outputs": [
    {
     "data": {
      "text/plain": [
       "[81, 90, 78, 'python', 'hello', True, [78, 56, 32], (24, 25, 3)]"
      ]
     },
     "execution_count": 6,
     "metadata": {},
     "output_type": "execute_result"
    }
   ],
   "source": [
    "score = [81, 90, 78, 'python', 'hello', True, [78, 56, 32], (24, 25, 3)]\n",
    "score"
   ]
  },
  {
   "cell_type": "code",
   "execution_count": 95,
   "id": "e6b50cbc",
   "metadata": {},
   "outputs": [
    {
     "data": {
      "text/plain": [
       "'t'"
      ]
     },
     "execution_count": 95,
     "metadata": {},
     "output_type": "execute_result"
    }
   ],
   "source": [
    "# 't'를 출력하시오...\n",
    "score[3][2]"
   ]
  },
  {
   "cell_type": "code",
   "execution_count": 96,
   "id": "7d58c22c",
   "metadata": {},
   "outputs": [
    {
     "data": {
      "text/plain": [
       "56"
      ]
     },
     "execution_count": 96,
     "metadata": {},
     "output_type": "execute_result"
    }
   ],
   "source": [
    "# 56을 출력하시오..\n",
    "score[6][1]"
   ]
  },
  {
   "cell_type": "code",
   "execution_count": 97,
   "id": "284bd3fa",
   "metadata": {},
   "outputs": [
    {
     "data": {
      "text/plain": [
       "25"
      ]
     },
     "execution_count": 97,
     "metadata": {},
     "output_type": "execute_result"
    }
   ],
   "source": [
    "# 마지막 요소의 최대값을 출력하시오\n",
    "max(score[-1])"
   ]
  },
  {
   "cell_type": "code",
   "execution_count": 98,
   "id": "28286fdc",
   "metadata": {},
   "outputs": [
    {
     "data": {
      "text/plain": [
       "[81, 90, 78, 'world', 'hello', True, [78, 56, 32], (24, 25, 3)]"
      ]
     },
     "execution_count": 98,
     "metadata": {},
     "output_type": "execute_result"
    }
   ],
   "source": [
    "# 'python'을 'world'로 수정하시오.\n",
    "score[3] = 'world'\n",
    "score"
   ]
  },
  {
   "cell_type": "code",
   "execution_count": 99,
   "id": "c97c168f",
   "metadata": {},
   "outputs": [
    {
     "data": {
      "text/plain": [
       "[81, 90, 78, 'world', 'hello', True, [78, 56, 32], (24, 25, 3), 'sun']"
      ]
     },
     "execution_count": 99,
     "metadata": {},
     "output_type": "execute_result"
    }
   ],
   "source": [
    "# 마지막에 'sun'을 추가하시오.\n",
    "score.append(\"sun\")\n",
    "score"
   ]
  },
  {
   "cell_type": "code",
   "execution_count": 100,
   "id": "fece2079",
   "metadata": {},
   "outputs": [
    {
     "data": {
      "text/plain": [
       "True"
      ]
     },
     "execution_count": 100,
     "metadata": {},
     "output_type": "execute_result"
    }
   ],
   "source": [
    "# 'world'가 있는지 확인하시오.\n",
    "'world' in score"
   ]
  },
  {
   "cell_type": "code",
   "execution_count": 7,
   "id": "845ac056",
   "metadata": {},
   "outputs": [
    {
     "ename": "TypeError",
     "evalue": "'reversed' is an invalid keyword argument for sort()",
     "output_type": "error",
     "traceback": [
      "\u001b[1;31m---------------------------------------------------------------------------\u001b[0m",
      "\u001b[1;31mTypeError\u001b[0m                                 Traceback (most recent call last)",
      "\u001b[1;32m~\\AppData\\Local\\Temp/ipykernel_9196/451567403.py\u001b[0m in \u001b[0;36m<module>\u001b[1;34m\u001b[0m\n\u001b[0;32m      1\u001b[0m \u001b[1;31m# 마지막에서 2 번째 요소를 내림차순으로 정렬하시오.\u001b[0m\u001b[1;33m\u001b[0m\u001b[1;33m\u001b[0m\u001b[0m\n\u001b[1;32m----> 2\u001b[1;33m \u001b[0msorted\u001b[0m\u001b[1;33m(\u001b[0m\u001b[0mscore\u001b[0m\u001b[1;33m[\u001b[0m\u001b[1;33m-\u001b[0m\u001b[1;36m2\u001b[0m\u001b[1;33m]\u001b[0m\u001b[1;33m,\u001b[0m \u001b[0mkey\u001b[0m\u001b[1;33m=\u001b[0m\u001b[1;32mlambda\u001b[0m \u001b[0mx\u001b[0m\u001b[1;33m:\u001b[0m \u001b[0mx\u001b[0m\u001b[1;33m,\u001b[0m\u001b[0mreversed\u001b[0m\u001b[1;33m=\u001b[0m\u001b[1;32mTrue\u001b[0m\u001b[1;33m)\u001b[0m\u001b[1;33m\u001b[0m\u001b[1;33m\u001b[0m\u001b[0m\n\u001b[0m",
      "\u001b[1;31mTypeError\u001b[0m: 'reversed' is an invalid keyword argument for sort()"
     ]
    }
   ],
   "source": [
    "# 마지막에서 2 번째 요소를 내림차순으로 정렬하시오.\n",
    "sorted(score[-2], key=lambda x: x,reversed=True)"
   ]
  },
  {
   "cell_type": "code",
   "execution_count": null,
   "id": "eb997f3b",
   "metadata": {},
   "outputs": [],
   "source": [
    "# 90은 몇 번째 인덱스에 있는지 확인하시오..\n",
    "score.index(90)"
   ]
  },
  {
   "cell_type": "code",
   "execution_count": null,
   "id": "fc74b35b",
   "metadata": {},
   "outputs": [],
   "source": [
    "# 리스트를 역순으로 정렬하시오.\n",
    "score.reverse()\n",
    "score"
   ]
  },
  {
   "cell_type": "code",
   "execution_count": null,
   "id": "c9e3d6c2",
   "metadata": {},
   "outputs": [],
   "source": [
    "# 3번째 인덱스에 'sea'를 추가하시오\n",
    "score.insert(3, \"sea\")\n",
    "score"
   ]
  },
  {
   "cell_type": "code",
   "execution_count": null,
   "id": "24b42031",
   "metadata": {},
   "outputs": [],
   "source": [
    "# True를 False로 수정하시오..\n",
    "score[score.index(True)] = False\n",
    "score"
   ]
  },
  {
   "cell_type": "code",
   "execution_count": null,
   "id": "d5e6a3cc",
   "metadata": {},
   "outputs": [],
   "source": [
    "# 'world'를 제거하시오\n",
    "score.remove('world')\n",
    "score"
   ]
  },
  {
   "cell_type": "code",
   "execution_count": null,
   "id": "83a6b93d",
   "metadata": {},
   "outputs": [],
   "source": [
    "# 7번재 요소를 제거하시오..\n",
    "score.pop(7)\n",
    "score"
   ]
  },
  {
   "cell_type": "code",
   "execution_count": null,
   "id": "98fc2f49",
   "metadata": {},
   "outputs": [],
   "source": [
    "# 마지막 요소를 제거하시오..\n",
    "score.pop()"
   ]
  },
  {
   "cell_type": "code",
   "execution_count": null,
   "id": "ea05ec32",
   "metadata": {},
   "outputs": [],
   "source": [
    "# 리스트의 길이를 출력하시오\n",
    "len(score)"
   ]
  },
  {
   "cell_type": "code",
   "execution_count": null,
   "id": "b04eda71",
   "metadata": {},
   "outputs": [],
   "source": [
    "# 두 번째 요소의 데이터 타입을 출력하시오..\n",
    "type(score[1])"
   ]
  },
  {
   "cell_type": "code",
   "execution_count": 143,
   "id": "0c5f16bc",
   "metadata": {},
   "outputs": [
    {
     "data": {
      "text/plain": [
       "'78:56:32'"
      ]
     },
     "execution_count": 143,
     "metadata": {},
     "output_type": "execute_result"
    }
   ],
   "source": [
    "# [78, 56, 32]를 \"78:56:32\"로 수정하시오..\n",
    "\":\".join([ str(s) for s in [78, 56, 32]])"
   ]
  },
  {
   "cell_type": "code",
   "execution_count": null,
   "id": "3abf8310",
   "metadata": {},
   "outputs": [],
   "source": [
    "# 모든 원소를 제거하시오\n",
    "score.clear()\n",
    "score"
   ]
  },
  {
   "cell_type": "code",
   "execution_count": 149,
   "id": "7770ff3e",
   "metadata": {},
   "outputs": [
    {
     "ename": "NameError",
     "evalue": "name 'score' is not defined",
     "output_type": "error",
     "traceback": [
      "\u001b[1;31m---------------------------------------------------------------------------\u001b[0m",
      "\u001b[1;31mNameError\u001b[0m                                 Traceback (most recent call last)",
      "\u001b[1;32m~\\AppData\\Local\\Temp/ipykernel_2956/1045968762.py\u001b[0m in \u001b[0;36m<module>\u001b[1;34m\u001b[0m\n\u001b[0;32m      1\u001b[0m \u001b[1;31m# 리스트를 삭제하시오..\u001b[0m\u001b[1;33m\u001b[0m\u001b[1;33m\u001b[0m\u001b[0m\n\u001b[0;32m      2\u001b[0m \u001b[1;32mdel\u001b[0m \u001b[0mscore\u001b[0m\u001b[1;33m\u001b[0m\u001b[1;33m\u001b[0m\u001b[0m\n\u001b[1;32m----> 3\u001b[1;33m \u001b[0mscore\u001b[0m\u001b[1;33m\u001b[0m\u001b[1;33m\u001b[0m\u001b[0m\n\u001b[0m",
      "\u001b[1;31mNameError\u001b[0m: name 'score' is not defined"
     ]
    }
   ],
   "source": [
    "# 리스트를 삭제하시오..\n",
    "del score\n",
    "score"
   ]
  },
  {
   "cell_type": "code",
   "execution_count": null,
   "id": "cc48406e",
   "metadata": {},
   "outputs": [],
   "source": []
  },
  {
   "cell_type": "markdown",
   "id": "e052dbda",
   "metadata": {},
   "source": [
    "### Set"
   ]
  },
  {
   "cell_type": "code",
   "execution_count": 41,
   "id": "af34d4a6",
   "metadata": {},
   "outputs": [],
   "source": [
    "#원소가 없는 set인 s를 만드세요\n",
    "s = set()"
   ]
  },
  {
   "cell_type": "code",
   "execution_count": 42,
   "id": "bee69c74",
   "metadata": {},
   "outputs": [],
   "source": [
    "A = {1,2,3,4,5,6}\n",
    "B = {1,2,3,7,8,9}\n",
    "C = {1,2,3}"
   ]
  },
  {
   "cell_type": "code",
   "execution_count": 43,
   "id": "03ca7aa1",
   "metadata": {},
   "outputs": [
    {
     "data": {
      "text/plain": [
       "{1, 2, 3, 4, 5, 6, 7, 8, 9}"
      ]
     },
     "execution_count": 43,
     "metadata": {},
     "output_type": "execute_result"
    }
   ],
   "source": [
    "# 두 집합의 합집합을 출력\n",
    "A.union(B)\n"
   ]
  },
  {
   "cell_type": "code",
   "execution_count": 44,
   "id": "1de2b3a8",
   "metadata": {},
   "outputs": [
    {
     "data": {
      "text/plain": [
       "{1, 2, 3}"
      ]
     },
     "execution_count": 44,
     "metadata": {},
     "output_type": "execute_result"
    }
   ],
   "source": [
    "# 두 집합의 교집합을 출력\n",
    "A.intersection(B)"
   ]
  },
  {
   "cell_type": "code",
   "execution_count": 45,
   "id": "b24c5bd7",
   "metadata": {},
   "outputs": [
    {
     "data": {
      "text/plain": [
       "{4, 5, 6}"
      ]
     },
     "execution_count": 45,
     "metadata": {},
     "output_type": "execute_result"
    }
   ],
   "source": [
    "# A의 에대한 차집합\n",
    "A.difference(B)"
   ]
  },
  {
   "cell_type": "code",
   "execution_count": 46,
   "id": "8fd2ce0e",
   "metadata": {},
   "outputs": [
    {
     "data": {
      "text/plain": [
       "{4, 5, 6, 7, 8, 9}"
      ]
     },
     "execution_count": 46,
     "metadata": {},
     "output_type": "execute_result"
    }
   ],
   "source": [
    "# 대칭차집합\n",
    "A.symmetric_difference(B)"
   ]
  },
  {
   "cell_type": "code",
   "execution_count": 47,
   "id": "0cd68be8",
   "metadata": {},
   "outputs": [
    {
     "data": {
      "text/plain": [
       "True"
      ]
     },
     "execution_count": 47,
     "metadata": {},
     "output_type": "execute_result"
    }
   ],
   "source": [
    "# C가 A의 부분집합인지 확인\n",
    "C.issubset(A)"
   ]
  },
  {
   "cell_type": "code",
   "execution_count": 48,
   "id": "a33e15c6",
   "metadata": {},
   "outputs": [
    {
     "data": {
      "text/plain": [
       "True"
      ]
     },
     "execution_count": 48,
     "metadata": {},
     "output_type": "execute_result"
    }
   ],
   "source": [
    "# A가 C를 포함하는지 확인\n",
    "A.issuperset(C)"
   ]
  },
  {
   "cell_type": "code",
   "execution_count": 49,
   "id": "3fedce94",
   "metadata": {},
   "outputs": [
    {
     "data": {
      "text/plain": [
       "6"
      ]
     },
     "execution_count": 49,
     "metadata": {},
     "output_type": "execute_result"
    }
   ],
   "source": [
    "# 집합 B의 길이를 출력\n",
    "len(B)"
   ]
  },
  {
   "cell_type": "code",
   "execution_count": 50,
   "id": "dc1a042f",
   "metadata": {},
   "outputs": [
    {
     "data": {
      "text/plain": [
       "9"
      ]
     },
     "execution_count": 50,
     "metadata": {},
     "output_type": "execute_result"
    }
   ],
   "source": [
    "# 집합 B의 최대값 출력\n",
    "max(B)"
   ]
  },
  {
   "cell_type": "code",
   "execution_count": 51,
   "id": "1a113270",
   "metadata": {},
   "outputs": [
    {
     "data": {
      "text/plain": [
       "1"
      ]
     },
     "execution_count": 51,
     "metadata": {},
     "output_type": "execute_result"
    }
   ],
   "source": [
    "# 집합 B의 최소값 출력\n",
    "min(B)"
   ]
  },
  {
   "cell_type": "code",
   "execution_count": 52,
   "id": "ad9e45f7",
   "metadata": {},
   "outputs": [
    {
     "data": {
      "text/plain": [
       "30"
      ]
     },
     "execution_count": 52,
     "metadata": {},
     "output_type": "execute_result"
    }
   ],
   "source": [
    "# 집합 B의 합을 출력\n",
    "sum(B)"
   ]
  },
  {
   "cell_type": "code",
   "execution_count": 53,
   "id": "6167fa1d",
   "metadata": {},
   "outputs": [
    {
     "data": {
      "text/plain": [
       "5.0"
      ]
     },
     "execution_count": 53,
     "metadata": {},
     "output_type": "execute_result"
    }
   ],
   "source": [
    "# 집합 B의 평균 출력\n",
    "import numpy as np\n",
    "np.mean(list(B))"
   ]
  },
  {
   "cell_type": "code",
   "execution_count": 54,
   "id": "8603488e",
   "metadata": {},
   "outputs": [
    {
     "ename": "AttributeError",
     "evalue": "'set' object has no attribute 'sort'",
     "output_type": "error",
     "traceback": [
      "\u001b[1;31m---------------------------------------------------------------------------\u001b[0m",
      "\u001b[1;31mAttributeError\u001b[0m                            Traceback (most recent call last)",
      "\u001b[1;32m~\\AppData\\Local\\Temp/ipykernel_14936/1646223178.py\u001b[0m in \u001b[0;36m<module>\u001b[1;34m\u001b[0m\n\u001b[0;32m      1\u001b[0m \u001b[1;31m# 집합 B의 내립차순 출력\u001b[0m\u001b[1;33m\u001b[0m\u001b[1;33m\u001b[0m\u001b[0m\n\u001b[1;32m----> 2\u001b[1;33m \u001b[0mB\u001b[0m\u001b[1;33m.\u001b[0m\u001b[0msort\u001b[0m\u001b[1;33m(\u001b[0m\u001b[1;33m)\u001b[0m\u001b[1;33m\u001b[0m\u001b[1;33m\u001b[0m\u001b[0m\n\u001b[0m",
      "\u001b[1;31mAttributeError\u001b[0m: 'set' object has no attribute 'sort'"
     ]
    }
   ],
   "source": [
    "# 집합 B의 내립차순 출력\n",
    "B.sort()"
   ]
  },
  {
   "cell_type": "code",
   "execution_count": 36,
   "id": "296001a1",
   "metadata": {},
   "outputs": [
    {
     "data": {
      "text/plain": [
       "False"
      ]
     },
     "execution_count": 36,
     "metadata": {},
     "output_type": "execute_result"
    }
   ],
   "source": [
    "# 집합 B에 5가 포함되아 있는지 확인\n",
    "5 in B"
   ]
  },
  {
   "cell_type": "code",
   "execution_count": null,
   "id": "ae60a4f8",
   "metadata": {},
   "outputs": [],
   "source": []
  },
  {
   "cell_type": "markdown",
   "id": "1114b036",
   "metadata": {},
   "source": [
    "## dic"
   ]
  },
  {
   "cell_type": "code",
   "execution_count": 17,
   "id": "21220791",
   "metadata": {},
   "outputs": [],
   "source": [
    "# mydict 라는 딕셔너리를 만드세요.\n",
    "d = {}\n",
    "d = dict()"
   ]
  },
  {
   "cell_type": "code",
   "execution_count": 18,
   "id": "cd17168a",
   "metadata": {},
   "outputs": [],
   "source": [
    "# 'red':4, 'blue':3, 'green': 1 세 요소를 추가 하세요.\n",
    "d['red'] = 4\n",
    "d['blue'] = 3\n",
    "d['green'] = 1"
   ]
  },
  {
   "cell_type": "code",
   "execution_count": 19,
   "id": "60f4e065",
   "metadata": {},
   "outputs": [
    {
     "data": {
      "text/plain": [
       "True"
      ]
     },
     "execution_count": 19,
     "metadata": {},
     "output_type": "execute_result"
    }
   ],
   "source": [
    "# key에 'blue'가 있는지 확인하세요.\n",
    "'blue' in d"
   ]
  },
  {
   "cell_type": "code",
   "execution_count": 20,
   "id": "509b6b04",
   "metadata": {},
   "outputs": [
    {
     "data": {
      "text/plain": [
       "3"
      ]
     },
     "execution_count": 20,
     "metadata": {},
     "output_type": "execute_result"
    }
   ],
   "source": [
    "# mydict 의 길이를 출력하세요.\n",
    "len(d)"
   ]
  },
  {
   "cell_type": "code",
   "execution_count": 21,
   "id": "ff3f09d5",
   "metadata": {},
   "outputs": [],
   "source": [
    "# 'red'의 값을 10으로 수정하세요.\n",
    "d['red'] = 10"
   ]
  },
  {
   "cell_type": "code",
   "execution_count": 22,
   "id": "1457b059",
   "metadata": {},
   "outputs": [
    {
     "data": {
      "text/plain": [
       "dict_keys(['red', 'blue', 'green'])"
      ]
     },
     "execution_count": 22,
     "metadata": {},
     "output_type": "execute_result"
    }
   ],
   "source": [
    "# key값만 출력하세요\n",
    "d.keys()"
   ]
  },
  {
   "cell_type": "code",
   "execution_count": 23,
   "id": "231b26e4",
   "metadata": {},
   "outputs": [
    {
     "data": {
      "text/plain": [
       "dict_values([10, 3, 1])"
      ]
     },
     "execution_count": 23,
     "metadata": {},
     "output_type": "execute_result"
    }
   ],
   "source": [
    "# value값만 출력하세요\n",
    "d.values()"
   ]
  },
  {
   "cell_type": "code",
   "execution_count": 24,
   "id": "3d6800a0",
   "metadata": {},
   "outputs": [
    {
     "data": {
      "text/plain": [
       "dict_items([('red', 10), ('blue', 3), ('green', 1)])"
      ]
     },
     "execution_count": 24,
     "metadata": {},
     "output_type": "execute_result"
    }
   ],
   "source": [
    "# key와 value를 튜플로 출력하세요.\n",
    "d.items()"
   ]
  },
  {
   "cell_type": "code",
   "execution_count": 25,
   "id": "9a815a0c",
   "metadata": {},
   "outputs": [
    {
     "data": {
      "text/plain": [
       "['blue', 'green', 'red']"
      ]
     },
     "execution_count": 25,
     "metadata": {},
     "output_type": "execute_result"
    }
   ],
   "source": [
    "# key기준으로 정렬하세요\n",
    "sorted(d.items(), key = lambda x: x[0])\n",
    "sorted(d)"
   ]
  },
  {
   "cell_type": "code",
   "execution_count": 26,
   "id": "f906cd1e",
   "metadata": {},
   "outputs": [
    {
     "data": {
      "text/plain": [
       "[('green', 1), ('blue', 3), ('red', 10)]"
      ]
     },
     "execution_count": 26,
     "metadata": {},
     "output_type": "execute_result"
    }
   ],
   "source": [
    "# value기준으로 정렬하세요\n",
    "sorted(d.items(), key = lambda x: x[1])"
   ]
  },
  {
   "cell_type": "code",
   "execution_count": 28,
   "id": "dec0a8f3",
   "metadata": {},
   "outputs": [
    {
     "data": {
      "text/plain": [
       "{'red': 10, 'green': 1}"
      ]
     },
     "execution_count": 28,
     "metadata": {},
     "output_type": "execute_result"
    }
   ],
   "source": [
    "# key 'blue'요소를 삭제하세요\n",
    "# del d['blue']\n",
    "d.pop('blue')\n",
    "d"
   ]
  },
  {
   "cell_type": "code",
   "execution_count": null,
   "id": "203b4c77",
   "metadata": {},
   "outputs": [],
   "source": [
    "# key 'pink'요소 값을 출력하되 오류가 없도록 하세요\n",
    "d.get('pink')"
   ]
  },
  {
   "cell_type": "code",
   "execution_count": null,
   "id": "32b3a13c",
   "metadata": {},
   "outputs": [],
   "source": [
    "# key 'pink'값을 출력하되 없으면, value 20으로 새로이 추가하세요\n",
    "d.setdefault('pink', 20)"
   ]
  },
  {
   "cell_type": "code",
   "execution_count": null,
   "id": "2a7f518c",
   "metadata": {},
   "outputs": [],
   "source": [
    "# value에 20이 있는지 확인하세요.\n",
    "20 in d.values()"
   ]
  },
  {
   "cell_type": "code",
   "execution_count": 44,
   "id": "6105b85e",
   "metadata": {},
   "outputs": [],
   "source": [
    "# key는 'yellow'에 value는 30을 추가하세요.\n",
    "d['yellow']=30"
   ]
  },
  {
   "cell_type": "code",
   "execution_count": 45,
   "id": "0f7a12cc",
   "metadata": {},
   "outputs": [
    {
     "data": {
      "text/plain": [
       "{'red': 10, 'green': 1, 'pink': 20, 'yellow': 30, '파랑': 50, '빨강': 70}"
      ]
     },
     "execution_count": 45,
     "metadata": {},
     "output_type": "execute_result"
    }
   ],
   "source": [
    "# yourdict = {'파랑': 50, \"빨강\": 70}을 합하세요...\n",
    "d.update({'파랑': 50, '빨강': 70})\n",
    "d"
   ]
  },
  {
   "cell_type": "code",
   "execution_count": null,
   "id": "44a2ef8e",
   "metadata": {},
   "outputs": [],
   "source": []
  },
  {
   "cell_type": "markdown",
   "id": "a4e06df6",
   "metadata": {},
   "source": [
    "## if"
   ]
  },
  {
   "cell_type": "code",
   "execution_count": 47,
   "id": "37f6534a",
   "metadata": {
    "collapsed": true
   },
   "outputs": [
    {
     "ename": "IndentationError",
     "evalue": "expected an indented block (Temp/ipykernel_9196/1434210639.py, line 5)",
     "output_type": "error",
     "traceback": [
      "\u001b[1;36m  File \u001b[1;32m\"C:\\Users\\bitcamp\\AppData\\Local\\Temp/ipykernel_9196/1434210639.py\"\u001b[1;36m, line \u001b[1;32m5\u001b[0m\n\u001b[1;33m    elif 조건식:\u001b[0m\n\u001b[1;37m             ^\u001b[0m\n\u001b[1;31mIndentationError\u001b[0m\u001b[1;31m:\u001b[0m expected an indented block\n"
     ]
    }
   ],
   "source": [
    "# 조건식 => True/False\n",
    "\n",
    "# if 조건식:\n",
    "#     실행코드\n",
    "# elif 조건식:\n",
    "#     실행코드\n",
    "# elif 조건식:\n",
    "#     실행코드\n",
    "# else:\n",
    "#     실행코드"
   ]
  },
  {
   "cell_type": "code",
   "execution_count": 49,
   "id": "bf710386",
   "metadata": {},
   "outputs": [
    {
     "name": "stdout",
     "output_type": "stream",
     "text": [
      "점수를 입력하세요95\n",
      "A학점 입니다\n"
     ]
    }
   ],
   "source": [
    "# 점수를 입력받은 후 학점을 출력하시오..\n",
    "\n",
    "score = int(input('점수를 입력하세요'))\n",
    "if score >= 90:\n",
    "    print('A학점 입니다')\n",
    "elif 90 > score >= 80:\n",
    "    print('B학점 입니다')\n",
    "elif 80 > score >= 70:\n",
    "    print('C학점 입니다')\n",
    "else:\n",
    "    print('D학점 입니다..')"
   ]
  },
  {
   "cell_type": "code",
   "execution_count": 52,
   "id": "c70e3c3b",
   "metadata": {},
   "outputs": [
    {
     "name": "stdout",
     "output_type": "stream",
     "text": [
      "비밀번호를 입력하시오.1234\n",
      "환영합니다\n"
     ]
    }
   ],
   "source": [
    "# 비밀번호 = 1234 인 경우 비밀번호를 입력받은 후 맞으면 '환영합니다'. 틀리면\n",
    "# '비밀번호가 틀립니다' 를 출력하세오\n",
    "\n",
    "num = int(input(\"비밀번호를 입력하시오.\"))\n",
    "\n",
    "if num == 1234:\n",
    "    print(\"환영합니다\")\n",
    "else:\n",
    "    print(\"비밀번호가 틀립니다\")"
   ]
  },
  {
   "cell_type": "code",
   "execution_count": 54,
   "id": "79c77510",
   "metadata": {},
   "outputs": [
    {
     "name": "stdout",
     "output_type": "stream",
     "text": [
      "4\n",
      "짝수입니다\n"
     ]
    }
   ],
   "source": [
    "# 임의의 정수를 입력받은 후 짝수면 '짝수입니다'\n",
    "# 홀수면 '홀수입니다'\n",
    "\n",
    "num = int(input())\n",
    "\n",
    "if num%2 == 0:\n",
    "    print(\"짝수입니다\")\n",
    "else:\n",
    "    print(\"홀수입니다\")"
   ]
  },
  {
   "cell_type": "code",
   "execution_count": 55,
   "id": "efaa4815",
   "metadata": {},
   "outputs": [],
   "source": [
    "# 주민번호 '851205-2000000'\n",
    "# 주민번호를 입력받은 후 \"당신의 나이는 _이고. 성별은 _입니다\"를 출력하시오.."
   ]
  },
  {
   "cell_type": "code",
   "execution_count": 78,
   "id": "f51a10bd",
   "metadata": {},
   "outputs": [
    {
     "name": "stdout",
     "output_type": "stream",
     "text": [
      "851205-205465465\n",
      "당신의 나이는 37세이고, 당신의 성별은 여자입니다.\n"
     ]
    }
   ],
   "source": [
    "import datetime\n",
    "num = input()\n",
    "age = int(datetime.datetime.now().year - (1900 + int(num[:2])))\n",
    "gender = \"\"\n",
    "if num[7] == \"1\":\n",
    "    gender = \"여자\"\n",
    "elif num[7] == \"2\":\n",
    "    gender = \"남자\"\n",
    "\n",
    "print(\"당신의 나이는 {}세이고, 당신의 성별은 {}입니다.\".format(age, gender) )"
   ]
  },
  {
   "cell_type": "code",
   "execution_count": 83,
   "id": "d55b0096",
   "metadata": {},
   "outputs": [
    {
     "name": "stdout",
     "output_type": "stream",
     "text": [
      "이름을 입력하시오jessy\n",
      "{'Mary': 85, 'Sam': 95, 'Bob': 87, 'Han': 77, 'jessy': 0}\n"
     ]
    }
   ],
   "source": [
    "scores = {'Mary': 85, 'Sam': 95, 'Bob': 87, \"Han\": 77}\n",
    "\n",
    "# 이름을 입력받은후 이름이 있으면서 80점 이상이면 '합격입니다'.\n",
    "# 이하이면 '불합격입니다'를 출력하시오. 이름이 없으면 값을 0으로 하여 추가하시오\n",
    "\n",
    "nam = input('이름을 입력하시오')\n",
    "\n",
    "if nam in scores:\n",
    "    if scores[nam] >= 80:\n",
    "        print(\"합격입니다.\")\n",
    "    else:\n",
    "        print(\"불합격입니다.\")\n",
    "else:\n",
    "    scores[nam] = 0\n",
    "    print(scores)"
   ]
  },
  {
   "cell_type": "code",
   "execution_count": 86,
   "id": "6077aa6b",
   "metadata": {},
   "outputs": [
    {
     "name": "stdout",
     "output_type": "stream",
     "text": [
      "mine <= 가위, 바위, 보 중에서 하나를 선택하세요바위\n",
      "yours <= 가위, 바위, 보 중에서 하나를 선택하세요보\n",
      "당신이 이겼습니다.\n"
     ]
    }
   ],
   "source": [
    "# 가위, 바위, 보 게임\n",
    "\n",
    "mine = input('mine <= 가위, 바위, 보 중에서 하나를 선택하세요')\n",
    "yours = input('yours <= 가위, 바위, 보 중에서 하나를 선택하세요')\n",
    "\n",
    "# 비겼습니다\n",
    "if mine == yours:\n",
    "    print(\"비겼습니다.\")\n",
    "else:\n",
    "    if yours == \"가위\":\n",
    "        if mine == \"바위\":\n",
    "            print(\"내가 이겼습니다.\")\n",
    "        elif mine == \"보\":\n",
    "            print(\"당신이 이겼습니다.\")\n",
    "    if yours == \"바위\":\n",
    "        if mine == \"보\":\n",
    "            print(\"내가 이겼습니다.\")\n",
    "        elif mine == \"가위\":\n",
    "            print(\"당신이 이겼습니다.\")\n",
    "    if yours == \"보\":\n",
    "        if mine == \"가위\":\n",
    "            print(\"내가 이겼습니다.\")\n",
    "        elif mine == \"바위\":\n",
    "            print(\"당신이 이겼습니다.\")\n"
   ]
  },
  {
   "cell_type": "code",
   "execution_count": null,
   "id": "be981fbc",
   "metadata": {},
   "outputs": [],
   "source": []
  },
  {
   "cell_type": "code",
   "execution_count": null,
   "id": "714ea0b4",
   "metadata": {},
   "outputs": [],
   "source": [
    "# 나이를 입력받은 후, 50대 이상이면 중년이시군요, 20~40대 이면 젊으시군요.\n",
    "# 20세 미만이면 '어리시군요'를 출력.."
   ]
  },
  {
   "cell_type": "code",
   "execution_count": 95,
   "id": "97f7d235",
   "metadata": {},
   "outputs": [
    {
     "name": "stdout",
     "output_type": "stream",
     "text": [
      "나이를 입력해주세요19\n",
      "어리시군요\n"
     ]
    }
   ],
   "source": [
    "age = int(input(\"나이를 입력해주세요\"))\n",
    "if age >= 50:\n",
    "    print(\"중년이시군요.\")\n",
    "elif 49 >= age >= 20:\n",
    "    print(\"젊으시군요.\")\n",
    "else:\n",
    "    print(\"어리시군요\")"
   ]
  },
  {
   "cell_type": "code",
   "execution_count": null,
   "id": "632fd5fd",
   "metadata": {},
   "outputs": [],
   "source": []
  },
  {
   "cell_type": "markdown",
   "id": "3d4c1c3d",
   "metadata": {},
   "source": [
    "### 반복문"
   ]
  },
  {
   "cell_type": "code",
   "execution_count": null,
   "id": "77c3e444",
   "metadata": {},
   "outputs": [],
   "source": [
    "# for 임시변수 in 군집형데이터:\n",
    "#     실행코드\n",
    "#     실행코드\n",
    "#     ..."
   ]
  },
  {
   "cell_type": "code",
   "execution_count": null,
   "id": "b758cbc6",
   "metadata": {},
   "outputs": [],
   "source": [
    "# while 조건문:\n",
    "#     실행코드\n",
    "#     실행코드\n",
    "#     ..."
   ]
  },
  {
   "cell_type": "code",
   "execution_count": 109,
   "id": "f3edc1d2",
   "metadata": {},
   "outputs": [
    {
     "data": {
      "text/plain": [
       "8"
      ]
     },
     "execution_count": 109,
     "metadata": {},
     "output_type": "execute_result"
    }
   ],
   "source": [
    "# 모음이 숫자를 계산하시오... 단, 모음은 'aeiouAEIOU'\n",
    "\n",
    "text = 'computational thinking'\n",
    "\n",
    "suma = 0\n",
    "\n",
    "for c in text:\n",
    "    if c in \"aeiouAEIOU\":\n",
    "        suma += 1\n",
    "suma"
   ]
  },
  {
   "cell_type": "code",
   "execution_count": 113,
   "id": "d52e123a",
   "metadata": {},
   "outputs": [
    {
     "data": {
      "text/plain": [
       "22"
      ]
     },
     "execution_count": 113,
     "metadata": {},
     "output_type": "execute_result"
    }
   ],
   "source": [
    "# word의 길이가 4 이상인 단어의 단어길이 총합을 구하시오\n",
    "\n",
    "words = ['mountain', 'sea', 'sky', 'river', 'cloud', 'tree']\n",
    "\n",
    "suma = 0\n",
    "for word in words:\n",
    "    if len(word) >= 4:\n",
    "        suma += len(word)\n",
    "suma"
   ]
  },
  {
   "cell_type": "code",
   "execution_count": 117,
   "id": "f02184f7",
   "metadata": {},
   "outputs": [
    {
     "name": "stdout",
     "output_type": "stream",
     "text": [
      "[('a', '가'), ('a', '나'), ('a', '다'), ('a', '라'), ('b', '가'), ('b', '나'), ('b', '다'), ('b', '라'), ('c', '가'), ('c', '나'), ('c', '다'), ('c', '라'), ('d', '가'), ('d', '나'), ('d', '다'), ('d', '라')]\n"
     ]
    }
   ],
   "source": [
    "L1 = ['a', 'b', 'c', 'd']\n",
    "L2 = ['가', '나', '다', '라']\n",
    "\n",
    "li = []\n",
    "for x in L1:\n",
    "    for y in L2:\n",
    "      li.append((x, y))\n",
    "    \n",
    "print(li)"
   ]
  },
  {
   "cell_type": "code",
   "execution_count": 140,
   "id": "dac2c09c",
   "metadata": {},
   "outputs": [
    {
     "data": {
      "text/plain": [
       "(100, 110)"
      ]
     },
     "execution_count": 140,
     "metadata": {},
     "output_type": "execute_result"
    }
   ],
   "source": [
    "# for문과 while문을 이용해서 1부터 20까지의 정수에서 짝수의 합과 홀수의 합을 구하시오..\n",
    "odd = 0\n",
    "even = 0\n",
    "for i in range(1, 21):\n",
    "    if i%2 == 0:\n",
    "        even += i\n",
    "    elif i%2 == 1:\n",
    "        odd += i\n",
    "odd,even\n",
    "\n"
   ]
  },
  {
   "cell_type": "code",
   "execution_count": 139,
   "id": "fdbdd52c",
   "metadata": {},
   "outputs": [
    {
     "data": {
      "text/plain": [
       "(100, 110)"
      ]
     },
     "execution_count": 139,
     "metadata": {},
     "output_type": "execute_result"
    }
   ],
   "source": [
    "odd = 0\n",
    "even = 0\n",
    "i = 0\n",
    "while i < 20:\n",
    "    i += 1\n",
    "    if i%2 == 0:\n",
    "        even += i\n",
    "    elif i%2 == 1:\n",
    "        odd += i\n",
    "odd,even"
   ]
  },
  {
   "cell_type": "code",
   "execution_count": 275,
   "id": "1238345e",
   "metadata": {},
   "outputs": [
    {
     "name": "stdout",
     "output_type": "stream",
     "text": [
      "5\n"
     ]
    },
    {
     "data": {
      "text/plain": [
       "120"
      ]
     },
     "execution_count": 275,
     "metadata": {},
     "output_type": "execute_result"
    }
   ],
   "source": [
    "# 임의의 수를 입력받은 후 팩토리얼을 계산하는 코드를 작성하시오.\n",
    "\n",
    "# 5! = 5*4*3*2*1\n",
    "num = int(input())\n",
    "\n",
    "result = 1\n",
    "while num > 1:\n",
    "    result *= num\n",
    "    num -= 1\n",
    "    \n",
    "result\n"
   ]
  },
  {
   "cell_type": "code",
   "execution_count": 150,
   "id": "5a784215",
   "metadata": {},
   "outputs": [
    {
     "name": "stdout",
     "output_type": "stream",
     "text": [
      "20\n",
      "19\n",
      "18\n",
      "17\n",
      "16\n",
      "15\n",
      "14\n",
      "13\n",
      "12\n",
      "11\n",
      "10\n",
      "9\n",
      "8\n",
      "7\n",
      "6\n",
      "5\n",
      "4\n",
      "3\n",
      "2\n",
      "1\n"
     ]
    }
   ],
   "source": [
    "for i in range(20, 0, -1):\n",
    "    print(i)"
   ]
  },
  {
   "cell_type": "code",
   "execution_count": 154,
   "id": "f4149470",
   "metadata": {},
   "outputs": [
    {
     "data": {
      "text/plain": [
       "(70, 130)"
      ]
     },
     "execution_count": 154,
     "metadata": {},
     "output_type": "execute_result"
    }
   ],
   "source": [
    "L = [70, 100, 80, 120, 130]\n",
    "\n",
    "# 반복문을 이용해서 최대값과 최소값을 구하시오.\n",
    "maxa = 0\n",
    "mina = 999\n",
    "for i in range(len(L)):\n",
    "    if maxa < L[i]:\n",
    "        maxa = L[i]\n",
    "        \n",
    "    if mina > L[i]:\n",
    "        mina = L[i]\n",
    "        \n",
    "mina, maxa"
   ]
  },
  {
   "cell_type": "code",
   "execution_count": 156,
   "id": "5fc8ba04",
   "metadata": {
    "scrolled": true
   },
   "outputs": [
    {
     "name": "stdout",
     "output_type": "stream",
     "text": [
      "\n",
      "*\n",
      "**\n",
      "***\n",
      "****\n",
      "*****\n"
     ]
    }
   ],
   "source": [
    "# *\n",
    "# ** \n",
    "# *** \n",
    "# **** \n",
    "# *****\n",
    "\n",
    "for i in range(6):\n",
    "    print(\"*\" * i)"
   ]
  },
  {
   "cell_type": "code",
   "execution_count": 158,
   "id": "83d8b611",
   "metadata": {},
   "outputs": [
    {
     "name": "stdout",
     "output_type": "stream",
     "text": [
      " *****\n",
      "  ****\n",
      "   ***\n",
      "    **\n",
      "     *\n",
      "      \n"
     ]
    }
   ],
   "source": [
    "for i in range(6):\n",
    "    print(\" \" * i, \"*\"*(5-i))"
   ]
  },
  {
   "cell_type": "code",
   "execution_count": 159,
   "id": "fad83544",
   "metadata": {},
   "outputs": [
    {
     "name": "stdout",
     "output_type": "stream",
     "text": [
      "      \n",
      "     *\n",
      "    **\n",
      "   ***\n",
      "  ****\n",
      " *****\n"
     ]
    }
   ],
   "source": [
    "for i in range(6):\n",
    "    print(\" \" * (5-i), \"*\"*i)"
   ]
  },
  {
   "cell_type": "code",
   "execution_count": 161,
   "id": "181391b0",
   "metadata": {},
   "outputs": [
    {
     "name": "stdout",
     "output_type": "stream",
     "text": [
      "*****\n",
      "****\n",
      "***\n",
      "**\n",
      "*\n",
      "\n"
     ]
    }
   ],
   "source": [
    "for i in range(6):\n",
    "    print(\"*\" * (5-i))"
   ]
  },
  {
   "cell_type": "code",
   "execution_count": 162,
   "id": "7a0c8265",
   "metadata": {},
   "outputs": [
    {
     "name": "stdout",
     "output_type": "stream",
     "text": [
      "o\n",
      "p\n",
      "t\n",
      "t\n",
      "o\n",
      "a\n",
      " \n",
      "h\n",
      "n\n",
      "i\n",
      "g\n"
     ]
    }
   ],
   "source": [
    "text = 'computational thinking'\n",
    "\n",
    "# 홀수번 인덱스만 출력하시오..\n",
    "\n",
    "for i in range(len(text)):\n",
    "    if i%2 == 1:\n",
    "        print(text[i])"
   ]
  },
  {
   "cell_type": "code",
   "execution_count": null,
   "id": "d93c33ff",
   "metadata": {},
   "outputs": [],
   "source": []
  },
  {
   "cell_type": "code",
   "execution_count": 248,
   "id": "2d04878c",
   "metadata": {},
   "outputs": [
    {
     "name": "stdout",
     "output_type": "stream",
     "text": [
      "2*1=02 2*2=04 2*3=06 2*4=08 2*5=10 2*6=12 2*7=14 2*8=16 2*9=18 3*1=03 3*2=06 3*3=09 3*4=12 3*5=15 3*6=18 3*7=21 3*8=24 3*9=27 4*1=04 4*2=08 4*3=12 4*4=16 4*5=20 4*6=24 4*7=28 4*8=32 4*9=36 5*1=05 5*2=10 5*3=15 5*4=20 5*5=25 5*6=30 5*7=35 5*8=40 5*9=45 6*1=06 6*2=12 6*3=18 6*4=24 6*5=30 6*6=36 6*7=42 6*8=48 6*9=54 7*1=07 7*2=14 7*3=21 7*4=28 7*5=35 7*6=42 7*7=49 7*8=56 7*9=63 8*1=08 8*2=16 8*3=24 8*4=32 8*5=40 8*6=48 8*7=56 8*8=64 8*9=72 9*1=09 9*2=18 9*3=27 9*4=36 9*5=45 9*6=54 9*7=63 9*8=72 9*9=81 "
     ]
    }
   ],
   "source": [
    "# 구구단을 출력하시오... \n",
    "\n",
    "for i in range(2, 10):\n",
    "    for j in range(1, 10):\n",
    "        print(\"{}*{}={:02d}\".format(i,j,i*j), end=\" \")"
   ]
  },
  {
   "cell_type": "code",
   "execution_count": null,
   "id": "4ed8759a",
   "metadata": {},
   "outputs": [],
   "source": []
  },
  {
   "cell_type": "markdown",
   "id": "dfd83e8a",
   "metadata": {},
   "source": [
    "## File"
   ]
  },
  {
   "cell_type": "code",
   "execution_count": 199,
   "id": "c0dd0d78",
   "metadata": {},
   "outputs": [],
   "source": [
    "# 1. 파일을 연다 - open(), 모드를 설정 : 'r',  'w'\n",
    "# 2. 파일을 읽거나 쓴다 -  read(), write()\n",
    "# 3. 파일을 닫는다 - close()\n",
    "\n",
    "# f = open('filename', 'r')\n",
    "# text = f.read()\n",
    "# f.close()\n",
    "\n",
    "# with open('filename', 'r') as f:  # with 구문 : close()를 자동으로 수행..\n",
    "#     text = f.read()\n",
    "    \n",
    "# f = open(\"filename\", 'w')\n",
    "# f.write(text)\n",
    "# f.close()\n",
    "\n",
    "# with open('filename', 'w') as f:  \n",
    "#     f.write(text)"
   ]
  },
  {
   "cell_type": "code",
   "execution_count": null,
   "id": "de2ee02e",
   "metadata": {},
   "outputs": [],
   "source": [
    "# 뉴스 텍스트를 'news.txt' 파일로 저장하시오.."
   ]
  },
  {
   "cell_type": "code",
   "execution_count": 246,
   "id": "ce927976",
   "metadata": {
    "collapsed": true
   },
   "outputs": [
    {
     "name": "stdout",
     "output_type": "stream",
     "text": [
      "윤석열 국민의힘 대선 후보 부인 김건희씨의 '7시간 통화 녹취록'이 공개돼 정치권에 파장이 일고 있는 가운데, 김영환 전 국회의원이 '김건희가 최순실이 될 수 없는 5가지 이유'를 밝혀 관심이 집중되고 있다.\n",
      "\n",
      "17일 정치권에 따르면, 김영환 전 의원은 자신의 페이스북에 '김건희가 최순실이 될 수 없는 5가지 이유'라는 제하의 글을 통해 \"정치가 두렵다\", \"윤석열은 문재인이 만들었다\", \"조국은 민주당이 망가트렸다\", \"안희정이 불쌍하다\", \"나는 나이트클럽을 싫어한다. 그러니 쥴리가 아니다\"라고 운을 뗐다.\n",
      "\n",
      "김 전 의원은 \"그는 순진하게도 정치판의 사기꾼에게도 자기 남편을 도와달라고 매달리는 순진한 여성이었다\"면서 \"그의 정치적 술수의 몽매함이 그를 구했다\"고 주장했다.\n",
      "\n",
      "이어 \"상식이 정치를 이기고, 순수가 노회를 이기고, 진실이 공작을 이겼다\"며 \"MBC는 이재명 형수욕설을 방영하지 않는 한 공영방송이라 할 수 없다. 큰일 났다\"고 지적했다.\n",
      "\n",
      "그러면서 \"무엇보다 윤석열은 주변에 친구가 많다. 그리고 천부적으로 그는 계란말이를 좋아하고 혼밥혼술을 싫어한다\"면서 \"토리 아빠가 최순실을? 이재명 민주당의 이 실망을 어찌 할꼬. 쯧쯧 에고고!\"라고 비꼬았다.\n",
      "\n",
      "또 다른 게시물에서 김 전 의원은 김건희씨 녹취록 공개와 관련, \"참 놀라운 반전이다. 이래서 정치가 어렵고 흥미롭다\"며 \"김건희씨의 오늘 녹취는 가식이 없어 좋았다. 그동안 불편한 진실의 일단이 드러났다\"고 말했다. 그는 \"안희정 보수 탄핵론 등 한 번 깊이 생각해 볼 문제를 던져 주었다\"면서 \"예상한대로 그녀는 새로운 영부인으로도 손색이 없다\"고 평가하기도 했다.\n",
      "\n",
      "김 전 의원은 이재명 더불어민주당 대선 후보와 부인 김혜경씨에 대해서는 날선 반응을 보였다. 그는 \"아하 혜경궁 김씨였구나! 공익제보자 이병철의 사인이 나왔다. 대동맥 파열과 박리란다. 국과수의 구두소견을 믿는다 할지라도 그의 대동맥 파열과 박리는 왜 생겼을까\"라며 \"아니 대장동 유한기, 김문기의 죽음에 이어 이재명 지사와 관련된 사람들의 심장이 줄지어 ？어 섰다. 살인멸구다\"라고 의구심을 표했다.\n",
      "\n",
      "이어 \"대한민국 검찰은 죽음에 이를 시간을 충분히 주었다. 잔인한 검찰이다. 국민은 섬뜩하고 대장동과 변호사 대납사건의 진실은 가물거린다\"며 \"대장동 사건은 온갖 늑장수사를 거쳐 정진상 실장의 소환 날짜도 잡지 못하고 있다\"고 꼬집었다.\n",
      "\n",
      "그러면서 \"그 사이에 유한기 김문기 두 사람의 심장이 ？었다. 이병철 제보자의 심장박리에는 경찰의 기소 결정과 달리 혜경궁김씨를 불기소한 검찰과 변호사 대납 의혹이 자리잡고 있다\"면서 \"이태형 변호사의 혁혁한 공로는 검찰의 혜경궁김씨 사건의 기소를 막은 수원지검 출신 변호사에 대한 전관예우와 그에 관한 미공개 녹취록에 원인이 있다\"고 주장하기도 했다.\n",
      "\n",
      "끝으로 김 전 의원은 \"결국 혜경궁이다. 그가 친문이면서 이재명 지사와 싸운 것도 그가 미공개 녹취록을 안고 세상을 떠난 것도 25억 변호사 수임의혹도 다 이런 업적에 대한 성공보수가 아닐까\"라며 \"이 모든 진실은 그가 남긴 휴대폰과 컴퓨터에 남아 있다. 그는 유서 대신 이 녹취록을 남겼다. 혜경궁김씨를 영원히 땅에 묻으려고 한 검찰과 변호사의 진실은 이병철 제보자의 심장에서 박리되어 우리 곁에 남아 있다. 그는 누가 뭐래도 공익제보자이다. 그의 명복을 빈다\"고도 했다.\n"
     ]
    }
   ],
   "source": [
    "# 'news.txt' 파일을 4가지 다른 방식으로 열어서 출력하시오\n",
    "f = open('news.txt', 'r', encoding = \"utf-8\")\n",
    "text = f.read()\n",
    "f.close()\n",
    "print(text)"
   ]
  },
  {
   "cell_type": "code",
   "execution_count": 244,
   "id": "00cd4152",
   "metadata": {
    "collapsed": true
   },
   "outputs": [
    {
     "name": "stdout",
     "output_type": "stream",
     "text": [
      "윤석열 국민의힘 대선 후보 부인 김건희씨의 '7시간 통화 녹취록'이 공개돼 정치권에 파장이 일고 있는 가운데, 김영환 전 국회의원이 '김건희가 최순실이 될 수 없는 5가지 이유'를 밝혀 관심이 집중되고 있다.\n",
      "\n",
      "17일 정치권에 따르면, 김영환 전 의원은 자신의 페이스북에 '김건희가 최순실이 될 수 없는 5가지 이유'라는 제하의 글을 통해 \"정치가 두렵다\", \"윤석열은 문재인이 만들었다\", \"조국은 민주당이 망가트렸다\", \"안희정이 불쌍하다\", \"나는 나이트클럽을 싫어한다. 그러니 쥴리가 아니다\"라고 운을 뗐다.\n",
      "\n",
      "김 전 의원은 \"그는 순진하게도 정치판의 사기꾼에게도 자기 남편을 도와달라고 매달리는 순진한 여성이었다\"면서 \"그의 정치적 술수의 몽매함이 그를 구했다\"고 주장했다.\n",
      "\n",
      "이어 \"상식이 정치를 이기고, 순수가 노회를 이기고, 진실이 공작을 이겼다\"며 \"MBC는 이재명 형수욕설을 방영하지 않는 한 공영방송이라 할 수 없다. 큰일 났다\"고 지적했다.\n",
      "\n",
      "그러면서 \"무엇보다 윤석열은 주변에 친구가 많다. 그리고 천부적으로 그는 계란말이를 좋아하고 혼밥혼술을 싫어한다\"면서 \"토리 아빠가 최순실을? 이재명 민주당의 이 실망을 어찌 할꼬. 쯧쯧 에고고!\"라고 비꼬았다.\n",
      "\n",
      "또 다른 게시물에서 김 전 의원은 김건희씨 녹취록 공개와 관련, \"참 놀라운 반전이다. 이래서 정치가 어렵고 흥미롭다\"며 \"김건희씨의 오늘 녹취는 가식이 없어 좋았다. 그동안 불편한 진실의 일단이 드러났다\"고 말했다. 그는 \"안희정 보수 탄핵론 등 한 번 깊이 생각해 볼 문제를 던져 주었다\"면서 \"예상한대로 그녀는 새로운 영부인으로도 손색이 없다\"고 평가하기도 했다.\n",
      "\n",
      "김 전 의원은 이재명 더불어민주당 대선 후보와 부인 김혜경씨에 대해서는 날선 반응을 보였다. 그는 \"아하 혜경궁 김씨였구나! 공익제보자 이병철의 사인이 나왔다. 대동맥 파열과 박리란다. 국과수의 구두소견을 믿는다 할지라도 그의 대동맥 파열과 박리는 왜 생겼을까\"라며 \"아니 대장동 유한기, 김문기의 죽음에 이어 이재명 지사와 관련된 사람들의 심장이 줄지어 ？어 섰다. 살인멸구다\"라고 의구심을 표했다.\n",
      "\n",
      "이어 \"대한민국 검찰은 죽음에 이를 시간을 충분히 주었다. 잔인한 검찰이다. 국민은 섬뜩하고 대장동과 변호사 대납사건의 진실은 가물거린다\"며 \"대장동 사건은 온갖 늑장수사를 거쳐 정진상 실장의 소환 날짜도 잡지 못하고 있다\"고 꼬집었다.\n",
      "\n",
      "그러면서 \"그 사이에 유한기 김문기 두 사람의 심장이 ？었다. 이병철 제보자의 심장박리에는 경찰의 기소 결정과 달리 혜경궁김씨를 불기소한 검찰과 변호사 대납 의혹이 자리잡고 있다\"면서 \"이태형 변호사의 혁혁한 공로는 검찰의 혜경궁김씨 사건의 기소를 막은 수원지검 출신 변호사에 대한 전관예우와 그에 관한 미공개 녹취록에 원인이 있다\"고 주장하기도 했다.\n",
      "\n",
      "끝으로 김 전 의원은 \"결국 혜경궁이다. 그가 친문이면서 이재명 지사와 싸운 것도 그가 미공개 녹취록을 안고 세상을 떠난 것도 25억 변호사 수임의혹도 다 이런 업적에 대한 성공보수가 아닐까\"라며 \"이 모든 진실은 그가 남긴 휴대폰과 컴퓨터에 남아 있다. 그는 유서 대신 이 녹취록을 남겼다. 혜경궁김씨를 영원히 땅에 묻으려고 한 검찰과 변호사의 진실은 이병철 제보자의 심장에서 박리되어 우리 곁에 남아 있다. 그는 누가 뭐래도 공익제보자이다. 그의 명복을 빈다\"고도 했다.\n"
     ]
    }
   ],
   "source": [
    "with open('news.txt', 'r', encoding = \"utf-8\") as f:\n",
    "    text = f.read()\n",
    "print(text)"
   ]
  },
  {
   "cell_type": "code",
   "execution_count": 30,
   "id": "4bdfbd4f",
   "metadata": {},
   "outputs": [
    {
     "name": "stdout",
     "output_type": "stream",
     "text": [
      "윤석열 국민의힘 대선 후보 부인 김건희씨의 '7시간 통화 녹취록'이 공개돼 정치권에 파장이 일고 있는 가운데, 김영환 전 국회의원이 '김건희가 최순실이 될 수 없는 5가지 이유'를 밝혀 관심이 집중되고 있다.\n",
      "\n",
      "\n",
      "\n",
      "17일 정치권에 따르면, 김영환 전 의원은 자신의 페이스북에 '김건희가 최순실이 될 수 없는 5가지 이유'라는 제하의 글을 통해 \"정치가 두렵다\", \"윤석열은 문재인이 만들었다\", \"조국은 민주당이 망가트렸다\", \"안희정이 불쌍하다\", \"나는 나이트클럽을 싫어한다. 그러니 쥴리가 아니다\"라고 운을 뗐다.\n",
      "\n",
      "\n",
      "\n",
      "김 전 의원은 \"그는 순진하게도 정치판의 사기꾼에게도 자기 남편을 도와달라고 매달리는 순진한 여성이었다\"면서 \"그의 정치적 술수의 몽매함이 그를 구했다\"고 주장했다.\n",
      "\n",
      "\n",
      "\n",
      "이어 \"상식이 정치를 이기고, 순수가 노회를 이기고, 진실이 공작을 이겼다\"며 \"MBC는 이재명 형수욕설을 방영하지 않는 한 공영방송이라 할 수 없다. 큰일 났다\"고 지적했다.\n",
      "\n",
      "\n",
      "\n",
      "그러면서 \"무엇보다 윤석열은 주변에 친구가 많다. 그리고 천부적으로 그는 계란말이를 좋아하고 혼밥혼술을 싫어한다\"면서 \"토리 아빠가 최순실을? 이재명 민주당의 이 실망을 어찌 할꼬. 쯧쯧 에고고!\"라고 비꼬았다.\n",
      "\n",
      "\n",
      "\n",
      "또 다른 게시물에서 김 전 의원은 김건희씨 녹취록 공개와 관련, \"참 놀라운 반전이다. 이래서 정치가 어렵고 흥미롭다\"며 \"김건희씨의 오늘 녹취는 가식이 없어 좋았다. 그동안 불편한 진실의 일단이 드러났다\"고 말했다. 그는 \"안희정 보수 탄핵론 등 한 번 깊이 생각해 볼 문제를 던져 주었다\"면서 \"예상한대로 그녀는 새로운 영부인으로도 손색이 없다\"고 평가하기도 했다.\n",
      "\n",
      "\n",
      "\n",
      "김 전 의원은 이재명 더불어민주당 대선 후보와 부인 김혜경씨에 대해서는 날선 반응을 보였다. 그는 \"아하 혜경궁 김씨였구나! 공익제보자 이병철의 사인이 나왔다. 대동맥 파열과 박리란다. 국과수의 구두소견을 믿는다 할지라도 그의 대동맥 파열과 박리는 왜 생겼을까\"라며 \"아니 대장동 유한기, 김문기의 죽음에 이어 이재명 지사와 관련된 사람들의 심장이 줄지어 ？어 섰다. 살인멸구다\"라고 의구심을 표했다.\n",
      "\n",
      "\n",
      "\n",
      "이어 \"대한민국 검찰은 죽음에 이를 시간을 충분히 주었다. 잔인한 검찰이다. 국민은 섬뜩하고 대장동과 변호사 대납사건의 진실은 가물거린다\"며 \"대장동 사건은 온갖 늑장수사를 거쳐 정진상 실장의 소환 날짜도 잡지 못하고 있다\"고 꼬집었다.\n",
      "\n",
      "\n",
      "\n",
      "그러면서 \"그 사이에 유한기 김문기 두 사람의 심장이 ？었다. 이병철 제보자의 심장박리에는 경찰의 기소 결정과 달리 혜경궁김씨를 불기소한 검찰과 변호사 대납 의혹이 자리잡고 있다\"면서 \"이태형 변호사의 혁혁한 공로는 검찰의 혜경궁김씨 사건의 기소를 막은 수원지검 출신 변호사에 대한 전관예우와 그에 관한 미공개 녹취록에 원인이 있다\"고 주장하기도 했다.\n",
      "\n",
      "\n",
      "\n",
      "끝으로 김 전 의원은 \"결국 혜경궁이다. 그가 친문이면서 이재명 지사와 싸운 것도 그가 미공개 녹취록을 안고 세상을 떠난 것도 25억 변호사 수임의혹도 다 이런 업적에 대한 성공보수가 아닐까\"라며 \"이 모든 진실은 그가 남긴 휴대폰과 컴퓨터에 남아 있다. 그는 유서 대신 이 녹취록을 남겼다. 혜경궁김씨를 영원히 땅에 묻으려고 한 검찰과 변호사의 진실은 이병철 제보자의 심장에서 박리되어 우리 곁에 남아 있다. 그는 누가 뭐래도 공익제보자이다. 그의 명복을 빈다\"고도 했다.\n"
     ]
    }
   ],
   "source": [
    "f = open('news.txt', 'r', encoding = \"utf-8\")\n",
    "text = f.readline()\n",
    "\n",
    "while text:\n",
    "    print(text)\n",
    "    text = f.readline()\n",
    "    \n",
    "f.close()"
   ]
  },
  {
   "cell_type": "code",
   "execution_count": 50,
   "id": "6448ffd1",
   "metadata": {
    "scrolled": true
   },
   "outputs": [
    {
     "name": "stdout",
     "output_type": "stream",
     "text": [
      "<class '_io.TextIOWrapper'>\n",
      "윤석열 국민의힘 대선 후보 부인 김건희씨의 '7시간 통화 녹취록'이 공개돼 정치권에 파장이 일고 있는 가운데, 김영환 전 국회의원이 '김건희가 최순실이 될 수 없는 5가지 이유'를 밝혀 관심이 집중되고 있다.\n",
      "\n",
      "\n",
      "\n",
      "17일 정치권에 따르면, 김영환 전 의원은 자신의 페이스북에 '김건희가 최순실이 될 수 없는 5가지 이유'라는 제하의 글을 통해 \"정치가 두렵다\", \"윤석열은 문재인이 만들었다\", \"조국은 민주당이 망가트렸다\", \"안희정이 불쌍하다\", \"나는 나이트클럽을 싫어한다. 그러니 쥴리가 아니다\"라고 운을 뗐다.\n",
      "\n",
      "\n",
      "\n",
      "김 전 의원은 \"그는 순진하게도 정치판의 사기꾼에게도 자기 남편을 도와달라고 매달리는 순진한 여성이었다\"면서 \"그의 정치적 술수의 몽매함이 그를 구했다\"고 주장했다.\n",
      "\n",
      "\n",
      "\n",
      "이어 \"상식이 정치를 이기고, 순수가 노회를 이기고, 진실이 공작을 이겼다\"며 \"MBC는 이재명 형수욕설을 방영하지 않는 한 공영방송이라 할 수 없다. 큰일 났다\"고 지적했다.\n",
      "\n",
      "\n",
      "\n",
      "그러면서 \"무엇보다 윤석열은 주변에 친구가 많다. 그리고 천부적으로 그는 계란말이를 좋아하고 혼밥혼술을 싫어한다\"면서 \"토리 아빠가 최순실을? 이재명 민주당의 이 실망을 어찌 할꼬. 쯧쯧 에고고!\"라고 비꼬았다.\n",
      "\n",
      "\n",
      "\n",
      "또 다른 게시물에서 김 전 의원은 김건희씨 녹취록 공개와 관련, \"참 놀라운 반전이다. 이래서 정치가 어렵고 흥미롭다\"며 \"김건희씨의 오늘 녹취는 가식이 없어 좋았다. 그동안 불편한 진실의 일단이 드러났다\"고 말했다. 그는 \"안희정 보수 탄핵론 등 한 번 깊이 생각해 볼 문제를 던져 주었다\"면서 \"예상한대로 그녀는 새로운 영부인으로도 손색이 없다\"고 평가하기도 했다.\n",
      "\n",
      "\n",
      "\n",
      "김 전 의원은 이재명 더불어민주당 대선 후보와 부인 김혜경씨에 대해서는 날선 반응을 보였다. 그는 \"아하 혜경궁 김씨였구나! 공익제보자 이병철의 사인이 나왔다. 대동맥 파열과 박리란다. 국과수의 구두소견을 믿는다 할지라도 그의 대동맥 파열과 박리는 왜 생겼을까\"라며 \"아니 대장동 유한기, 김문기의 죽음에 이어 이재명 지사와 관련된 사람들의 심장이 줄지어 ？어 섰다. 살인멸구다\"라고 의구심을 표했다.\n",
      "\n",
      "\n",
      "\n",
      "이어 \"대한민국 검찰은 죽음에 이를 시간을 충분히 주었다. 잔인한 검찰이다. 국민은 섬뜩하고 대장동과 변호사 대납사건의 진실은 가물거린다\"며 \"대장동 사건은 온갖 늑장수사를 거쳐 정진상 실장의 소환 날짜도 잡지 못하고 있다\"고 꼬집었다.\n",
      "\n",
      "\n",
      "\n",
      "그러면서 \"그 사이에 유한기 김문기 두 사람의 심장이 ？었다. 이병철 제보자의 심장박리에는 경찰의 기소 결정과 달리 혜경궁김씨를 불기소한 검찰과 변호사 대납 의혹이 자리잡고 있다\"면서 \"이태형 변호사의 혁혁한 공로는 검찰의 혜경궁김씨 사건의 기소를 막은 수원지검 출신 변호사에 대한 전관예우와 그에 관한 미공개 녹취록에 원인이 있다\"고 주장하기도 했다.\n",
      "\n",
      "\n",
      "\n",
      "끝으로 김 전 의원은 \"결국 혜경궁이다. 그가 친문이면서 이재명 지사와 싸운 것도 그가 미공개 녹취록을 안고 세상을 떠난 것도 25억 변호사 수임의혹도 다 이런 업적에 대한 성공보수가 아닐까\"라며 \"이 모든 진실은 그가 남긴 휴대폰과 컴퓨터에 남아 있다. 그는 유서 대신 이 녹취록을 남겼다. 혜경궁김씨를 영원히 땅에 묻으려고 한 검찰과 변호사의 진실은 이병철 제보자의 심장에서 박리되어 우리 곁에 남아 있다. 그는 누가 뭐래도 공익제보자이다. 그의 명복을 빈다\"고도 했다.\n"
     ]
    }
   ],
   "source": [
    "f = open('news.txt', 'r', encoding = \"utf-8\")\n",
    "\n",
    "for line in f:\n",
    "    print(line)"
   ]
  },
  {
   "cell_type": "code",
   "execution_count": null,
   "id": "02c2a0d2",
   "metadata": {},
   "outputs": [],
   "source": [
    "# with open('filename', 'r') as f:\n",
    "# 1 text = f.read()       - 전체 text를 한 번에 읽는다\n",
    "# 2 text = f.readline()   - 한 문장씩 리스트에 담아서 출력..\n",
    "# 3 text = f.readline()   - 한 문장을 읽는다\n",
    "# 4 for line as f:        - 파일 객체를 for 을 이용해서 한 문장씩 출력\n",
    "#        pass"
   ]
  },
  {
   "cell_type": "code",
   "execution_count": 247,
   "id": "8f867d56",
   "metadata": {},
   "outputs": [],
   "source": [
    "# f = open('news.txt', 'w', encoding = 'utf-8')\n",
    "# f.write(\"Hello\")\n",
    "# f.close()\n",
    "\n",
    "# with open('news.txt', 'w', encoding = \"utf-8\") as f:\n",
    "#     f.write(\"Dont cry snowman\")"
   ]
  },
  {
   "cell_type": "code",
   "execution_count": 1,
   "id": "ad2d7b54",
   "metadata": {},
   "outputs": [
    {
     "data": {
      "text/plain": [
       "['지구', '태양']"
      ]
     },
     "execution_count": 1,
     "metadata": {},
     "output_type": "execute_result"
    }
   ],
   "source": [
    "li = ['금성', '지구', '태양']\n",
    "li.remove('금성')\n",
    "li"
   ]
  },
  {
   "cell_type": "code",
   "execution_count": 11,
   "id": "8d3d695c",
   "metadata": {
    "scrolled": true
   },
   "outputs": [
    {
     "data": {
      "text/plain": [
       "{'2': '45', '4': '39', '1': '41', '3': '40'}"
      ]
     },
     "execution_count": 11,
     "metadata": {},
     "output_type": "execute_result"
    }
   ],
   "source": [
    "with open('ban.txt', 'r') as f:\n",
    "    dic = {}\n",
    "    for i in f:\n",
    "        sp = i.split()\n",
    "        dic[sp[0]] = sp[1]\n",
    "        \n",
    "dic\n",
    "    \n",
    "    \n"
   ]
  },
  {
   "cell_type": "code",
   "execution_count": 58,
   "id": "85d7a26c",
   "metadata": {
    "scrolled": true
   },
   "outputs": [
    {
     "data": {
      "text/plain": [
       "[0, 2, 4, 6, 8]"
      ]
     },
     "execution_count": 58,
     "metadata": {},
     "output_type": "execute_result"
    }
   ],
   "source": []
  },
  {
   "cell_type": "code",
   "execution_count": 61,
   "id": "68a4a097",
   "metadata": {},
   "outputs": [
    {
     "name": "stdout",
     "output_type": "stream",
     "text": [
      "2513\n"
     ]
    }
   ],
   "source": [
    "# ban.txt를 열어서 내용을 dict로 저장하시오...\n",
    "# {'2': [Alice Paul David Bob], '3': [Johb Joe Tom] ... }"
   ]
  },
  {
   "cell_type": "code",
   "execution_count": 93,
   "id": "9889153e",
   "metadata": {
    "scrolled": false
   },
   "outputs": [
    {
     "data": {
      "text/plain": [
       "{'1': ['sadjaslk', 'asdsjdalkj', 'asdsad']}"
      ]
     },
     "execution_count": 93,
     "metadata": {},
     "output_type": "execute_result"
    }
   ],
   "source": [
    "f = open(\"ban.txt\", 'r')\n",
    "text = f.readlines()\n",
    "dic = {}\n",
    "# while text:\n",
    " \n",
    "#     dic[int(text[:1])] = text[2:]\n",
    "#     text = f.readline()\n",
    "   \n",
    "# dic\n",
    "for line in text:\n",
    "    a, *b = line.split()\n",
    "#     a = line.split[0]\n",
    "#     b = line.split[1:]\n",
    "    dic[a] = b\n",
    "    break\n",
    "f.close()\n",
    "dic"
   ]
  },
  {
   "cell_type": "code",
   "execution_count": null,
   "id": "3124b5f8",
   "metadata": {},
   "outputs": [],
   "source": [
    "a, b, c = [1,2,3]"
   ]
  },
  {
   "cell_type": "code",
   "execution_count": 51,
   "id": "91f65369",
   "metadata": {},
   "outputs": [],
   "source": [
    "# 'stockcode.txt' 에서 모든 코드번호와 종목명을 출력하시오.."
   ]
  },
  {
   "cell_type": "code",
   "execution_count": 63,
   "id": "5a6fd232",
   "metadata": {},
   "outputs": [
    {
     "name": "stdout",
     "output_type": "stream",
     "text": [
      "005930\n"
     ]
    }
   ],
   "source": [
    "with open(\"stockcode.txt\", \"r\") as f:\n",
    "    texts = f.readlines()\n",
    "    for text in texts:\n",
    "        if text.split()[1] == \"삼성전자\":\n",
    "            print(text.split()[0])\n",
    "            "
   ]
  },
  {
   "cell_type": "code",
   "execution_count": 81,
   "id": "72e8bd63",
   "metadata": {
    "collapsed": true
   },
   "outputs": [
    {
     "name": "stdout",
     "output_type": "stream",
     "text": [
      "000720 현대건설\n",
      "\n",
      "000721 현대건설우\n",
      "\n",
      "000860 건설화학\n",
      "\n",
      "001600 서광건설\n",
      "\n",
      "001970 신성건설\n",
      "\n",
      "001971 신성건설우\n",
      "\n",
      "002530 벽산건설\n",
      "\n",
      "002531 벽산건설우\n",
      "\n",
      "003070 코오롱건설\n",
      "\n",
      "005900 동양건설\n",
      "\n",
      "005960 동부건설\n",
      "\n",
      "005961 동부건설우\n",
      "\n",
      "005980 성지건설\n",
      "\n",
      "006360 GS건설\n",
      "\n",
      "006440 한일건설\n",
      "\n",
      "009410 태영건설\n",
      "\n",
      "009411 태영건설우\n",
      "\n",
      "011160 두산건설\n",
      "\n",
      "012090 성원건설\n",
      "\n",
      "012091 성원건설우\n",
      "\n",
      "013360 일성건설\n",
      "\n",
      "013361 일성건설우B\n",
      "\n",
      "013362 일성건설2우B\n",
      "\n",
      "013580 계룡건설\n",
      "\n",
      "014790 한라건설\n",
      "\n",
      "015110 중앙건설\n",
      "\n",
      "034300 신세계건설\n",
      "\n",
      "047040 대우건설\n",
      "\n"
     ]
    }
   ],
   "source": [
    "# 종목명에 '건설' 이 포함된 종목명과 코드 번호를 출력..\n",
    "\n",
    "with open(\"stockcode.txt\", \"r\") as f:\n",
    "    texts = f.readlines()\n",
    "    for text in texts:\n",
    "        if \"건설\" in text.split()[1]:\n",
    "            print(text)"
   ]
  },
  {
   "cell_type": "code",
   "execution_count": 82,
   "id": "1248a4b0",
   "metadata": {},
   "outputs": [],
   "source": [
    "# 문자열을 입력받은 후 이를 파일에 기록하는 코드를 작성하시오"
   ]
  },
  {
   "cell_type": "code",
   "execution_count": 90,
   "id": "d61f6d8d",
   "metadata": {},
   "outputs": [
    {
     "name": "stdout",
     "output_type": "stream",
     "text": [
      "don't cry snowman\n"
     ]
    }
   ],
   "source": [
    "st = input()\n",
    "\n",
    "with open('ban.txt', 'w') as f:\n",
    "    f.write(st)\n",
    "with open('ban.txt', 'r') as f:\n",
    "    text = f.read()\n"
   ]
  },
  {
   "cell_type": "code",
   "execution_count": 94,
   "id": "68feedd9",
   "metadata": {},
   "outputs": [],
   "source": [
    "# stockcode.txt 파일을 복사해서 stockcode_copy.txt 파일을 만드시오."
   ]
  },
  {
   "cell_type": "code",
   "execution_count": 133,
   "id": "3cbb2464",
   "metadata": {},
   "outputs": [
    {
     "ename": "FileNotFoundError",
     "evalue": "[Errno 2] No such file or directory: './text file/stockcode.txt'",
     "output_type": "error",
     "traceback": [
      "\u001b[1;31m---------------------------------------------------------------------------\u001b[0m",
      "\u001b[1;31mFileNotFoundError\u001b[0m                         Traceback (most recent call last)",
      "\u001b[1;32m~\\AppData\\Local\\Temp/ipykernel_4736/3343549739.py\u001b[0m in \u001b[0;36m<module>\u001b[1;34m\u001b[0m\n\u001b[1;32m----> 1\u001b[1;33m \u001b[1;32mwith\u001b[0m \u001b[0mopen\u001b[0m\u001b[1;33m(\u001b[0m\u001b[1;34m\"./text file/stockcode.txt\"\u001b[0m\u001b[1;33m,\u001b[0m \u001b[1;34m'r'\u001b[0m\u001b[1;33m)\u001b[0m \u001b[1;32mas\u001b[0m \u001b[0mf\u001b[0m\u001b[1;33m:\u001b[0m\u001b[1;33m\u001b[0m\u001b[1;33m\u001b[0m\u001b[0m\n\u001b[0m\u001b[0;32m      2\u001b[0m     \u001b[0mtext\u001b[0m \u001b[1;33m=\u001b[0m \u001b[0mf\u001b[0m\u001b[1;33m.\u001b[0m\u001b[0mread\u001b[0m\u001b[1;33m(\u001b[0m\u001b[1;33m)\u001b[0m\u001b[1;33m\u001b[0m\u001b[1;33m\u001b[0m\u001b[0m\n\u001b[0;32m      3\u001b[0m \u001b[1;33m\u001b[0m\u001b[0m\n\u001b[0;32m      4\u001b[0m \u001b[0mprint\u001b[0m\u001b[1;33m(\u001b[0m\u001b[0mtext\u001b[0m\u001b[1;33m)\u001b[0m\u001b[1;33m\u001b[0m\u001b[1;33m\u001b[0m\u001b[0m\n\u001b[0;32m      5\u001b[0m \u001b[1;33m\u001b[0m\u001b[0m\n",
      "\u001b[1;31mFileNotFoundError\u001b[0m: [Errno 2] No such file or directory: './text file/stockcode.txt'"
     ]
    }
   ],
   "source": [
    "with open(\"./text file/stockcode.txt\", 'r') as f:\n",
    "    text = f.read()\n",
    "    \n",
    "print(text)\n",
    "\n",
    "with open(\"stockcode_copy.txt\", \"w\") as f:\n",
    "    f.write(text)\n",
    "    \n",
    "with open(\"stockcode_copy.txt\", \"r\") as f:\n",
    "    text = f.read()\n",
    "print(text)"
   ]
  },
  {
   "cell_type": "code",
   "execution_count": null,
   "id": "94767e82",
   "metadata": {},
   "outputs": [],
   "source": []
  },
  {
   "cell_type": "code",
   "execution_count": 134,
   "id": "78938267",
   "metadata": {},
   "outputs": [],
   "source": [
    "# 'bird-2695678_1920.jpg' 파일을 복사해서 'bird_copy.jpg' 파일을 만드시오...\n",
    "# 'w' - 텍스트형 파일\n",
    "# 'r' - \n",
    "# 'a' -\n",
    "\n",
    "# 'rb' - 바이너리 형식(이미지, 영상, 소리, 프로그램)\n",
    "# 'wb'\n",
    "\n",
    "f = open('./text_file/bird-2695678_1920.jpg', 'rb')\n",
    "img = f.read()\n",
    "f.close()\n",
    "\n",
    "g = open('./text_file/bird_copy.jpg', 'wb')\n",
    "g.write(img)\n",
    "g.close()\n"
   ]
  },
  {
   "cell_type": "code",
   "execution_count": 135,
   "id": "c90f1222",
   "metadata": {},
   "outputs": [
    {
     "data": {
      "image/jpeg": "[encoded data removed]",
      "text/plain": [
       "<IPython.core.display.Image object>"
      ]
     },
     "execution_count": 135,
     "metadata": {},
     "output_type": "execute_result"
    }
   ],
   "source": [
    "from IPython.display import Image\n",
    "Image('./text_file/bird_copy.jpg')"
   ]
  },
  {
   "cell_type": "code",
   "execution_count": 136,
   "id": "062da34c",
   "metadata": {},
   "outputs": [],
   "source": [
    "f = open('./text_file/bird_copy.jpg', 'rb')\n",
    "g = open('./text_file/bird_copy1.jpg', 'wb')\n",
    "\n",
    "bufsize = 1024\n",
    "img = f.read(bufsize)\n",
    "\n",
    "while img:\n",
    "    g.write(img)\n",
    "    img = f.read(bufsize)\n",
    "    \n",
    "g.write(img)\n",
    "g.close()\n"
   ]
  },
  {
   "cell_type": "code",
   "execution_count": 137,
   "id": "6733ad1a",
   "metadata": {},
   "outputs": [
    {
     "data": {
      "image/jpeg": "[encoded data removed]",
      "text/plain": [
       "<IPython.core.display.Image object>"
      ]
     },
     "execution_count": 137,
     "metadata": {},
     "output_type": "execute_result"
    }
   ],
   "source": [
    "Image('./text_file/bird_copy1.jpg')"
   ]
  },
  {
   "cell_type": "code",
   "execution_count": 138,
   "id": "ab7adbe5",
   "metadata": {},
   "outputs": [],
   "source": [
    "### function \n",
    "\n",
    "# 함수의 종류\n",
    "# 1. 내장함수 - 파이썬에서 자체적으로 정의해서 제공하는 함수\n",
    "#                (print(), type(), int(), max(), len()...)\n",
    "\n",
    "# 2. 외부 함수 - 외부에서 만들어진 함수를 가져와서 사용.\n",
    "#                 import numpy as np => np.mean()\n",
    "#                 import math => math.pi\n",
    "#                 import pandas as pd => pd.DateFrame(), pd.sort_index()...\n",
    "\n",
    "# 3. 사용자 정의 함수\n",
    "#    def 함수명(매게변수1, 매개변수2, ...):\n",
    "#            실행코드...\n",
    "#            실행코드...\n",
    "#             ...\n",
    "\n",
    "#    함수명(값1, 값2...)"
   ]
  },
  {
   "cell_type": "code",
   "execution_count": null,
   "id": "b8075d34",
   "metadata": {},
   "outputs": [],
   "source": []
  },
  {
   "cell_type": "code",
   "execution_count": null,
   "id": "edf740de",
   "metadata": {},
   "outputs": [],
   "source": [
    "# 내장함수"
   ]
  },
  {
   "cell_type": "code",
   "execution_count": null,
   "id": "b8860aa0",
   "metadata": {},
   "outputs": [],
   "source": []
  },
  {
   "cell_type": "code",
   "execution_count": null,
   "id": "51c21666",
   "metadata": {},
   "outputs": [],
   "source": []
  },
  {
   "cell_type": "code",
   "execution_count": 141,
   "id": "04c6866a",
   "metadata": {},
   "outputs": [],
   "source": [
    "def hello(a, b):\n",
    "    result1 = a + b\n",
    "    result2 = a * b\n",
    "    return result1, result2"
   ]
  },
  {
   "cell_type": "code",
   "execution_count": 142,
   "id": "12f78af8",
   "metadata": {},
   "outputs": [
    {
     "data": {
      "text/plain": [
       "(6, 8)"
      ]
     },
     "execution_count": 142,
     "metadata": {},
     "output_type": "execute_result"
    }
   ],
   "source": [
    "hello(2, 4)"
   ]
  },
  {
   "cell_type": "code",
   "execution_count": null,
   "id": "984f015e",
   "metadata": {},
   "outputs": [],
   "source": []
  },
  {
   "cell_type": "code",
   "execution_count": 143,
   "id": "ddc329ff",
   "metadata": {},
   "outputs": [],
   "source": [
    "# 임의의 정수 n을 매개변수로 받은 후 1부터 n까지의 합을 리턴하는 함수를 정의하고 실행.."
   ]
  },
  {
   "cell_type": "code",
   "execution_count": 145,
   "id": "d87e9fb9",
   "metadata": {},
   "outputs": [],
   "source": [
    "def sumf(n):\n",
    "    total = 0\n",
    "    for i in range(n+1):\n",
    "        total += 1\n",
    "    return total"
   ]
  },
  {
   "cell_type": "code",
   "execution_count": 146,
   "id": "b375ed1a",
   "metadata": {},
   "outputs": [
    {
     "data": {
      "text/plain": [
       "11"
      ]
     },
     "execution_count": 146,
     "metadata": {},
     "output_type": "execute_result"
    }
   ],
   "source": [
    "sumf(10)"
   ]
  },
  {
   "cell_type": "code",
   "execution_count": 147,
   "id": "fc2004a5",
   "metadata": {},
   "outputs": [],
   "source": [
    "# 반지름을 받은 후 원의 둘레와 원의 면적을 리턴하는 함수를 만드시오.."
   ]
  },
  {
   "cell_type": "code",
   "execution_count": 152,
   "id": "ec5425bd",
   "metadata": {},
   "outputs": [
    {
     "data": {
      "text/plain": [
       "440"
      ]
     },
     "execution_count": 152,
     "metadata": {},
     "output_type": "execute_result"
    }
   ],
   "source": [
    "a = '110111000'\n",
    "int(a,2)"
   ]
  },
  {
   "cell_type": "code",
   "execution_count": 157,
   "id": "531954c6",
   "metadata": {},
   "outputs": [],
   "source": [
    "def circle(radius):\n",
    "    pi = 3.14\n",
    "    \n",
    "    area = pi * radius**2\n",
    "    peri = pi * radius*2\n",
    "    \n",
    "    return area, round(peri)"
   ]
  },
  {
   "cell_type": "code",
   "execution_count": 158,
   "id": "da63163e",
   "metadata": {},
   "outputs": [
    {
     "data": {
      "text/plain": [
       "(78.5, 31)"
      ]
     },
     "execution_count": 158,
     "metadata": {},
     "output_type": "execute_result"
    }
   ],
   "source": [
    "circle(5)"
   ]
  },
  {
   "cell_type": "code",
   "execution_count": 159,
   "id": "168f347f",
   "metadata": {},
   "outputs": [],
   "source": [
    "# 임의의 정수를 매개변수로 받은 후 절대값을 리턴하는 함수를 정의하고 실행하시오.."
   ]
  },
  {
   "cell_type": "code",
   "execution_count": 160,
   "id": "76b102d8",
   "metadata": {},
   "outputs": [],
   "source": [
    "def ab(a):\n",
    "    if a < 0:\n",
    "        a = -a\n",
    "    return a"
   ]
  },
  {
   "cell_type": "code",
   "execution_count": 162,
   "id": "385603ee",
   "metadata": {},
   "outputs": [
    {
     "data": {
      "text/plain": [
       "5"
      ]
     },
     "execution_count": 162,
     "metadata": {},
     "output_type": "execute_result"
    }
   ],
   "source": [
    "ab(5)"
   ]
  },
  {
   "cell_type": "code",
   "execution_count": null,
   "id": "f292d755",
   "metadata": {},
   "outputs": [],
   "source": [
    "# 3개 이상의 임의의 정수를 입력받은 후 최대값을 출력하는 함수를 정의하시오.."
   ]
  },
  {
   "cell_type": "code",
   "execution_count": 180,
   "id": "f2c3ab02",
   "metadata": {},
   "outputs": [],
   "source": [
    "def maxf(a, b, c, *args):\n",
    "     return max(a, b, c, *args)"
   ]
  },
  {
   "cell_type": "code",
   "execution_count": 181,
   "id": "f8622faf",
   "metadata": {},
   "outputs": [
    {
     "data": {
      "text/plain": [
       "5"
      ]
     },
     "execution_count": 181,
     "metadata": {},
     "output_type": "execute_result"
    }
   ],
   "source": [
    "maxf(1,2,3, 4, 5)"
   ]
  },
  {
   "cell_type": "code",
   "execution_count": null,
   "id": "f093e654",
   "metadata": {},
   "outputs": [],
   "source": []
  },
  {
   "cell_type": "code",
   "execution_count": 182,
   "id": "f96c9570",
   "metadata": {},
   "outputs": [],
   "source": [
    "# 종목명을 입력받은 후 종목 코드를 리턴하는 함수를 만드시오.. 'stockcode.txt'을 이용.."
   ]
  },
  {
   "cell_type": "code",
   "execution_count": 186,
   "id": "c2e89542",
   "metadata": {},
   "outputs": [],
   "source": [
    "\n",
    "def find_code(name):\n",
    "    with open(\"./text_file/stockcode.txt\", 'r') as f:\n",
    "        texts = f.readlines()\n",
    "    for text in texts:\n",
    "        if name == text.split()[1]:\n",
    "            code = text.split()[0]\n",
    "    return code"
   ]
  },
  {
   "cell_type": "code",
   "execution_count": 190,
   "id": "9334c66e",
   "metadata": {},
   "outputs": [
    {
     "data": {
      "text/plain": [
       "'000240'"
      ]
     },
     "execution_count": 190,
     "metadata": {},
     "output_type": "execute_result"
    }
   ],
   "source": [
    "find_code(\"한국타이어\")"
   ]
  },
  {
   "cell_type": "code",
   "execution_count": null,
   "id": "97928362",
   "metadata": {},
   "outputs": [],
   "source": []
  },
  {
   "cell_type": "code",
   "execution_count": 198,
   "id": "4b35dfb0",
   "metadata": {},
   "outputs": [],
   "source": [
    "news = \"\"\"\n",
    "존 F 케네디 전 미국 대통령의 동생인 로버트 케네디 전 상원의원을 암살한 범인의 가석방이 거부됐습니다. 최근 개빈 뉴섬 캘리포니아 주지사는 케네디 전 의원 암살범인 팔레스타인 출신의 이민자 시르한 비샤라 시르한(77)의 가석방 권고를 거부했다고 밝혔습니다.\n",
    "\n",
    "\n",
    "1968년 6월 미국 대선에 출마한 로버트 케네디 전 상원의원은 캘리포니아 주 예비선거에서 승리한 뒤 로스앤젤레스 앰배서더 호텔에서 열린 축하파티 현장에서 총격을 받고 사망했다. 위키피디아\n",
    "\n",
    "케네디 전 대통령 암살범인 리 하비 오스월드가 이미 사망한 것과 달리 케네디 전 의원을 암살한 시르한은 생존해 캘리포니아 주 교도소에서 53년째 수감 중입니다. 1968년 42세 나이에 대선에 출마한 케네디 전 의원은 캘리포니아 주 예비선거에서 승리한 뒤 로스앤젤레스의 한 호텔에서 열린 축하행사 현장에서 시르한의 총격을 받고 사망했습니다. 케네디 전 대통령 암살 5년 후 비슷한 방식으로 동생이 암살됐다는 점, 마틴 루터 킹 목사 암살 2개월 후 터진 암살 사건이라는 점 등 때문에 케네디 전 의원 사망이 던진 충격파는 컸습니다. 1960년대 리버럴리즘(자유주의)을 상징하는 두 형제가 몇 년 간격으로 암살되면서 “카멜롯(태평성대) 시대의 종언” “케네디 가문의 저주” 등의 유행어가 생겨났습니다.\n",
    "\n",
    "시르한은 체포된 뒤 법정 진술에서 “케네디의 친(親)이스라엘 정책에 불만을 품고 범행을 저질렀다”고 자백했습니다. 하지만 이후 언론과의 옥중 인터뷰에서 “내 손에 총을 든 기억이 없다”고 주장하는 등 범행 여부에 대해 오락가락하는 모습을 보였습니다.\n",
    "\n",
    "\n",
    "로버트 케네디 전 상원의원 암살 혐의로 기소돼 유죄 판결을 받고 캘리포니아 주 샌디에이고 교도소에서 53년째 수감 중인 시르한 비샤라 시르한의 체포 당시와 현재 모습. 그는 당초 사형 판결을 받았으나 캘리포니아 주의 사형제가 폐지되면서 종신형으로 감형됐다. 로스앤젤레스타임스\n",
    "\n",
    "가석방 심사위원회는 지난해 8월 청문회에서 “더 이상 사회에 위협이 되지 않는다”면서 시르한에 대한 가석방 권고 결정을 내렸습니다. 16번째 심사 만에 처음 나온 권고 결정이었습니다. 앞선 심사 때마다 반대 의견을 냈던 캘리포니아 주 검찰도 지난해 8월 심사에서는 아무런 의견도 내지 않으면서 암묵적인 동의 의사를 표했습니다. 최근 캘리포니아 주가 일정 기간 형량을 마친 장기 수감자를 더 이상 감옥에 두지 않고 사회 복귀를 유도하는 법안을 통과시킨 것도 가석방 허용 분위기에 불을 지폈습니다. 하지만 가석방 시도가 최종 문턱에서 주지사에 의해 좌절되자 시르한 변호인단은 크게 반발했고, 법조계와 언론에서는 “의외의 결정”이라는 반응이 나왔습니다. 미국인들 사이에서는 “역시 케네디”라는 얘기가 흘러나왔습니다.\n",
    "\n",
    "뉴섬 주지사는 이례적으로 9장에 걸친 보도자료를 통해 가석방 권고를 거부한 이유를 상세히 설명했습니다. 로스앤젤레스타임스에 “왜 나는 시르한 시르한을 가석방하지 않기로 했나”라는 제목의 기고문도 게재했습니다. 시르한이 아직 자신의 범행을 온전히 인정하지 않는다는 점, 지금 출소하면 여전히 공공의 안전에 위협이 될 수 있다는 점 등 크게 두 가지 이유를 들었습니다. 주지사는 “시르한은 과거 자신이 내렸던 위험하고 파괴적인 결정들을 되풀이하지 않겠다는 통찰력을 보여주지 못했다”면서 “그는 아직 해야 할(뉘우칠) 일이 많다”고 했습니다. 그는 “형제애를 나눈 국민이 되기 위해서는 서로의 상처를 봉합하는 노력이 필요하다”는 케네디 전 의원의 발언을 인용하며 로스앤젤레스타임스 기고문을 끝맺었습니다.\n",
    "\n",
    "\n",
    "로버트 케네디 전 상원의원이 캘리포니아 주 예비선거 승리 후 손가락으로 ‘V’자를 그려 보이고 있다. 암살 전 마지막으로 공식 무대에 선 모습이다. 로버트 케네디 인권센터\n",
    "\n",
    "주지사의 적극적인 설명에도 불구하고 케네디 전 의원이 생전에 추구했던 사법 정신에 비춰볼 때 이번 결정은 “지나치다”는 평가가 지배적입니다. 존 F 케네디 행정부에서 법무장관을 지낸 케네디 전 의원은 재소자 인권 향상과 사법당국의 과잉 형량을 줄이는 데 힘을 쏟았기 때문입니다. 1963년 흉악범을 수용하는 감옥으로 사용됐던 앨커트래즈 교도소 폐쇄 결정을 내린 것도 당시 법무장관이던 케네디 전 의원이었습니다. 시르한 변호팀은 “가석방 거부 결정을 내리면서 교정 개혁을 중시했던 로버트 케네디를 거론한 것은 참 아이러니하다”고 비판했습니다.\n",
    "\n",
    "법조계에서는 주지사의 이번 결정이 정치적 판단에서 비롯된 것이라는 해석이 나옵니다. 뉴욕타임스는 “최근 낙마 위기를 극복한 주지사가 케네디 가문의 영향력을 계산에 넣지 않고 이번 결정을 내렸을 것으로 보기 힘들다”고 전했습니다. 시르한 변호팀 역시 “정치적 결정”이라고 비판했습니다.\n",
    "\n",
    "코로나19 봉쇄정책에 대한 주민 반발이 거세지면서 지난해 9월 소환투표에 회부됐던 뉴섬 주지사는 민주당의 지지를 발판으로 주지사직 사수에 성공했습니다. 조 바이든 대통령까지 캘리포니아를 찾아 주지사 지지 운동을 벌였습니다. 케네디 가문으로부터 어떤 도움을 받았는지는 알려지지 않았지만 뉴섬 주지사는 평소 케네디 전 의원에 대한 각별한 애정을 드러내왔습니다. 자신의 사무실 책상 위에 케네디 전 의원과 캘리포니아 주 고등법원 판사를 지낸 아버지가 함께 찍은 사진을 액자에 넣어 걸어두고 있다고 밝히기도 했습니다.\n",
    "\n",
    "\n",
    "로버트 케네디 전 상원의원과 에델 여사 부부가 10명의 자녀들과 동물원을 찾았을 때 모습. 11번째인 로리 케네디는 케네디 전 의원이 암살된 후 태어났다. 애틀랜타저널 컨스티튜션\n",
    "\n",
    "케네디 가문은 시르한 가석방 가능성이 제기되자 전방위적으로 반대 로비를 펼쳐왔습니다. 케네디 전 의원의 부인인 올해 94세의 에델 여사와 자녀 6명은 가석방 권고 결정이 나오자마자 뉴섬 주지사에게 “가석방을 허용하지 않기를 바란다”는 서한을 보냈습니다. 막내딸인 로리 케네디 영화감독은 뉴욕타임스 기고에서 “시르한은 가석방 자격이 없다”고 주장했습니다. 장남인 조 케네디 2세 전 하원의원은 보도자료를 통해 “우리 자녀들은 아빠를 그리워하며 자랐다”면서 “그 어떤 서류도, 법적인 결정도 이런 현실을 바꿀 수 없다”고 했습니다. 반면 셋째인 로버트 케네디 주니어 변호사와 열째인 더글러스 케네디 폭스뉴스 기자는 가해자를 용서한다며 가석방을 허용해달라는 탄원서를 제출했습니다. 케네디 전 의원은 에델 여사와의 사이에 11명의 자녀를 낳았고, 이중 2명이 사망했습니다.\n",
    "\n",
    "‘케네디’라는 이름은 미국인들에게 복합적인 감정을 유발합니다. 동경의 대상인 반면 자주 비판의 도마 위에 오르기도 합니다. 그동안 사회적 윤리와 법적 테두리를 넘는 각종 스캔들을 일으켜 비판의 대상이 됐다면 이번 시르한 가석방 거부 결정은 케네디 가문을 모처럼 피해자의 앵글에서 볼 수 있는 사건이었습니다. 감옥에서 노인으로 변한 시르한이 지금 가석방된다고 하더라도 공공의 위협이 될 가능성은 사실상 희박하지만 피해자 가족에게 용서는 힘든 단어임에 분명합니다. 2023년에 있을 다음 가석방 심사 때는 어떤 일이 펼쳐질지 주목됩니다.\n",
    "\n",
    "\"\"\"\n",
    "# 단어를 입력받은 후 해당 단어가 news에서 몇 번 등장했는지 리턴하는 함수..\n",
    "# 두 단어를 입력받은 후 첫 번째 단어를 두번째 단어로 바꿔어서 리턴하는 함수"
   ]
  },
  {
   "cell_type": "code",
   "execution_count": 210,
   "id": "c2930858",
   "metadata": {},
   "outputs": [],
   "source": [
    "def count_word(word):\n",
    "    return news.find(word)\n",
    "\n",
    "def replace_word(old_word, new_word):\n",
    "    new_news = news.replace(old_word, new_word)\n",
    "    return new_news"
   ]
  },
  {
   "cell_type": "code",
   "execution_count": 222,
   "id": "0e63738b",
   "metadata": {},
   "outputs": [
    {
     "data": {
      "text/plain": [
       "'존 F 케네디 전 미국 대통령의 동생인 로버트 케네디 전 상원의원을 암살한 범인의 가석방이 거부됐습니다. 최근 개빈 뉴섬 캘리포니아 주지사는 케네디 전 의원 암살범인 팔레스타인 출신의 이민자 시르한 비샤라 시르한(77)의 가석방 권고를 거부했다고 밝혔습니다.1968년 6월 미국 대선에 출마한 로버트 케네디 전 상원의원은 캘리포니아 주 예비선거에서 승리한 뒤 로스앤젤레스 앰배서더 호텔에서 열린 축하파티 현장에서 총격을 받고 사망했다. 위키피디아케네디 전 대통령 암살범인 리 하비 오스월드가 이미 사망한 것과 달리 케네디 전 의원을 암살한 시르한은 생존해 캘리포니아 주 교도소에서 53년째 수감 중입니다. 1968년 42세 나이에 대선에 출마한 케네디 전 의원은 캘리포니아 주 예비선거에서 승리한 뒤 로스앤젤레스의 한 호텔에서 열린 축하행사 현장에서 시르한의 총격을 받고 사망했습니다. 케네디 전 대통령 암살 5년 후 비슷한 방식으로 동생이 암살됐다는 점, 마틴 루터 킹 목사 암살 2개월 후 터진 암살 사건이라는 점 등 때문에 케네디 전 의원 사망이 던진 충격파는 컸습니다. 1960년대 리버럴리즘(자유주의)을 상징하는 두 형제가 몇 년 간격으로 암살되면서 “카멜롯(태평성대) 시대의 종언” “케네디 가문의 저주” 등의 유행어가 생겨났습니다.시르한은 체포된 뒤 법정 진술에서 “케네디의 친(親)이스라엘 정책에 불만을 품고 범행을 저질렀다”고 자백했습니다. 하지만 이후 언론과의 옥중 인터뷰에서 “내 손에 총을 든 기억이 없다”고 주장하는 등 범행 여부에 대해 오락가락하는 모습을 보였습니다.로버트 케네디 전 상원의원 암살 혐의로 기소돼 유죄 판결을 받고 캘리포니아 주 샌디에이고 교도소에서 53년째 수감 중인 시르한 비샤라 시르한의 체포 당시와 현재 모습. 그는 당초 사형 판결을 받았으나 캘리포니아 주의 사형제가 폐지되면서 종신형으로 감형됐다. 로스앤젤레스타임스가석방 심사위원회는 지난해 8월 청문회에서 “더 이상 사회에 위협이 되지 않는다”면서 시르한에 대한 가석방 권고 결정을 내렸습니다. 16번째 심사 만에 처음 나온 권고 결정이었습니다. 앞선 심사 때마다 반대 의견을 냈던 캘리포니아 주 검찰도 지난해 8월 심사에서는 아무런 의견도 내지 않으면서 암묵적인 동의 의사를 표했습니다. 최근 캘리포니아 주가 일정 기간 형량을 마친 장기 수감자를 더 이상 감옥에 두지 않고 사회 복귀를 유도하는 법안을 통과시킨 것도 가석방 허용 분위기에 불을 지폈습니다. 하지만 가석방 시도가 최종 문턱에서 주지사에 의해 좌절되자 시르한 변호인단은 크게 반발했고, 법조계와 언론에서는 “의외의 결정”이라는 반응이 나왔습니다. 미국인들 사이에서는 “역시 케네디”라는 얘기가 흘러나왔습니다.뉴섬 주지사는 이례적으로 9장에 걸친 보도자료를 통해 가석방 권고를 거부한 이유를 상세히 설명했습니다. 로스앤젤레스타임스에 “왜 나는 시르한 시르한을 가석방하지 않기로 했나”라는 제목의 기고문도 게재했습니다. 시르한이 아직 자신의 범행을 온전히 인정하지 않는다는 점, 지금 출소하면 여전히 공공의 안전에 위협이 될 수 있다는 점 등 크게 두 가지 이유를 들었습니다. 주지사는 “시르한은 과거 자신이 내렸던 위험하고 파괴적인 결정들을 되풀이하지 않겠다는 통찰력을 보여주지 못했다”면서 “그는 아직 해야 할(뉘우칠) 일이 많다”고 했습니다. 그는 “형제애를 나눈 국민이 되기 위해서는 서로의 상처를 봉합하는 노력이 필요하다”는 케네디 전 의원의 발언을 인용하며 로스앤젤레스타임스 기고문을 끝맺었습니다.로버트 케네디 전 상원의원이 캘리포니아 주 예비선거 승리 후 손가락으로 ‘V’자를 그려 보이고 있다. 암살 전 마지막으로 공식 무대에 선 모습이다. 로버트 케네디 인권센터주지사의 적극적인 설명에도 불구하고 케네디 전 의원이 생전에 추구했던 사법 정신에 비춰볼 때 이번 결정은 “지나치다”는 평가가 지배적입니다. 존 F 케네디 행정부에서 법무장관을 지낸 케네디 전 의원은 재소자 인권 향상과 사법당국의 과잉 형량을 줄이는 데 힘을 쏟았기 때문입니다. 1963년 흉악범을 수용하는 감옥으로 사용됐던 앨커트래즈 교도소 폐쇄 결정을 내린 것도 당시 법무장관이던 케네디 전 의원이었습니다. 시르한 변호팀은 “가석방 거부 결정을 내리면서 교정 개혁을 중시했던 로버트 케네디를 거론한 것은 참 아이러니하다”고 비판했습니다.법조계에서는 주지사의 이번 결정이 정치적 판단에서 비롯된 것이라는 해석이 나옵니다. 뉴욕타임스는 “최근 낙마 위기를 극복한 주지사가 케네디 가문의 영향력을 계산에 넣지 않고 이번 결정을 내렸을 것으로 보기 힘들다”고 전했습니다. 시르한 변호팀 역시 “정치적 결정”이라고 비판했습니다.코로나19 봉쇄정책에 대한 주민 반발이 거세지면서 지난해 9월 소환투표에 회부됐던 뉴섬 주지사는 민주당의 지지를 발판으로 주지사직 사수에 성공했습니다. 조 바이든 대통령까지 캘리포니아를 찾아 주지사 지지 운동을 벌였습니다. 케네디 가문으로부터 어떤 도움을 받았는지는 알려지지 않았지만 뉴섬 주지사는 평소 케네디 전 의원에 대한 각별한 애정을 드러내왔습니다. 자신의 사무실 책상 위에 케네디 전 의원과 캘리포니아 주 고등법원 판사를 지낸 아버지가 함께 찍은 사진을 액자에 넣어 걸어두고 있다고 밝히기도 했습니다.로버트 케네디 전 상원의원과 에델 여사 부부가 10명의 자녀들과 동물원을 찾았을 때 모습. 11번째인 로리 케네디는 케네디 전 의원이 암살된 후 태어났다. 애틀랜타저널 컨스티튜션케네디 가문은 시르한 가석방 가능성이 제기되자 전방위적으로 반대 로비를 펼쳐왔습니다. 케네디 전 의원의 부인인 올해 94세의 에델 여사와 자녀 6명은 가석방 권고 결정이 나오자마자 뉴섬 주지사에게 “가석방을 허용하지 않기를 바란다”는 서한을 보냈습니다. 막내딸인 로리 케네디 영화감독은 뉴욕타임스 기고에서 “시르한은 가석방 자격이 없다”고 주장했습니다. 장남인 조 케네디 2세 전 하원의원은 보도자료를 통해 “우리 자녀들은 아빠를 그리워하며 자랐다”면서 “그 어떤 서류도, 법적인 결정도 이런 현실을 바꿀 수 없다”고 했습니다. 반면 셋째인 로버트 케네디 주니어 변호사와 열째인 더글러스 케네디 폭스뉴스 기자는 가해자를 용서한다며 가석방을 허용해달라는 탄원서를 제출했습니다. 케네디 전 의원은 에델 여사와의 사이에 11명의 자녀를 낳았고, 이중 2명이 사망했습니다.‘케네디’라는 이름은 미국인들에게 복합적인 감정을 유발합니다. 동경의 대상인 반면 자주 비판의 도마 위에 오르기도 합니다. 그동안 사회적 윤리와 법적 테두리를 넘는 각종 스캔들을 일으켜 비판의 대상이 됐다면 이번 시르한 가석방 거부 결정은 케네디 가문을 모처럼 피해자의 앵글에서 볼 수 있는 사건이었습니다. 감옥에서 노인으로 변한 시르한이 지금 가석방된다고 하더라도 공공의 위협이 될 가능성은 사실상 희박하지만 피해자 가족에게 용서는 힘든 단어임에 분명합니다. 2023년에 있을 다음 가석방 심사 때는 어떤 일이 펼쳐질지 주목됩니다.'"
      ]
     },
     "execution_count": 222,
     "metadata": {},
     "output_type": "execute_result"
    }
   ],
   "source": [
    "new_news = replace_word(\"박건후\", \"로버트\")\n",
    "marge_news = \"\"\n",
    "for i in range(len(new_news) - 1):\n",
    "    if new_news[i] != \"\\n\":\n",
    "        marge_news += new_news[i]\n",
    "marge_news\n",
    "    "
   ]
  },
  {
   "cell_type": "code",
   "execution_count": null,
   "id": "89d0892a",
   "metadata": {},
   "outputs": [],
   "source": []
  }
 ],
 "metadata": {
  "kernelspec": {
   "display_name": "Python 3 (ipykernel)",
   "language": "python",
   "name": "python3"
  },
  "language_info": {
   "codemirror_mode": {
    "name": "ipython",
    "version": 3
   },
   "file_extension": ".py",
   "mimetype": "text/x-python",
   "name": "python",
   "nbconvert_exporter": "python",
   "pygments_lexer": "ipython3",
   "version": "3.9.7"
  }
 },
 "nbformat": 4,
 "nbformat_minor": 5
}
