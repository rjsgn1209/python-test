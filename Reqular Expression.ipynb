{
 "cells": [
  {
   "cell_type": "markdown",
   "id": "4712d8c9",
   "metadata": {},
   "source": [
    "### 정규표현식\n",
    "* 특정 문자열의 패턴을 표현하는 식\n",
    "* 문자열 처리함수를 사용하는 것보다 복잡한 표현을 간결하게 표현"
   ]
  },
  {
   "cell_type": "code",
   "execution_count": 9,
   "id": "28950cd6",
   "metadata": {},
   "outputs": [],
   "source": [
    "import re"
   ]
  },
  {
   "cell_type": "markdown",
   "id": "2d927b1c",
   "metadata": {},
   "source": [
    "1. re.compile('정교표현식')\n",
    "* 정규표현식 패턴 객체 생성"
   ]
  },
  {
   "cell_type": "code",
   "execution_count": 16,
   "id": "30e9a235",
   "metadata": {},
   "outputs": [],
   "source": [
    "phonenum = re.compile(r'\\d\\d\\d-\\d\\d\\d-\\d\\d\\d') # \\d - 숫자\n",
    "mo = phonenum.search('My number is 415-555-4242') # search 매소드 - 일치하는 패턴 리턴"
   ]
  },
  {
   "cell_type": "code",
   "execution_count": 17,
   "id": "44666c1f",
   "metadata": {},
   "outputs": [
    {
     "data": {
      "text/plain": [
       "'415-555-424'"
      ]
     },
     "execution_count": 17,
     "metadata": {},
     "output_type": "execute_result"
    }
   ],
   "source": [
    "mo.group() # group 메소드 - 일치하는 패턴을 리턴.."
   ]
  },
  {
   "cell_type": "markdown",
   "id": "14e62e9e",
   "metadata": {},
   "source": [
    "2. search() 메소드\n",
    "* 일치하는 패턴 중에 첫번째 패턴을 리턴.."
   ]
  },
  {
   "cell_type": "code",
   "execution_count": 22,
   "id": "c23519cf",
   "metadata": {},
   "outputs": [
    {
     "data": {
      "text/plain": [
       "'415-555-424'"
      ]
     },
     "execution_count": 22,
     "metadata": {},
     "output_type": "execute_result"
    }
   ],
   "source": [
    "phonenum = re.compile(r'\\d\\d\\d-\\d\\d\\d-\\d\\d\\d')\n",
    "mo = phonenum.search('My number is 415-555-4242. Your number is 214-895-8547')\n",
    "mo.group()"
   ]
  },
  {
   "cell_type": "code",
   "execution_count": 24,
   "id": "81392b66",
   "metadata": {},
   "outputs": [
    {
     "data": {
      "text/plain": [
       "'415-555-424'"
      ]
     },
     "execution_count": 24,
     "metadata": {},
     "output_type": "execute_result"
    }
   ],
   "source": [
    "# () - 패턴의 그룹을 생성\n",
    "\n",
    "phonenum = re.compile(r'(\\d\\d\\d)-(\\d\\d\\d-\\d\\d\\d)')\n",
    "mo = phonenum.search('My number is 415-555-4242. Your number is 214-895-8547')\n",
    "mo.group()"
   ]
  },
  {
   "cell_type": "code",
   "execution_count": 25,
   "id": "d91300e8",
   "metadata": {},
   "outputs": [
    {
     "data": {
      "text/plain": [
       "'415'"
      ]
     },
     "execution_count": 25,
     "metadata": {},
     "output_type": "execute_result"
    }
   ],
   "source": [
    "mo.group(1)"
   ]
  },
  {
   "cell_type": "code",
   "execution_count": 26,
   "id": "d267dce4",
   "metadata": {},
   "outputs": [
    {
     "data": {
      "text/plain": [
       "'555-424'"
      ]
     },
     "execution_count": 26,
     "metadata": {},
     "output_type": "execute_result"
    }
   ],
   "source": [
    "mo.group(2)"
   ]
  },
  {
   "cell_type": "code",
   "execution_count": 28,
   "id": "151e0bea",
   "metadata": {},
   "outputs": [
    {
     "data": {
      "text/plain": [
       "'415'"
      ]
     },
     "execution_count": 28,
     "metadata": {},
     "output_type": "execute_result"
    }
   ],
   "source": [
    "mo.group().split('-')[0]"
   ]
  },
  {
   "cell_type": "code",
   "execution_count": null,
   "id": "5bd6a48d",
   "metadata": {},
   "outputs": [],
   "source": []
  },
  {
   "cell_type": "code",
   "execution_count": 30,
   "id": "cc7dd2a1",
   "metadata": {},
   "outputs": [],
   "source": [
    "regex = re.compile(r'Batman|Tina Fey') # '|' = or"
   ]
  },
  {
   "cell_type": "code",
   "execution_count": 34,
   "id": "ff78c122",
   "metadata": {},
   "outputs": [
    {
     "data": {
      "text/plain": [
       "'Batman'"
      ]
     },
     "execution_count": 34,
     "metadata": {},
     "output_type": "execute_result"
    }
   ],
   "source": [
    "mo = regex.search('Batman and Tina Fey')\n",
    "mo.group()"
   ]
  },
  {
   "cell_type": "code",
   "execution_count": null,
   "id": "d79042d5",
   "metadata": {},
   "outputs": [],
   "source": []
  },
  {
   "cell_type": "code",
   "execution_count": 50,
   "id": "01c448b6",
   "metadata": {},
   "outputs": [
    {
     "data": {
      "text/plain": [
       "'Batmobile'"
      ]
     },
     "execution_count": 50,
     "metadata": {},
     "output_type": "execute_result"
    }
   ],
   "source": [
    "regex = re.compile(r'Bat(man|mobile|copter|bat)')\n",
    "mo = regex.search('Batmobile lost a wheel')\n",
    "mo.group()"
   ]
  },
  {
   "cell_type": "code",
   "execution_count": 51,
   "id": "f5924920",
   "metadata": {},
   "outputs": [
    {
     "data": {
      "text/plain": [
       "'Batman'"
      ]
     },
     "execution_count": 51,
     "metadata": {},
     "output_type": "execute_result"
    }
   ],
   "source": [
    "regex = re.compile(r'Bat(wo)?man') # ? 앞의 패턴이 0번 또는 1번 반복되는 패턴\n",
    "mo = regex.search('The adventures of Batman')\n",
    "mo.group()"
   ]
  },
  {
   "cell_type": "code",
   "execution_count": 52,
   "id": "b8e2b3c7",
   "metadata": {},
   "outputs": [
    {
     "data": {
      "text/plain": [
       "'Batwoman'"
      ]
     },
     "execution_count": 52,
     "metadata": {},
     "output_type": "execute_result"
    }
   ],
   "source": [
    "regex = re.compile(r'Bat(wo)?man') # ? 앞의 패턴이 0번 또는 1번 반복되는 패턴\n",
    "mo = regex.search('The adventures of Batwoman')\n",
    "mo.group()"
   ]
  },
  {
   "cell_type": "code",
   "execution_count": 53,
   "id": "d289558d",
   "metadata": {},
   "outputs": [
    {
     "ename": "AttributeError",
     "evalue": "'NoneType' object has no attribute 'group'",
     "output_type": "error",
     "traceback": [
      "\u001b[1;31m---------------------------------------------------------------------------\u001b[0m",
      "\u001b[1;31mAttributeError\u001b[0m                            Traceback (most recent call last)",
      "\u001b[1;32m~\\AppData\\Local\\Temp/ipykernel_1280/3558968585.py\u001b[0m in \u001b[0;36m<module>\u001b[1;34m\u001b[0m\n\u001b[0;32m      1\u001b[0m \u001b[0mregex\u001b[0m \u001b[1;33m=\u001b[0m \u001b[0mre\u001b[0m\u001b[1;33m.\u001b[0m\u001b[0mcompile\u001b[0m\u001b[1;33m(\u001b[0m\u001b[1;34mr'Bat(wo)?man'\u001b[0m\u001b[1;33m)\u001b[0m \u001b[1;31m# ? 앞의 패턴이 0번 또는 1번 반복되는 패턴\u001b[0m\u001b[1;33m\u001b[0m\u001b[1;33m\u001b[0m\u001b[0m\n\u001b[0;32m      2\u001b[0m \u001b[0mmo\u001b[0m \u001b[1;33m=\u001b[0m \u001b[0mregex\u001b[0m\u001b[1;33m.\u001b[0m\u001b[0msearch\u001b[0m\u001b[1;33m(\u001b[0m\u001b[1;34m'The adventures of Batwowoman'\u001b[0m\u001b[1;33m)\u001b[0m\u001b[1;33m\u001b[0m\u001b[1;33m\u001b[0m\u001b[0m\n\u001b[1;32m----> 3\u001b[1;33m \u001b[0mmo\u001b[0m\u001b[1;33m.\u001b[0m\u001b[0mgroup\u001b[0m\u001b[1;33m(\u001b[0m\u001b[1;33m)\u001b[0m\u001b[1;33m\u001b[0m\u001b[1;33m\u001b[0m\u001b[0m\n\u001b[0m",
      "\u001b[1;31mAttributeError\u001b[0m: 'NoneType' object has no attribute 'group'"
     ]
    }
   ],
   "source": [
    "regex = re.compile(r'Bat(wo)?man') # ? 앞의 패턴이 0번 또는 1번 반복되는 패턴\n",
    "mo = regex.search('The adventures of Batwowoman')\n",
    "mo.group()"
   ]
  },
  {
   "cell_type": "code",
   "execution_count": 46,
   "id": "95a56a5d",
   "metadata": {},
   "outputs": [
    {
     "data": {
      "text/plain": [
       "'Batwoman'"
      ]
     },
     "execution_count": 46,
     "metadata": {},
     "output_type": "execute_result"
    }
   ],
   "source": [
    "regex = re.compile(r'Bat(wo)+man') # + 앞 패턴이 1번 이상 등장하는 패턴\n",
    "mo = regex.search('The adventures of Batwoman')\n",
    "mo.group()"
   ]
  },
  {
   "cell_type": "code",
   "execution_count": 47,
   "id": "5441fa20",
   "metadata": {},
   "outputs": [
    {
     "data": {
      "text/plain": [
       "'Batwowowoman'"
      ]
     },
     "execution_count": 47,
     "metadata": {},
     "output_type": "execute_result"
    }
   ],
   "source": [
    "regex = re.compile(r'Bat(wo)+man') # + 앞 패턴이 1번 이상 등장하는 패턴\n",
    "mo = regex.search('The adventures of Batwowowoman')\n",
    "mo.group()"
   ]
  },
  {
   "cell_type": "code",
   "execution_count": null,
   "id": "cefcf327",
   "metadata": {},
   "outputs": [],
   "source": []
  },
  {
   "cell_type": "code",
   "execution_count": 43,
   "id": "0c5ea039",
   "metadata": {},
   "outputs": [
    {
     "data": {
      "text/plain": [
       "'Batwoman'"
      ]
     },
     "execution_count": 43,
     "metadata": {},
     "output_type": "execute_result"
    }
   ],
   "source": [
    "regex = re.compile(r'Bat(wo)+man') # + 앞 패턴이 1번 이상 등장하는 패턴\n",
    "mo = regex.search('The adventures of Batwoman')\n",
    "mo.group()"
   ]
  },
  {
   "cell_type": "code",
   "execution_count": 49,
   "id": "cceaa1e4",
   "metadata": {},
   "outputs": [
    {
     "data": {
      "text/plain": [
       "'Batwoman'"
      ]
     },
     "execution_count": 49,
     "metadata": {},
     "output_type": "execute_result"
    }
   ],
   "source": [
    "regex = re.compile(r'Bat(wo)*man') # * 앞 패턴이 0번 이상 등장하는 패2턴\n",
    "mo = regex.search('The adventures of Batwoman')\n",
    "mo.group()"
   ]
  },
  {
   "cell_type": "code",
   "execution_count": 54,
   "id": "7616216b",
   "metadata": {},
   "outputs": [
    {
     "data": {
      "text/plain": [
       "'Batman'"
      ]
     },
     "execution_count": 54,
     "metadata": {},
     "output_type": "execute_result"
    }
   ],
   "source": [
    "regex = re.compile(r'Bat(wo)*man') # * 앞 패턴이 0번 이상 등장하는 패2턴\n",
    "mo = regex.search('The adventures of Batman')\n",
    "mo.group()"
   ]
  },
  {
   "cell_type": "code",
   "execution_count": 55,
   "id": "2b93cc81",
   "metadata": {},
   "outputs": [
    {
     "data": {
      "text/plain": [
       "'Batwowowoman'"
      ]
     },
     "execution_count": 55,
     "metadata": {},
     "output_type": "execute_result"
    }
   ],
   "source": [
    "regex = re.compile(r'Bat(wo)*man') # * 앞 패턴이 0번 이상 등장하는 패2턴\n",
    "mo = regex.search('The adventures of Batwowowoman')\n",
    "mo.group()"
   ]
  },
  {
   "cell_type": "code",
   "execution_count": null,
   "id": "83ee67c3",
   "metadata": {},
   "outputs": [],
   "source": []
  },
  {
   "cell_type": "code",
   "execution_count": null,
   "id": "bcb232ec",
   "metadata": {},
   "outputs": [],
   "source": []
  },
  {
   "cell_type": "code",
   "execution_count": 58,
   "id": "30699257",
   "metadata": {},
   "outputs": [
    {
     "data": {
      "text/plain": [
       "'Batwowoman'"
      ]
     },
     "execution_count": 58,
     "metadata": {},
     "output_type": "execute_result"
    }
   ],
   "source": [
    "regex = re.compile(r'Bat(wo){2}man') # {n} - 반복횟수를 지정\n",
    "mo = regex.search('The adventures of Batwowoman')\n",
    "mo.group()"
   ]
  },
  {
   "cell_type": "code",
   "execution_count": 66,
   "id": "5886d20e",
   "metadata": {},
   "outputs": [
    {
     "data": {
      "text/plain": [
       "'Batwowowowoman'"
      ]
     },
     "execution_count": 66,
     "metadata": {},
     "output_type": "execute_result"
    }
   ],
   "source": [
    "regex = re.compile(r'Bat(wo){2,4}man') # {n,m} - 반복횟수 구간을 지정\n",
    "mo = regex.search('The adventures of Batwowowowoman')\n",
    "mo.group()"
   ]
  },
  {
   "cell_type": "code",
   "execution_count": 66,
   "id": "ff55c9a9",
   "metadata": {},
   "outputs": [
    {
     "data": {
      "text/plain": [
       "'Batwowowowoman'"
      ]
     },
     "execution_count": 66,
     "metadata": {},
     "output_type": "execute_result"
    }
   ],
   "source": [
    "regex = re.compile(r'Bat(wo){2,4}man') # {n,m} - 반복횟수 구간을 지정\n",
    "mo = regex.search('The adventures of Batwowowowoman')\n",
    "mo.group()"
   ]
  },
  {
   "cell_type": "code",
   "execution_count": null,
   "id": "1bd5a06f",
   "metadata": {},
   "outputs": [],
   "source": []
  },
  {
   "cell_type": "code",
   "execution_count": 43,
   "id": "b78f3637",
   "metadata": {},
   "outputs": [
    {
     "data": {
      "text/plain": [
       "'Batwoman'"
      ]
     },
     "execution_count": 43,
     "metadata": {},
     "output_type": "execute_result"
    }
   ],
   "source": [
    "regex = re.compile(r'Bat(wo)+man') # 앞 패턴이 1번 이상 등장하는 패턴\n",
    "mo = regex.search('The adventures of Batwoman')\n",
    "mo.group()"
   ]
  },
  {
   "cell_type": "code",
   "execution_count": 58,
   "id": "fbb0ab7d",
   "metadata": {},
   "outputs": [
    {
     "data": {
      "text/plain": [
       "'Batwowoman'"
      ]
     },
     "execution_count": 58,
     "metadata": {},
     "output_type": "execute_result"
    }
   ],
   "source": [
    "regex = re.compile(r'Bat(wo){2}man') # {n} - 반복횟수를 지정\n",
    "mo = regex.search('The adventures of Batwowoman')\n",
    "mo.group()"
   ]
  },
  {
   "cell_type": "markdown",
   "id": "7244e553",
   "metadata": {},
   "source": [
    "3. findall() 메소드\n",
    "* 일치하는 모든 패턴을 리스트 형식으로 리턴"
   ]
  },
  {
   "cell_type": "code",
   "execution_count": 70,
   "id": "dd45146d",
   "metadata": {},
   "outputs": [
    {
     "data": {
      "text/plain": [
       "'415-888-5478'"
      ]
     },
     "execution_count": 70,
     "metadata": {},
     "output_type": "execute_result"
    }
   ],
   "source": [
    "phonenum = re.compile(r\"\\d\\d\\d-\\d\\d\\d-\\d\\d\\d\\d\")\n",
    "mo = phonenum.search('call: 415-888-5478, work : 212-548-8965')\n",
    "mo.group()"
   ]
  },
  {
   "cell_type": "code",
   "execution_count": 71,
   "id": "bb9ae7a0",
   "metadata": {},
   "outputs": [
    {
     "data": {
      "text/plain": [
       "['415-888-5478', '212-548-8965']"
      ]
     },
     "execution_count": 71,
     "metadata": {},
     "output_type": "execute_result"
    }
   ],
   "source": [
    "phonenum = re.compile(r\"\\d\\d\\d-\\d\\d\\d-\\d\\d\\d\\d\")\n",
    "phonenum.findall('call: 415-888-5478, work : 212-548-8965')"
   ]
  },
  {
   "cell_type": "code",
   "execution_count": null,
   "id": "685825f5",
   "metadata": {},
   "outputs": [],
   "source": []
  },
  {
   "cell_type": "code",
   "execution_count": 75,
   "id": "c862576d",
   "metadata": {},
   "outputs": [
    {
     "data": {
      "text/plain": [
       "['12 drummers', '11 pipers', '10 lords', '9 ladies', '8 maids', '6 eggs']"
      ]
     },
     "execution_count": 75,
     "metadata": {},
     "output_type": "execute_result"
    }
   ],
   "source": [
    "regex = re.compile(r'\\d+\\s\\w+') # \\d - 숫자 \\s - 스페이스, 탭, 줄바꿈, \\w - 문자, 숫자, _\n",
    "regex.findall('12 drummers, 11 pipers, 10 lords, 9 ladies, 8 maids, 6 eggs')"
   ]
  },
  {
   "cell_type": "markdown",
   "id": "95d1904c",
   "metadata": {},
   "source": [
    "4. 사용자 정의 정규표현식 => []\n",
    "* 사용자가 정의하는 패턴\n",
    "* [aeiouAEIOU] => 영문자 모음\n",
    "* [a-z,A-z] => 영문자 소문자 대문자\n",
    "* [0-9] 모든 숫자\n",
    "* '-' => 범위지정\n",
    "* ^ => 부정"
   ]
  },
  {
   "cell_type": "code",
   "execution_count": 78,
   "id": "1d4c12ce",
   "metadata": {},
   "outputs": [
    {
     "data": {
      "text/plain": [
       "['o', 'o', 'a', 'e', 'a', 'a', 'o', 'o', 'a', 'O', 'O']"
      ]
     },
     "execution_count": 78,
     "metadata": {},
     "output_type": "execute_result"
    }
   ],
   "source": [
    "regex = re.compile(r'[aeiouAEIOU]')\n",
    "regex.findall('Robocab eats baby food BaBy FOOD')"
   ]
  },
  {
   "cell_type": "code",
   "execution_count": 79,
   "id": "cf7489df",
   "metadata": {},
   "outputs": [
    {
     "data": {
      "text/plain": [
       "['R',\n",
       " 'b',\n",
       " 'c',\n",
       " 'b',\n",
       " ' ',\n",
       " 't',\n",
       " 's',\n",
       " ' ',\n",
       " 'b',\n",
       " 'b',\n",
       " 'y',\n",
       " ' ',\n",
       " 'f',\n",
       " 'd',\n",
       " ' ',\n",
       " 'B',\n",
       " 'B',\n",
       " 'y',\n",
       " ' ',\n",
       " 'F',\n",
       " 'D']"
      ]
     },
     "execution_count": 79,
     "metadata": {},
     "output_type": "execute_result"
    }
   ],
   "source": [
    "regex = re.compile(r'[^aeiouAEIOU]')\n",
    "regex.findall('Robocab eats baby food BaBy FOOD')"
   ]
  },
  {
   "cell_type": "code",
   "execution_count": null,
   "id": "e8d40e86",
   "metadata": {},
   "outputs": [],
   "source": []
  },
  {
   "cell_type": "markdown",
   "id": "2de2aa6f",
   "metadata": {},
   "source": [
    "5.\n",
    "* ^ - 문자열의 시작 부분과 일치\n",
    "* $ - 문자열의 끝부분과 일치"
   ]
  },
  {
   "cell_type": "code",
   "execution_count": 85,
   "id": "f237aa61",
   "metadata": {},
   "outputs": [
    {
     "data": {
      "text/plain": [
       "['Hello']"
      ]
     },
     "execution_count": 85,
     "metadata": {},
     "output_type": "execute_result"
    }
   ],
   "source": [
    "regex = re.compile(r\"^Hello\")\n",
    "regex.findall(\"Hello python\")"
   ]
  },
  {
   "cell_type": "code",
   "execution_count": 86,
   "id": "c9faddad",
   "metadata": {},
   "outputs": [
    {
     "data": {
      "text/plain": [
       "[]"
      ]
     },
     "execution_count": 86,
     "metadata": {},
     "output_type": "execute_result"
    }
   ],
   "source": [
    "regex = re.compile(r\"^Hello\")\n",
    "regex.findall(\"python Hello\")"
   ]
  },
  {
   "cell_type": "code",
   "execution_count": 88,
   "id": "2e606a25",
   "metadata": {},
   "outputs": [
    {
     "data": {
      "text/plain": [
       "['42']"
      ]
     },
     "execution_count": 88,
     "metadata": {},
     "output_type": "execute_result"
    }
   ],
   "source": [
    "regex = re.compile(r\"\\d+$\")\n",
    "regex.findall(\"Your number55 is 42\")"
   ]
  },
  {
   "cell_type": "code",
   "execution_count": null,
   "id": "470456cf",
   "metadata": {},
   "outputs": [],
   "source": []
  },
  {
   "cell_type": "code",
   "execution_count": 85,
   "id": "b96d98ef",
   "metadata": {},
   "outputs": [
    {
     "data": {
      "text/plain": [
       "['Hello']"
      ]
     },
     "execution_count": 85,
     "metadata": {},
     "output_type": "execute_result"
    }
   ],
   "source": [
    "regex = re.compile(r\"^Hello\")\n",
    "regex.findall(\"Hello python\")"
   ]
  },
  {
   "cell_type": "code",
   "execution_count": 85,
   "id": "bae70348",
   "metadata": {},
   "outputs": [
    {
     "data": {
      "text/plain": [
       "['Hello']"
      ]
     },
     "execution_count": 85,
     "metadata": {},
     "output_type": "execute_result"
    }
   ],
   "source": [
    "regex = re.compile(r\"^Hello\")\n",
    "regex.findall(\"Hello python\")"
   ]
  },
  {
   "cell_type": "markdown",
   "id": "50e4b727",
   "metadata": {},
   "source": [
    "6. sub()\n",
    "*  매칭이 되는 문자열을 다른 값으로 대체.."
   ]
  },
  {
   "cell_type": "code",
   "execution_count": 96,
   "id": "f62eabe9",
   "metadata": {},
   "outputs": [
    {
     "data": {
      "text/plain": [
       "'Censord gave the secret documents of Censord'"
      ]
     },
     "execution_count": 96,
     "metadata": {},
     "output_type": "execute_result"
    }
   ],
   "source": [
    "regex = re.compile(r'Agent \\w+')\n",
    "regex.sub('Censord', 'Agent Alice gave the secret documents of Agent Bob')"
   ]
  },
  {
   "cell_type": "code",
   "execution_count": 97,
   "id": "1165f593",
   "metadata": {},
   "outputs": [
    {
     "data": {
      "text/plain": [
       "'Agent Al**** gave the secret documents of Agent Bo****'"
      ]
     },
     "execution_count": 97,
     "metadata": {},
     "output_type": "execute_result"
    }
   ],
   "source": [
    "regex = re.compile(r'Agent (\\w{2})\\w*')\n",
    "regex.sub(r'Agent \\1****', 'Agent Alice gave the secret documents of Agent Bob')"
   ]
  },
  {
   "cell_type": "code",
   "execution_count": 85,
   "id": "a1487cae",
   "metadata": {},
   "outputs": [
    {
     "data": {
      "text/plain": [
       "['Hello']"
      ]
     },
     "execution_count": 85,
     "metadata": {},
     "output_type": "execute_result"
    }
   ],
   "source": [
    "regex = re.compile(r\"^Hello\")\n",
    "regex.findall(\"Hello python\")"
   ]
  },
  {
   "cell_type": "markdown",
   "id": "e6948996",
   "metadata": {},
   "source": [
    "<!-- # 반복\n",
    "* + - 한번 이상 등장하는 패턴\n",
    "* * - 0번 이상 등장하는 패턴\n",
    "* ? - 0번 또는 1번 등장하는 패턴\n",
    "* {} - 특정한 반복 횟수를 지정\n",
    "\n",
    "# 사용자 정의 표현식\n",
    "* []\n",
    "* [ariou] - 소문자 모음\n",
    "* [^xyz] - x, y, z를 제외한 패턴\n",
    "* - - 범위 지정\n",
    "* [a-zA-Z0-9] - 영 대소문자 및 숫자\n",
    "* ^ - not\n",
    "\n",
    "# 주요 메소드\n",
    "* search - 패턴과 일치하느 첫 번째 문자열\n",
    "* findall - 패턴과 일치하는 모든 문자열\n",
    "* sub - 패턴과 일치하는 문자열을 다른 문자열로 대체\n",
    "\n",
    "# 매칭\n",
    "* \".\" - 줄 바꿈 이외의 모든 한 개의 문자와 일치\n",
    "* \"^\" - 줄의 시작\n",
    "* \"$\" - 줄의 끝과 일치 -->"
   ]
  },
  {
   "cell_type": "code",
   "execution_count": 100,
   "id": "b0e59fd5",
   "metadata": {},
   "outputs": [],
   "source": [
    "import re "
   ]
  },
  {
   "cell_type": "code",
   "execution_count": 103,
   "id": "6f597504",
   "metadata": {},
   "outputs": [
    {
     "data": {
      "text/plain": [
       "['02-3454-7355', '02-354-8547']"
      ]
     },
     "execution_count": 103,
     "metadata": {},
     "output_type": "execute_result"
    }
   ],
   "source": [
    "# 전화번호를 출력..\n",
    "text = '문의사항은 02-3454-7355으로 연락주세요. \\\n",
    "비상 시에는 02-354-8547로 연락주세요'\n",
    "\n",
    "regex = re.compile('\\d{2,3}-\\d+-\\d+')\n",
    "regex.findall(text)"
   ]
  },
  {
   "cell_type": "code",
   "execution_count": 105,
   "id": "f899376c",
   "metadata": {},
   "outputs": [
    {
     "data": {
      "text/plain": [
       "['10', '234', '8']"
      ]
     },
     "execution_count": 105,
     "metadata": {},
     "output_type": "execute_result"
    }
   ],
   "source": [
    "# 숫자만 출력..\n",
    "regex = re.compile('[0-9]+')\n",
    "regex.findall('문자열 10 중간에 234 숫자가 8개 있습니다..')"
   ]
  },
  {
   "cell_type": "code",
   "execution_count": 106,
   "id": "7297d0a6",
   "metadata": {},
   "outputs": [
    {
     "data": {
      "text/plain": [
       "['10', '234', '8']"
      ]
     },
     "execution_count": 106,
     "metadata": {},
     "output_type": "execute_result"
    }
   ],
   "source": [
    "regex = re.compile('\\d+')\n",
    "regex.findall('문자열 10 중간에 234 숫자가 8개 있습니다..')"
   ]
  },
  {
   "cell_type": "code",
   "execution_count": 108,
   "id": "5988cc05",
   "metadata": {},
   "outputs": [
    {
     "data": {
      "text/plain": [
       "['sky777@gmail.com', 'sky777@bitcamp.comp']"
      ]
     },
     "execution_count": 108,
     "metadata": {},
     "output_type": "execute_result"
    }
   ],
   "source": [
    "# 이메일 찾기\n",
    "text = '저의 이메일은 sky777@gmail.com입니다. \\\n",
    "회사 이메일은 sky777@bitcamp.company'\n",
    "regex = re.compile('[a-zA-Z0-9_+.-]+@[a-zA-Z0-9]+\\.+[a-z0-9]{2,4}')\n",
    "regex.findall(text)"
   ]
  },
  {
   "cell_type": "code",
   "execution_count": 111,
   "id": "b1f5f0e5",
   "metadata": {},
   "outputs": [
    {
     "data": {
      "text/plain": [
       "['http://www.home.com', 'https://www.firm.com']"
      ]
     },
     "execution_count": 111,
     "metadata": {},
     "output_type": "execute_result"
    }
   ],
   "source": [
    "# url 추출\n",
    "\n",
    "text = '저의 홈페이지는 http://www.home.com입니다. \\\n",
    "회사 홈페이지는 https://www.firm.com입니다'\n",
    "\n",
    "regex = re.compile('http[s]?://w{3}\\.[a-zA-Z0-9]*\\.[a-z]*')\n",
    "regex.findall(text)"
   ]
  },
  {
   "cell_type": "code",
   "execution_count": 113,
   "id": "bdf4b1bc",
   "metadata": {},
   "outputs": [
    {
     "data": {
      "text/plain": [
       "['123456.78']"
      ]
     },
     "execution_count": 113,
     "metadata": {},
     "output_type": "execute_result"
    }
   ],
   "source": [
    "# 금액만 추출\n",
    "text = '총 금액은 123456.78원 입니다..'\n",
    "\n",
    "re.findall('\\d+\\.\\d*', text)\n"
   ]
  },
  {
   "cell_type": "code",
   "execution_count": 117,
   "id": "4366c232",
   "metadata": {},
   "outputs": [
    {
     "data": {
      "text/plain": [
       "['2015년 2월 15일', '2017년 08월 22일']"
      ]
     },
     "execution_count": 117,
     "metadata": {},
     "output_type": "execute_result"
    }
   ],
   "source": [
    "# 날짜만 추출\n",
    "text = '계약 시작일 2015년 2월 15일, 계약 종료일 2017년 08월 22일'\n",
    "\n",
    "re.findall('\\d+년 \\d+월 \\d+일', text)"
   ]
  },
  {
   "cell_type": "code",
   "execution_count": null,
   "id": "d6622c24",
   "metadata": {},
   "outputs": [],
   "source": []
  },
  {
   "cell_type": "code",
   "execution_count": 118,
   "id": "e8e4a019",
   "metadata": {},
   "outputs": [
    {
     "data": {
      "text/plain": [
       "'계약 시작일 **년 **월 **일, 계약 종료일 **년 **월 **일'"
      ]
     },
     "execution_count": 118,
     "metadata": {},
     "output_type": "execute_result"
    }
   ],
   "source": [
    "# 날짜만 추출\n",
    "text = '계약 시작일 2015년 2월 15일, 계약 종료일 2017년 08월 22일'\n",
    "\n",
    "re.sub('((\\d+)년 (\\d+)월 (\\d+)일)', '**년 **월 **일', text)"
   ]
  },
  {
   "cell_type": "code",
   "execution_count": null,
   "id": "40abed51",
   "metadata": {},
   "outputs": [],
   "source": []
  },
  {
   "cell_type": "code",
   "execution_count": 123,
   "id": "6280c757",
   "metadata": {},
   "outputs": [
    {
     "data": {
      "text/plain": [
       "['223.62.180.95', '211.244.131.169', '192.5.90.39']"
      ]
     },
     "execution_count": 123,
     "metadata": {},
     "output_type": "execute_result"
    }
   ],
   "source": [
    "log_data = \"\"\"\n",
    "223.62.180.95 - - [07/Mar/2014:00:00:06 +0900] \"GET /trapi/mts/Check.jsp HTTP/1.1\" 200\n",
    "211.244.131.169 - - [07/Mar/2014:00:00:19 +0900] \"GET /trapi/mts/Check.jsp HTTP/1.1\" 200\n",
    "192.5.90.39 - - [07/Mar/2014:00:00:26 +0900] \"GET / HTTP/1. 1\" 200 1964\n",
    "\"\"\"\n",
    "\n",
    "# IP만 추출하기..\n",
    "\n",
    "re.findall('\\d+\\.\\d+\\.\\d+\\.\\d+', log_data)"
   ]
  },
  {
   "cell_type": "code",
   "execution_count": null,
   "id": "594983c4",
   "metadata": {},
   "outputs": [],
   "source": []
  },
  {
   "cell_type": "code",
   "execution_count": null,
   "id": "4d0c74b2",
   "metadata": {},
   "outputs": [],
   "source": []
  },
  {
   "cell_type": "code",
   "execution_count": null,
   "id": "a07ee01d",
   "metadata": {},
   "outputs": [],
   "source": []
  },
  {
   "cell_type": "code",
   "execution_count": null,
   "id": "4ff349a1",
   "metadata": {},
   "outputs": [],
   "source": []
  }
 ],
 "metadata": {
  "kernelspec": {
   "display_name": "Python 3 (ipykernel)",
   "language": "python",
   "name": "python3"
  },
  "language_info": {
   "codemirror_mode": {
    "name": "ipython",
    "version": 3
   },
   "file_extension": ".py",
   "mimetype": "text/x-python",
   "name": "python",
   "nbconvert_exporter": "python",
   "pygments_lexer": "ipython3",
   "version": "3.9.7"
  }
 },
 "nbformat": 4,
 "nbformat_minor": 5
}
